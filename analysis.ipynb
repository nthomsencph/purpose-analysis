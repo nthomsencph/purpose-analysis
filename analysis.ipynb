{
 "cells": [
  {
   "cell_type": "code",
   "execution_count": 1,
   "metadata": {},
   "outputs": [],
   "source": [
    "from pathlib import Path\n",
    "import plotly.express as px\n",
    "from sklearn.cluster import KMeans\n",
    "from sklearn.decomposition import PCA\n",
    "import pandas as pd\n",
    "from scipy.stats import chi2_contingency\n",
    "from itertools import combinations"
   ]
  },
  {
   "cell_type": "code",
   "execution_count": 2,
   "metadata": {},
   "outputs": [],
   "source": [
    "pd.options.plotting.backend = \"plotly\""
   ]
  },
  {
   "cell_type": "markdown",
   "metadata": {},
   "source": [
    "### Load results"
   ]
  },
  {
   "cell_type": "code",
   "execution_count": 4,
   "metadata": {},
   "outputs": [],
   "source": [
    "dataf = pd.read_csv(\"data/classified-mapped.csv\").assign(**{\n",
    "    \"Purpose Categories\": lambda d: d[\"Purpose Categories\"].apply(lambda x: eval(x))\n",
    "})"
   ]
  },
  {
   "cell_type": "markdown",
   "metadata": {},
   "source": [
    "### Analysis"
   ]
  },
  {
   "cell_type": "markdown",
   "metadata": {},
   "source": [
    "#### Category distribution"
   ]
  },
  {
   "cell_type": "code",
   "execution_count": 5,
   "metadata": {},
   "outputs": [
    {
     "data": {
      "text/plain": [
       "Purpose Categories\n",
       "Sustainability                             204\n",
       "Innovation, Transformation & Technology    203\n",
       "Customer centrism                          165\n",
       "Positive impact                             88\n",
       "Stakeholder value                           87\n",
       "Leadership & Excellence                     67\n",
       "Well-being                                  57\n",
       "Efficiency & Improvement                    46\n",
       "Growth                                      41\n",
       "Community & Collaboration                   37\n",
       "Principles                                  34\n",
       "Corporate culture & Inclusivity             24\n",
       "Corporate responsibility                    18\n",
       "Accessibility                               18\n",
       "Empowerment                                 17\n",
       "Responsibility                              15\n",
       "Affordability                               12\n",
       "Uncategorized                                3\n",
       "Name: count, dtype: int64"
      ]
     },
     "execution_count": 5,
     "metadata": {},
     "output_type": "execute_result"
    }
   ],
   "source": [
    "dataf[\"Purpose Categories\"].explode().value_counts()"
   ]
  },
  {
   "cell_type": "code",
   "execution_count": 6,
   "metadata": {},
   "outputs": [
    {
     "data": {
      "application/vnd.plotly.v1+json": {
       "config": {
        "plotlyServerURL": "https://plot.ly"
       },
       "data": [
        {
         "alignmentgroup": "True",
         "hovertemplate": "variable=count<br>Purpose Categories=%{x}<br>value=%{y}<extra></extra>",
         "legendgroup": "count",
         "marker": {
          "color": "#636efa",
          "pattern": {
           "shape": ""
          }
         },
         "name": "count",
         "offsetgroup": "count",
         "orientation": "v",
         "showlegend": true,
         "textposition": "auto",
         "type": "bar",
         "x": [
          "Sustainability",
          "Innovation, Transformation & Technology",
          "Customer centrism",
          "Positive impact",
          "Stakeholder value",
          "Leadership & Excellence",
          "Well-being",
          "Efficiency & Improvement",
          "Growth",
          "Community & Collaboration",
          "Principles",
          "Corporate culture & Inclusivity",
          "Corporate responsibility",
          "Accessibility",
          "Empowerment",
          "Responsibility",
          "Affordability",
          "Uncategorized"
         ],
         "xaxis": "x",
         "y": [
          204,
          203,
          165,
          88,
          87,
          67,
          57,
          46,
          41,
          37,
          34,
          24,
          18,
          18,
          17,
          15,
          12,
          3
         ],
         "yaxis": "y"
        }
       ],
       "layout": {
        "barmode": "relative",
        "legend": {
         "title": {
          "text": "variable"
         },
         "tracegroupgap": 0
        },
        "margin": {
         "t": 60
        },
        "template": {
         "data": {
          "bar": [
           {
            "error_x": {
             "color": "#2a3f5f"
            },
            "error_y": {
             "color": "#2a3f5f"
            },
            "marker": {
             "line": {
              "color": "#E5ECF6",
              "width": 0.5
             },
             "pattern": {
              "fillmode": "overlay",
              "size": 10,
              "solidity": 0.2
             }
            },
            "type": "bar"
           }
          ],
          "barpolar": [
           {
            "marker": {
             "line": {
              "color": "#E5ECF6",
              "width": 0.5
             },
             "pattern": {
              "fillmode": "overlay",
              "size": 10,
              "solidity": 0.2
             }
            },
            "type": "barpolar"
           }
          ],
          "carpet": [
           {
            "aaxis": {
             "endlinecolor": "#2a3f5f",
             "gridcolor": "white",
             "linecolor": "white",
             "minorgridcolor": "white",
             "startlinecolor": "#2a3f5f"
            },
            "baxis": {
             "endlinecolor": "#2a3f5f",
             "gridcolor": "white",
             "linecolor": "white",
             "minorgridcolor": "white",
             "startlinecolor": "#2a3f5f"
            },
            "type": "carpet"
           }
          ],
          "choropleth": [
           {
            "colorbar": {
             "outlinewidth": 0,
             "ticks": ""
            },
            "type": "choropleth"
           }
          ],
          "contour": [
           {
            "colorbar": {
             "outlinewidth": 0,
             "ticks": ""
            },
            "colorscale": [
             [
              0,
              "#0d0887"
             ],
             [
              0.1111111111111111,
              "#46039f"
             ],
             [
              0.2222222222222222,
              "#7201a8"
             ],
             [
              0.3333333333333333,
              "#9c179e"
             ],
             [
              0.4444444444444444,
              "#bd3786"
             ],
             [
              0.5555555555555556,
              "#d8576b"
             ],
             [
              0.6666666666666666,
              "#ed7953"
             ],
             [
              0.7777777777777778,
              "#fb9f3a"
             ],
             [
              0.8888888888888888,
              "#fdca26"
             ],
             [
              1,
              "#f0f921"
             ]
            ],
            "type": "contour"
           }
          ],
          "contourcarpet": [
           {
            "colorbar": {
             "outlinewidth": 0,
             "ticks": ""
            },
            "type": "contourcarpet"
           }
          ],
          "heatmap": [
           {
            "colorbar": {
             "outlinewidth": 0,
             "ticks": ""
            },
            "colorscale": [
             [
              0,
              "#0d0887"
             ],
             [
              0.1111111111111111,
              "#46039f"
             ],
             [
              0.2222222222222222,
              "#7201a8"
             ],
             [
              0.3333333333333333,
              "#9c179e"
             ],
             [
              0.4444444444444444,
              "#bd3786"
             ],
             [
              0.5555555555555556,
              "#d8576b"
             ],
             [
              0.6666666666666666,
              "#ed7953"
             ],
             [
              0.7777777777777778,
              "#fb9f3a"
             ],
             [
              0.8888888888888888,
              "#fdca26"
             ],
             [
              1,
              "#f0f921"
             ]
            ],
            "type": "heatmap"
           }
          ],
          "heatmapgl": [
           {
            "colorbar": {
             "outlinewidth": 0,
             "ticks": ""
            },
            "colorscale": [
             [
              0,
              "#0d0887"
             ],
             [
              0.1111111111111111,
              "#46039f"
             ],
             [
              0.2222222222222222,
              "#7201a8"
             ],
             [
              0.3333333333333333,
              "#9c179e"
             ],
             [
              0.4444444444444444,
              "#bd3786"
             ],
             [
              0.5555555555555556,
              "#d8576b"
             ],
             [
              0.6666666666666666,
              "#ed7953"
             ],
             [
              0.7777777777777778,
              "#fb9f3a"
             ],
             [
              0.8888888888888888,
              "#fdca26"
             ],
             [
              1,
              "#f0f921"
             ]
            ],
            "type": "heatmapgl"
           }
          ],
          "histogram": [
           {
            "marker": {
             "pattern": {
              "fillmode": "overlay",
              "size": 10,
              "solidity": 0.2
             }
            },
            "type": "histogram"
           }
          ],
          "histogram2d": [
           {
            "colorbar": {
             "outlinewidth": 0,
             "ticks": ""
            },
            "colorscale": [
             [
              0,
              "#0d0887"
             ],
             [
              0.1111111111111111,
              "#46039f"
             ],
             [
              0.2222222222222222,
              "#7201a8"
             ],
             [
              0.3333333333333333,
              "#9c179e"
             ],
             [
              0.4444444444444444,
              "#bd3786"
             ],
             [
              0.5555555555555556,
              "#d8576b"
             ],
             [
              0.6666666666666666,
              "#ed7953"
             ],
             [
              0.7777777777777778,
              "#fb9f3a"
             ],
             [
              0.8888888888888888,
              "#fdca26"
             ],
             [
              1,
              "#f0f921"
             ]
            ],
            "type": "histogram2d"
           }
          ],
          "histogram2dcontour": [
           {
            "colorbar": {
             "outlinewidth": 0,
             "ticks": ""
            },
            "colorscale": [
             [
              0,
              "#0d0887"
             ],
             [
              0.1111111111111111,
              "#46039f"
             ],
             [
              0.2222222222222222,
              "#7201a8"
             ],
             [
              0.3333333333333333,
              "#9c179e"
             ],
             [
              0.4444444444444444,
              "#bd3786"
             ],
             [
              0.5555555555555556,
              "#d8576b"
             ],
             [
              0.6666666666666666,
              "#ed7953"
             ],
             [
              0.7777777777777778,
              "#fb9f3a"
             ],
             [
              0.8888888888888888,
              "#fdca26"
             ],
             [
              1,
              "#f0f921"
             ]
            ],
            "type": "histogram2dcontour"
           }
          ],
          "mesh3d": [
           {
            "colorbar": {
             "outlinewidth": 0,
             "ticks": ""
            },
            "type": "mesh3d"
           }
          ],
          "parcoords": [
           {
            "line": {
             "colorbar": {
              "outlinewidth": 0,
              "ticks": ""
             }
            },
            "type": "parcoords"
           }
          ],
          "pie": [
           {
            "automargin": true,
            "type": "pie"
           }
          ],
          "scatter": [
           {
            "fillpattern": {
             "fillmode": "overlay",
             "size": 10,
             "solidity": 0.2
            },
            "type": "scatter"
           }
          ],
          "scatter3d": [
           {
            "line": {
             "colorbar": {
              "outlinewidth": 0,
              "ticks": ""
             }
            },
            "marker": {
             "colorbar": {
              "outlinewidth": 0,
              "ticks": ""
             }
            },
            "type": "scatter3d"
           }
          ],
          "scattercarpet": [
           {
            "marker": {
             "colorbar": {
              "outlinewidth": 0,
              "ticks": ""
             }
            },
            "type": "scattercarpet"
           }
          ],
          "scattergeo": [
           {
            "marker": {
             "colorbar": {
              "outlinewidth": 0,
              "ticks": ""
             }
            },
            "type": "scattergeo"
           }
          ],
          "scattergl": [
           {
            "marker": {
             "colorbar": {
              "outlinewidth": 0,
              "ticks": ""
             }
            },
            "type": "scattergl"
           }
          ],
          "scattermapbox": [
           {
            "marker": {
             "colorbar": {
              "outlinewidth": 0,
              "ticks": ""
             }
            },
            "type": "scattermapbox"
           }
          ],
          "scatterpolar": [
           {
            "marker": {
             "colorbar": {
              "outlinewidth": 0,
              "ticks": ""
             }
            },
            "type": "scatterpolar"
           }
          ],
          "scatterpolargl": [
           {
            "marker": {
             "colorbar": {
              "outlinewidth": 0,
              "ticks": ""
             }
            },
            "type": "scatterpolargl"
           }
          ],
          "scatterternary": [
           {
            "marker": {
             "colorbar": {
              "outlinewidth": 0,
              "ticks": ""
             }
            },
            "type": "scatterternary"
           }
          ],
          "surface": [
           {
            "colorbar": {
             "outlinewidth": 0,
             "ticks": ""
            },
            "colorscale": [
             [
              0,
              "#0d0887"
             ],
             [
              0.1111111111111111,
              "#46039f"
             ],
             [
              0.2222222222222222,
              "#7201a8"
             ],
             [
              0.3333333333333333,
              "#9c179e"
             ],
             [
              0.4444444444444444,
              "#bd3786"
             ],
             [
              0.5555555555555556,
              "#d8576b"
             ],
             [
              0.6666666666666666,
              "#ed7953"
             ],
             [
              0.7777777777777778,
              "#fb9f3a"
             ],
             [
              0.8888888888888888,
              "#fdca26"
             ],
             [
              1,
              "#f0f921"
             ]
            ],
            "type": "surface"
           }
          ],
          "table": [
           {
            "cells": {
             "fill": {
              "color": "#EBF0F8"
             },
             "line": {
              "color": "white"
             }
            },
            "header": {
             "fill": {
              "color": "#C8D4E3"
             },
             "line": {
              "color": "white"
             }
            },
            "type": "table"
           }
          ]
         },
         "layout": {
          "annotationdefaults": {
           "arrowcolor": "#2a3f5f",
           "arrowhead": 0,
           "arrowwidth": 1
          },
          "autotypenumbers": "strict",
          "coloraxis": {
           "colorbar": {
            "outlinewidth": 0,
            "ticks": ""
           }
          },
          "colorscale": {
           "diverging": [
            [
             0,
             "#8e0152"
            ],
            [
             0.1,
             "#c51b7d"
            ],
            [
             0.2,
             "#de77ae"
            ],
            [
             0.3,
             "#f1b6da"
            ],
            [
             0.4,
             "#fde0ef"
            ],
            [
             0.5,
             "#f7f7f7"
            ],
            [
             0.6,
             "#e6f5d0"
            ],
            [
             0.7,
             "#b8e186"
            ],
            [
             0.8,
             "#7fbc41"
            ],
            [
             0.9,
             "#4d9221"
            ],
            [
             1,
             "#276419"
            ]
           ],
           "sequential": [
            [
             0,
             "#0d0887"
            ],
            [
             0.1111111111111111,
             "#46039f"
            ],
            [
             0.2222222222222222,
             "#7201a8"
            ],
            [
             0.3333333333333333,
             "#9c179e"
            ],
            [
             0.4444444444444444,
             "#bd3786"
            ],
            [
             0.5555555555555556,
             "#d8576b"
            ],
            [
             0.6666666666666666,
             "#ed7953"
            ],
            [
             0.7777777777777778,
             "#fb9f3a"
            ],
            [
             0.8888888888888888,
             "#fdca26"
            ],
            [
             1,
             "#f0f921"
            ]
           ],
           "sequentialminus": [
            [
             0,
             "#0d0887"
            ],
            [
             0.1111111111111111,
             "#46039f"
            ],
            [
             0.2222222222222222,
             "#7201a8"
            ],
            [
             0.3333333333333333,
             "#9c179e"
            ],
            [
             0.4444444444444444,
             "#bd3786"
            ],
            [
             0.5555555555555556,
             "#d8576b"
            ],
            [
             0.6666666666666666,
             "#ed7953"
            ],
            [
             0.7777777777777778,
             "#fb9f3a"
            ],
            [
             0.8888888888888888,
             "#fdca26"
            ],
            [
             1,
             "#f0f921"
            ]
           ]
          },
          "colorway": [
           "#636efa",
           "#EF553B",
           "#00cc96",
           "#ab63fa",
           "#FFA15A",
           "#19d3f3",
           "#FF6692",
           "#B6E880",
           "#FF97FF",
           "#FECB52"
          ],
          "font": {
           "color": "#2a3f5f"
          },
          "geo": {
           "bgcolor": "white",
           "lakecolor": "white",
           "landcolor": "#E5ECF6",
           "showlakes": true,
           "showland": true,
           "subunitcolor": "white"
          },
          "hoverlabel": {
           "align": "left"
          },
          "hovermode": "closest",
          "mapbox": {
           "style": "light"
          },
          "paper_bgcolor": "white",
          "plot_bgcolor": "#E5ECF6",
          "polar": {
           "angularaxis": {
            "gridcolor": "white",
            "linecolor": "white",
            "ticks": ""
           },
           "bgcolor": "#E5ECF6",
           "radialaxis": {
            "gridcolor": "white",
            "linecolor": "white",
            "ticks": ""
           }
          },
          "scene": {
           "xaxis": {
            "backgroundcolor": "#E5ECF6",
            "gridcolor": "white",
            "gridwidth": 2,
            "linecolor": "white",
            "showbackground": true,
            "ticks": "",
            "zerolinecolor": "white"
           },
           "yaxis": {
            "backgroundcolor": "#E5ECF6",
            "gridcolor": "white",
            "gridwidth": 2,
            "linecolor": "white",
            "showbackground": true,
            "ticks": "",
            "zerolinecolor": "white"
           },
           "zaxis": {
            "backgroundcolor": "#E5ECF6",
            "gridcolor": "white",
            "gridwidth": 2,
            "linecolor": "white",
            "showbackground": true,
            "ticks": "",
            "zerolinecolor": "white"
           }
          },
          "shapedefaults": {
           "line": {
            "color": "#2a3f5f"
           }
          },
          "ternary": {
           "aaxis": {
            "gridcolor": "white",
            "linecolor": "white",
            "ticks": ""
           },
           "baxis": {
            "gridcolor": "white",
            "linecolor": "white",
            "ticks": ""
           },
           "bgcolor": "#E5ECF6",
           "caxis": {
            "gridcolor": "white",
            "linecolor": "white",
            "ticks": ""
           }
          },
          "title": {
           "x": 0.05
          },
          "xaxis": {
           "automargin": true,
           "gridcolor": "white",
           "linecolor": "white",
           "ticks": "",
           "title": {
            "standoff": 15
           },
           "zerolinecolor": "white",
           "zerolinewidth": 2
          },
          "yaxis": {
           "automargin": true,
           "gridcolor": "white",
           "linecolor": "white",
           "ticks": "",
           "title": {
            "standoff": 15
           },
           "zerolinecolor": "white",
           "zerolinewidth": 2
          }
         }
        },
        "xaxis": {
         "anchor": "y",
         "domain": [
          0,
          1
         ],
         "title": {
          "text": "Purpose Categories"
         }
        },
        "yaxis": {
         "anchor": "x",
         "domain": [
          0,
          1
         ],
         "title": {
          "text": "value"
         }
        }
       }
      }
     },
     "metadata": {},
     "output_type": "display_data"
    }
   ],
   "source": [
    "dataf[\"Purpose Categories\"].explode().value_counts().plot.bar()"
   ]
  },
  {
   "cell_type": "markdown",
   "metadata": {},
   "source": [
    "#### Category correlation"
   ]
  },
  {
   "cell_type": "code",
   "execution_count": 7,
   "metadata": {},
   "outputs": [
    {
     "data": {
      "text/html": [
       "<div>\n",
       "<style scoped>\n",
       "    .dataframe tbody tr th:only-of-type {\n",
       "        vertical-align: middle;\n",
       "    }\n",
       "\n",
       "    .dataframe tbody tr th {\n",
       "        vertical-align: top;\n",
       "    }\n",
       "\n",
       "    .dataframe thead th {\n",
       "        text-align: right;\n",
       "    }\n",
       "</style>\n",
       "<table border=\"1\" class=\"dataframe\">\n",
       "  <thead>\n",
       "    <tr style=\"text-align: right;\">\n",
       "      <th></th>\n",
       "      <th>Company name</th>\n",
       "      <th>Purpose Text</th>\n",
       "      <th>Purpose Categories</th>\n",
       "    </tr>\n",
       "  </thead>\n",
       "  <tbody>\n",
       "    <tr>\n",
       "      <th>0</th>\n",
       "      <td>AB Skf</td>\n",
       "      <td>Condition monitoring and data collection will ...</td>\n",
       "      <td>[Innovation, Transformation &amp; Technology, Effi...</td>\n",
       "    </tr>\n",
       "    <tr>\n",
       "      <th>1</th>\n",
       "      <td>Abb Ltd</td>\n",
       "      <td>ABB's purpose is to enable a more sustainable ...</td>\n",
       "      <td>[Leadership &amp; Excellence, Sustainability]</td>\n",
       "    </tr>\n",
       "    <tr>\n",
       "      <th>2</th>\n",
       "      <td>Abrdn PLC</td>\n",
       "      <td>At abrdn, our purpose is to enable our clients...</td>\n",
       "      <td>[Growth, Customer centrism, Empowerment]</td>\n",
       "    </tr>\n",
       "    <tr>\n",
       "      <th>3</th>\n",
       "      <td>Acciona SA</td>\n",
       "      <td>Our Purpose: BUSINESS AS UNUSUAL\\nThere is a d...</td>\n",
       "      <td>[Growth, Positive impact, Leadership &amp; Excelle...</td>\n",
       "    </tr>\n",
       "    <tr>\n",
       "      <th>4</th>\n",
       "      <td>Accor SA</td>\n",
       "      <td>By staying focused on the future and on our\\nv...</td>\n",
       "      <td>[Leadership &amp; Excellence, Innovation, Transfor...</td>\n",
       "    </tr>\n",
       "    <tr>\n",
       "      <th>...</th>\n",
       "      <td>...</td>\n",
       "      <td>...</td>\n",
       "      <td>...</td>\n",
       "    </tr>\n",
       "    <tr>\n",
       "      <th>432</th>\n",
       "      <td>Yara International ASA</td>\n",
       "      <td>Vision: A collaborative society; a world witho...</td>\n",
       "      <td>[Positive impact, Community &amp; Collaboration, S...</td>\n",
       "    </tr>\n",
       "    <tr>\n",
       "      <th>433</th>\n",
       "      <td>Zalando SE</td>\n",
       "      <td>At Zalando, our purpose of reimagining fashion...</td>\n",
       "      <td>[Customer centrism, Innovation, Transformation...</td>\n",
       "    </tr>\n",
       "    <tr>\n",
       "      <th>434</th>\n",
       "      <td>Zur Rose Group AG</td>\n",
       "      <td>With its business model, the Zur Rose Group of...</td>\n",
       "      <td>[Customer centrism, Affordability, Innovation,...</td>\n",
       "    </tr>\n",
       "    <tr>\n",
       "      <th>435</th>\n",
       "      <td>AAK AB (publ)</td>\n",
       "      <td>Purpose: Our purpose, and everything we do, is...</td>\n",
       "      <td>[Customer centrism, Innovation, Transformation...</td>\n",
       "    </tr>\n",
       "    <tr>\n",
       "      <th>436</th>\n",
       "      <td>Aalberts NV</td>\n",
       "      <td>Our essence: we engineer mission-critical tech...</td>\n",
       "      <td>[Community &amp; Collaboration, Leadership &amp; Excel...</td>\n",
       "    </tr>\n",
       "  </tbody>\n",
       "</table>\n",
       "<p>437 rows × 3 columns</p>\n",
       "</div>"
      ],
      "text/plain": [
       "               Company name  \\\n",
       "0                    AB Skf   \n",
       "1                   Abb Ltd   \n",
       "2                 Abrdn PLC   \n",
       "3                Acciona SA   \n",
       "4                  Accor SA   \n",
       "..                      ...   \n",
       "432  Yara International ASA   \n",
       "433              Zalando SE   \n",
       "434       Zur Rose Group AG   \n",
       "435           AAK AB (publ)   \n",
       "436             Aalberts NV   \n",
       "\n",
       "                                          Purpose Text  \\\n",
       "0    Condition monitoring and data collection will ...   \n",
       "1    ABB's purpose is to enable a more sustainable ...   \n",
       "2    At abrdn, our purpose is to enable our clients...   \n",
       "3    Our Purpose: BUSINESS AS UNUSUAL\\nThere is a d...   \n",
       "4    By staying focused on the future and on our\\nv...   \n",
       "..                                                 ...   \n",
       "432  Vision: A collaborative society; a world witho...   \n",
       "433  At Zalando, our purpose of reimagining fashion...   \n",
       "434  With its business model, the Zur Rose Group of...   \n",
       "435  Purpose: Our purpose, and everything we do, is...   \n",
       "436  Our essence: we engineer mission-critical tech...   \n",
       "\n",
       "                                    Purpose Categories  \n",
       "0    [Innovation, Transformation & Technology, Effi...  \n",
       "1            [Leadership & Excellence, Sustainability]  \n",
       "2             [Growth, Customer centrism, Empowerment]  \n",
       "3    [Growth, Positive impact, Leadership & Excelle...  \n",
       "4    [Leadership & Excellence, Innovation, Transfor...  \n",
       "..                                                 ...  \n",
       "432  [Positive impact, Community & Collaboration, S...  \n",
       "433  [Customer centrism, Innovation, Transformation...  \n",
       "434  [Customer centrism, Affordability, Innovation,...  \n",
       "435  [Customer centrism, Innovation, Transformation...  \n",
       "436  [Community & Collaboration, Leadership & Excel...  \n",
       "\n",
       "[437 rows x 3 columns]"
      ]
     },
     "execution_count": 7,
     "metadata": {},
     "output_type": "execute_result"
    }
   ],
   "source": [
    "dataf"
   ]
  },
  {
   "cell_type": "code",
   "execution_count": 8,
   "metadata": {},
   "outputs": [
    {
     "data": {
      "application/vnd.plotly.v1+json": {
       "config": {
        "plotlyServerURL": "https://plot.ly"
       },
       "data": [
        {
         "coloraxis": "coloraxis",
         "hovertemplate": "Label: %{x}<br>Label: %{y}<br>Correlation: %{z}<extra></extra>",
         "name": "0",
         "texttemplate": "%{z}",
         "type": "heatmap",
         "x": [
          "Accessibility",
          "Affordability",
          "Community & Collaboration",
          "Corporate culture & Inclusivity",
          "Corporate responsibility",
          "Customer centrism",
          "Efficiency & Improvement",
          "Empowerment",
          "Growth",
          "Innovation, Transformation & Technology",
          "Leadership & Excellence",
          "Positive impact",
          "Principles",
          "Responsibility",
          "Stakeholder value",
          "Sustainability",
          "Well-being"
         ],
         "xaxis": "x",
         "y": [
          "Accessibility",
          "Affordability",
          "Community & Collaboration",
          "Corporate culture & Inclusivity",
          "Corporate responsibility",
          "Customer centrism",
          "Efficiency & Improvement",
          "Empowerment",
          "Growth",
          "Innovation, Transformation & Technology",
          "Leadership & Excellence",
          "Positive impact",
          "Principles",
          "Responsibility",
          "Stakeholder value",
          "Sustainability",
          "Well-being"
         ],
         "yaxis": "y",
         "z": [
          [
           1,
           0.035,
           -0.022,
           -0.05,
           0.015,
           0.004,
           -0.034,
           -0.042,
           0.091,
           0.014,
           -0.025,
           -0.047,
           -0.06,
           0.024,
           -0.017,
           -0.033,
           -0.046
          ],
          [
           0.035,
           1,
           -0.051,
           -0.041,
           -0.035,
           0.042,
           -0.058,
           0.038,
           -0.006,
           -0.073,
           -0.033,
           0.02,
           0.003,
           -0.032,
           0.056,
           -0.074,
           0.101
          ],
          [
           -0.022,
           -0.051,
           1,
           0.071,
           0.019,
           -0.102,
           0.002,
           0.066,
           -0.014,
           -0.004,
           -0.016,
           0.052,
           -0.058,
           0.078,
           -0.029,
           -0.039,
           0.101
          ],
          [
           -0.05,
           -0.041,
           0.071,
           1,
           0.051,
           -0.044,
           -0.018,
           0.159,
           -0.043,
           -0.065,
           -0.019,
           -0.097,
           0.117,
           0.065,
           -0.07,
           0.035,
           -0.004
          ],
          [
           0.015,
           -0.035,
           0.019,
           0.051,
           1,
           -0.091,
           -0.071,
           0.018,
           0.091,
           -0.171,
           -0.057,
           0.097,
           0.026,
           0.087,
           0.012,
           0.082,
           0.022
          ],
          [
           0.004,
           0.042,
           -0.102,
           -0.044,
           -0.091,
           1,
           -0.053,
           -0.011,
           -0.009,
           -0.009,
           0.06,
           -0.205,
           -0.016,
           -0.07,
           0.083,
           -0.212,
           -0.093
          ],
          [
           -0.034,
           -0.058,
           0.002,
           -0.018,
           -0.071,
           -0.053,
           1,
           -0.069,
           -0.034,
           0.038,
           -0.002,
           -0.006,
           0.178,
           -0.065,
           0.015,
           -0.054,
           -0.134
          ],
          [
           -0.042,
           0.038,
           0.066,
           0.159,
           0.018,
           -0.011,
           -0.069,
           1,
           0.057,
           -0.022,
           0.013,
           0.076,
           0.074,
           -0.038,
           -0.071,
           -0.142,
           -0.008
          ],
          [
           0.091,
           -0.006,
           -0.014,
           -0.043,
           0.091,
           -0.009,
           -0.034,
           0.057,
           1,
           -0.049,
           0.102,
           0.014,
           -0.035,
           -0.018,
           0.016,
           -0.082,
           -0.055
          ],
          [
           0.014,
           -0.073,
           -0.004,
           -0.065,
           -0.171,
           -0.009,
           0.038,
           -0.022,
           -0.049,
           1,
           -0.067,
           -0.127,
           -0.118,
           -0.101,
           -0.03,
           -0.03,
           -0.036
          ],
          [
           -0.025,
           -0.033,
           -0.016,
           -0.019,
           -0.057,
           0.06,
           -0.002,
           0.013,
           0.102,
           -0.067,
           1,
           -0.025,
           0.018,
           -0.046,
           -0.07,
           -0.146,
           0.004
          ],
          [
           -0.047,
           0.02,
           0.052,
           -0.097,
           0.097,
           -0.205,
           -0.006,
           0.076,
           0.014,
           -0.127,
           -0.025,
           1,
           0.024,
           0.03,
           -0.152,
           -0.129,
           -0.043
          ],
          [
           -0.06,
           0.003,
           -0.058,
           0.117,
           0.026,
           -0.016,
           0.178,
           0.074,
           -0.035,
           -0.118,
           0.018,
           0.024,
           1,
           -0.008,
           -0.039,
           -0.119,
           -0.012
          ],
          [
           0.024,
           -0.032,
           0.078,
           0.065,
           0.087,
           -0.07,
           -0.065,
           -0.038,
           -0.018,
           -0.101,
           -0.046,
           0.03,
           -0.008,
           1,
           0,
           0.1,
           0.039
          ],
          [
           -0.017,
           0.056,
           -0.029,
           -0.07,
           0.012,
           0.083,
           0.015,
           -0.071,
           0.016,
           -0.03,
           -0.07,
           -0.152,
           -0.039,
           0,
           1,
           0.152,
           -0.075
          ],
          [
           -0.033,
           -0.074,
           -0.039,
           0.035,
           0.082,
           -0.212,
           -0.054,
           -0.142,
           -0.082,
           -0.03,
           -0.146,
           -0.129,
           -0.119,
           0.1,
           0.152,
           1,
           -0.051
          ],
          [
           -0.046,
           0.101,
           0.101,
           -0.004,
           0.022,
           -0.093,
           -0.134,
           -0.008,
           -0.055,
           -0.036,
           0.004,
           -0.043,
           -0.012,
           0.039,
           -0.075,
           -0.051,
           1
          ]
         ]
        }
       ],
       "layout": {
        "coloraxis": {
         "colorbar": {
          "title": {
           "text": "Correlation"
          }
         },
         "colorscale": [
          [
           0,
           "#0d0887"
          ],
          [
           0.1111111111111111,
           "#46039f"
          ],
          [
           0.2222222222222222,
           "#7201a8"
          ],
          [
           0.3333333333333333,
           "#9c179e"
          ],
          [
           0.4444444444444444,
           "#bd3786"
          ],
          [
           0.5555555555555556,
           "#d8576b"
          ],
          [
           0.6666666666666666,
           "#ed7953"
          ],
          [
           0.7777777777777778,
           "#fb9f3a"
          ],
          [
           0.8888888888888888,
           "#fdca26"
          ],
          [
           1,
           "#f0f921"
          ]
         ]
        },
        "font": {
         "size": 10
        },
        "height": 800,
        "margin": {
         "t": 60
        },
        "template": {
         "data": {
          "bar": [
           {
            "error_x": {
             "color": "#2a3f5f"
            },
            "error_y": {
             "color": "#2a3f5f"
            },
            "marker": {
             "line": {
              "color": "#E5ECF6",
              "width": 0.5
             },
             "pattern": {
              "fillmode": "overlay",
              "size": 10,
              "solidity": 0.2
             }
            },
            "type": "bar"
           }
          ],
          "barpolar": [
           {
            "marker": {
             "line": {
              "color": "#E5ECF6",
              "width": 0.5
             },
             "pattern": {
              "fillmode": "overlay",
              "size": 10,
              "solidity": 0.2
             }
            },
            "type": "barpolar"
           }
          ],
          "carpet": [
           {
            "aaxis": {
             "endlinecolor": "#2a3f5f",
             "gridcolor": "white",
             "linecolor": "white",
             "minorgridcolor": "white",
             "startlinecolor": "#2a3f5f"
            },
            "baxis": {
             "endlinecolor": "#2a3f5f",
             "gridcolor": "white",
             "linecolor": "white",
             "minorgridcolor": "white",
             "startlinecolor": "#2a3f5f"
            },
            "type": "carpet"
           }
          ],
          "choropleth": [
           {
            "colorbar": {
             "outlinewidth": 0,
             "ticks": ""
            },
            "type": "choropleth"
           }
          ],
          "contour": [
           {
            "colorbar": {
             "outlinewidth": 0,
             "ticks": ""
            },
            "colorscale": [
             [
              0,
              "#0d0887"
             ],
             [
              0.1111111111111111,
              "#46039f"
             ],
             [
              0.2222222222222222,
              "#7201a8"
             ],
             [
              0.3333333333333333,
              "#9c179e"
             ],
             [
              0.4444444444444444,
              "#bd3786"
             ],
             [
              0.5555555555555556,
              "#d8576b"
             ],
             [
              0.6666666666666666,
              "#ed7953"
             ],
             [
              0.7777777777777778,
              "#fb9f3a"
             ],
             [
              0.8888888888888888,
              "#fdca26"
             ],
             [
              1,
              "#f0f921"
             ]
            ],
            "type": "contour"
           }
          ],
          "contourcarpet": [
           {
            "colorbar": {
             "outlinewidth": 0,
             "ticks": ""
            },
            "type": "contourcarpet"
           }
          ],
          "heatmap": [
           {
            "colorbar": {
             "outlinewidth": 0,
             "ticks": ""
            },
            "colorscale": [
             [
              0,
              "#0d0887"
             ],
             [
              0.1111111111111111,
              "#46039f"
             ],
             [
              0.2222222222222222,
              "#7201a8"
             ],
             [
              0.3333333333333333,
              "#9c179e"
             ],
             [
              0.4444444444444444,
              "#bd3786"
             ],
             [
              0.5555555555555556,
              "#d8576b"
             ],
             [
              0.6666666666666666,
              "#ed7953"
             ],
             [
              0.7777777777777778,
              "#fb9f3a"
             ],
             [
              0.8888888888888888,
              "#fdca26"
             ],
             [
              1,
              "#f0f921"
             ]
            ],
            "type": "heatmap"
           }
          ],
          "heatmapgl": [
           {
            "colorbar": {
             "outlinewidth": 0,
             "ticks": ""
            },
            "colorscale": [
             [
              0,
              "#0d0887"
             ],
             [
              0.1111111111111111,
              "#46039f"
             ],
             [
              0.2222222222222222,
              "#7201a8"
             ],
             [
              0.3333333333333333,
              "#9c179e"
             ],
             [
              0.4444444444444444,
              "#bd3786"
             ],
             [
              0.5555555555555556,
              "#d8576b"
             ],
             [
              0.6666666666666666,
              "#ed7953"
             ],
             [
              0.7777777777777778,
              "#fb9f3a"
             ],
             [
              0.8888888888888888,
              "#fdca26"
             ],
             [
              1,
              "#f0f921"
             ]
            ],
            "type": "heatmapgl"
           }
          ],
          "histogram": [
           {
            "marker": {
             "pattern": {
              "fillmode": "overlay",
              "size": 10,
              "solidity": 0.2
             }
            },
            "type": "histogram"
           }
          ],
          "histogram2d": [
           {
            "colorbar": {
             "outlinewidth": 0,
             "ticks": ""
            },
            "colorscale": [
             [
              0,
              "#0d0887"
             ],
             [
              0.1111111111111111,
              "#46039f"
             ],
             [
              0.2222222222222222,
              "#7201a8"
             ],
             [
              0.3333333333333333,
              "#9c179e"
             ],
             [
              0.4444444444444444,
              "#bd3786"
             ],
             [
              0.5555555555555556,
              "#d8576b"
             ],
             [
              0.6666666666666666,
              "#ed7953"
             ],
             [
              0.7777777777777778,
              "#fb9f3a"
             ],
             [
              0.8888888888888888,
              "#fdca26"
             ],
             [
              1,
              "#f0f921"
             ]
            ],
            "type": "histogram2d"
           }
          ],
          "histogram2dcontour": [
           {
            "colorbar": {
             "outlinewidth": 0,
             "ticks": ""
            },
            "colorscale": [
             [
              0,
              "#0d0887"
             ],
             [
              0.1111111111111111,
              "#46039f"
             ],
             [
              0.2222222222222222,
              "#7201a8"
             ],
             [
              0.3333333333333333,
              "#9c179e"
             ],
             [
              0.4444444444444444,
              "#bd3786"
             ],
             [
              0.5555555555555556,
              "#d8576b"
             ],
             [
              0.6666666666666666,
              "#ed7953"
             ],
             [
              0.7777777777777778,
              "#fb9f3a"
             ],
             [
              0.8888888888888888,
              "#fdca26"
             ],
             [
              1,
              "#f0f921"
             ]
            ],
            "type": "histogram2dcontour"
           }
          ],
          "mesh3d": [
           {
            "colorbar": {
             "outlinewidth": 0,
             "ticks": ""
            },
            "type": "mesh3d"
           }
          ],
          "parcoords": [
           {
            "line": {
             "colorbar": {
              "outlinewidth": 0,
              "ticks": ""
             }
            },
            "type": "parcoords"
           }
          ],
          "pie": [
           {
            "automargin": true,
            "type": "pie"
           }
          ],
          "scatter": [
           {
            "fillpattern": {
             "fillmode": "overlay",
             "size": 10,
             "solidity": 0.2
            },
            "type": "scatter"
           }
          ],
          "scatter3d": [
           {
            "line": {
             "colorbar": {
              "outlinewidth": 0,
              "ticks": ""
             }
            },
            "marker": {
             "colorbar": {
              "outlinewidth": 0,
              "ticks": ""
             }
            },
            "type": "scatter3d"
           }
          ],
          "scattercarpet": [
           {
            "marker": {
             "colorbar": {
              "outlinewidth": 0,
              "ticks": ""
             }
            },
            "type": "scattercarpet"
           }
          ],
          "scattergeo": [
           {
            "marker": {
             "colorbar": {
              "outlinewidth": 0,
              "ticks": ""
             }
            },
            "type": "scattergeo"
           }
          ],
          "scattergl": [
           {
            "marker": {
             "colorbar": {
              "outlinewidth": 0,
              "ticks": ""
             }
            },
            "type": "scattergl"
           }
          ],
          "scattermapbox": [
           {
            "marker": {
             "colorbar": {
              "outlinewidth": 0,
              "ticks": ""
             }
            },
            "type": "scattermapbox"
           }
          ],
          "scatterpolar": [
           {
            "marker": {
             "colorbar": {
              "outlinewidth": 0,
              "ticks": ""
             }
            },
            "type": "scatterpolar"
           }
          ],
          "scatterpolargl": [
           {
            "marker": {
             "colorbar": {
              "outlinewidth": 0,
              "ticks": ""
             }
            },
            "type": "scatterpolargl"
           }
          ],
          "scatterternary": [
           {
            "marker": {
             "colorbar": {
              "outlinewidth": 0,
              "ticks": ""
             }
            },
            "type": "scatterternary"
           }
          ],
          "surface": [
           {
            "colorbar": {
             "outlinewidth": 0,
             "ticks": ""
            },
            "colorscale": [
             [
              0,
              "#0d0887"
             ],
             [
              0.1111111111111111,
              "#46039f"
             ],
             [
              0.2222222222222222,
              "#7201a8"
             ],
             [
              0.3333333333333333,
              "#9c179e"
             ],
             [
              0.4444444444444444,
              "#bd3786"
             ],
             [
              0.5555555555555556,
              "#d8576b"
             ],
             [
              0.6666666666666666,
              "#ed7953"
             ],
             [
              0.7777777777777778,
              "#fb9f3a"
             ],
             [
              0.8888888888888888,
              "#fdca26"
             ],
             [
              1,
              "#f0f921"
             ]
            ],
            "type": "surface"
           }
          ],
          "table": [
           {
            "cells": {
             "fill": {
              "color": "#EBF0F8"
             },
             "line": {
              "color": "white"
             }
            },
            "header": {
             "fill": {
              "color": "#C8D4E3"
             },
             "line": {
              "color": "white"
             }
            },
            "type": "table"
           }
          ]
         },
         "layout": {
          "annotationdefaults": {
           "arrowcolor": "#2a3f5f",
           "arrowhead": 0,
           "arrowwidth": 1
          },
          "autotypenumbers": "strict",
          "coloraxis": {
           "colorbar": {
            "outlinewidth": 0,
            "ticks": ""
           }
          },
          "colorscale": {
           "diverging": [
            [
             0,
             "#8e0152"
            ],
            [
             0.1,
             "#c51b7d"
            ],
            [
             0.2,
             "#de77ae"
            ],
            [
             0.3,
             "#f1b6da"
            ],
            [
             0.4,
             "#fde0ef"
            ],
            [
             0.5,
             "#f7f7f7"
            ],
            [
             0.6,
             "#e6f5d0"
            ],
            [
             0.7,
             "#b8e186"
            ],
            [
             0.8,
             "#7fbc41"
            ],
            [
             0.9,
             "#4d9221"
            ],
            [
             1,
             "#276419"
            ]
           ],
           "sequential": [
            [
             0,
             "#0d0887"
            ],
            [
             0.1111111111111111,
             "#46039f"
            ],
            [
             0.2222222222222222,
             "#7201a8"
            ],
            [
             0.3333333333333333,
             "#9c179e"
            ],
            [
             0.4444444444444444,
             "#bd3786"
            ],
            [
             0.5555555555555556,
             "#d8576b"
            ],
            [
             0.6666666666666666,
             "#ed7953"
            ],
            [
             0.7777777777777778,
             "#fb9f3a"
            ],
            [
             0.8888888888888888,
             "#fdca26"
            ],
            [
             1,
             "#f0f921"
            ]
           ],
           "sequentialminus": [
            [
             0,
             "#0d0887"
            ],
            [
             0.1111111111111111,
             "#46039f"
            ],
            [
             0.2222222222222222,
             "#7201a8"
            ],
            [
             0.3333333333333333,
             "#9c179e"
            ],
            [
             0.4444444444444444,
             "#bd3786"
            ],
            [
             0.5555555555555556,
             "#d8576b"
            ],
            [
             0.6666666666666666,
             "#ed7953"
            ],
            [
             0.7777777777777778,
             "#fb9f3a"
            ],
            [
             0.8888888888888888,
             "#fdca26"
            ],
            [
             1,
             "#f0f921"
            ]
           ]
          },
          "colorway": [
           "#636efa",
           "#EF553B",
           "#00cc96",
           "#ab63fa",
           "#FFA15A",
           "#19d3f3",
           "#FF6692",
           "#B6E880",
           "#FF97FF",
           "#FECB52"
          ],
          "font": {
           "color": "#2a3f5f"
          },
          "geo": {
           "bgcolor": "white",
           "lakecolor": "white",
           "landcolor": "#E5ECF6",
           "showlakes": true,
           "showland": true,
           "subunitcolor": "white"
          },
          "hoverlabel": {
           "align": "left"
          },
          "hovermode": "closest",
          "mapbox": {
           "style": "light"
          },
          "paper_bgcolor": "white",
          "plot_bgcolor": "#E5ECF6",
          "polar": {
           "angularaxis": {
            "gridcolor": "white",
            "linecolor": "white",
            "ticks": ""
           },
           "bgcolor": "#E5ECF6",
           "radialaxis": {
            "gridcolor": "white",
            "linecolor": "white",
            "ticks": ""
           }
          },
          "scene": {
           "xaxis": {
            "backgroundcolor": "#E5ECF6",
            "gridcolor": "white",
            "gridwidth": 2,
            "linecolor": "white",
            "showbackground": true,
            "ticks": "",
            "zerolinecolor": "white"
           },
           "yaxis": {
            "backgroundcolor": "#E5ECF6",
            "gridcolor": "white",
            "gridwidth": 2,
            "linecolor": "white",
            "showbackground": true,
            "ticks": "",
            "zerolinecolor": "white"
           },
           "zaxis": {
            "backgroundcolor": "#E5ECF6",
            "gridcolor": "white",
            "gridwidth": 2,
            "linecolor": "white",
            "showbackground": true,
            "ticks": "",
            "zerolinecolor": "white"
           }
          },
          "shapedefaults": {
           "line": {
            "color": "#2a3f5f"
           }
          },
          "ternary": {
           "aaxis": {
            "gridcolor": "white",
            "linecolor": "white",
            "ticks": ""
           },
           "baxis": {
            "gridcolor": "white",
            "linecolor": "white",
            "ticks": ""
           },
           "bgcolor": "#E5ECF6",
           "caxis": {
            "gridcolor": "white",
            "linecolor": "white",
            "ticks": ""
           }
          },
          "title": {
           "x": 0.05
          },
          "xaxis": {
           "automargin": true,
           "gridcolor": "white",
           "linecolor": "white",
           "ticks": "",
           "title": {
            "standoff": 15
           },
           "zerolinecolor": "white",
           "zerolinewidth": 2
          },
          "yaxis": {
           "automargin": true,
           "gridcolor": "white",
           "linecolor": "white",
           "ticks": "",
           "title": {
            "standoff": 15
           },
           "zerolinecolor": "white",
           "zerolinewidth": 2
          }
         }
        },
        "title": {
         "text": "Pearson Correlation Matrix of Purpose Categories",
         "x": 0.5
        },
        "width": 800,
        "xaxis": {
         "anchor": "y",
         "domain": [
          0,
          1
         ],
         "title": {
          "text": "Label"
         }
        },
        "yaxis": {
         "anchor": "x",
         "autorange": "reversed",
         "domain": [
          0,
          1
         ],
         "title": {
          "text": "Label"
         }
        }
       }
      }
     },
     "metadata": {},
     "output_type": "display_data"
    }
   ],
   "source": [
    "def get_dummies(df):\n",
    "    \n",
    "    # Create binary encoding for each label\n",
    "    binary_encoded = pd.get_dummies(df['Purpose Categories'])\n",
    "    binary_encoded['Company name'] = df['Company name']\n",
    "    return binary_encoded.groupby('Company name').max()\n",
    "\n",
    "# Explode the 'Purpose Categories' column\n",
    "correlation_matrix = (\n",
    "    dataf.explode('Purpose Categories')\n",
    "    [lambda x: x['Purpose Categories'] != \"Uncategorized\"]\n",
    "    .pipe(get_dummies)\n",
    "    .corr()\n",
    "    .round(3)\n",
    ")\n",
    "\n",
    "# Create a heatmap to visualize the correlation matrix\n",
    "fig = px.imshow(\n",
    "    correlation_matrix,\n",
    "    text_auto=True,\n",
    "    aspect=\"auto\", \n",
    "    labels=dict(x=\"Label\", y=\"Label\", color=\"Correlation\"),\n",
    "    x=correlation_matrix.columns, \n",
    "    y=correlation_matrix.columns\n",
    ")\n",
    "\n",
    "fig.update_layout(\n",
    "    title_text='Pearson Correlation Matrix of Purpose Categories',\n",
    "    title_x=0.5,\n",
    "    width=800,\n",
    "    height=800,\n",
    "    font=dict(\n",
    "        size=10,\n",
    "    )\n",
    ")\n",
    "fig.show()\n"
   ]
  },
  {
   "cell_type": "markdown",
   "metadata": {},
   "source": [
    "#### Cluster analysis"
   ]
  },
  {
   "cell_type": "code",
   "execution_count": 9,
   "metadata": {},
   "outputs": [],
   "source": [
    "# Explode 'Purpose Categories' and create a binary encoding\n",
    "binary_encoded = (\n",
    "    dataf.drop(columns=[\"Purpose Text\"])\n",
    "    .explode('Purpose Categories')\n",
    "    .pipe(lambda df: pd.get_dummies(df, columns=['Purpose Categories']))\n",
    "    .groupby('Company name')\n",
    "    .sum()\n",
    ")"
   ]
  },
  {
   "cell_type": "markdown",
   "metadata": {},
   "source": [
    "#### Finding number of clusters\n",
    "Calculating inertia for a range of k values"
   ]
  },
  {
   "cell_type": "code",
   "execution_count": 10,
   "metadata": {},
   "outputs": [
    {
     "data": {
      "application/vnd.plotly.v1+json": {
       "config": {
        "plotlyServerURL": "https://plot.ly"
       },
       "data": [
        {
         "hovertemplate": "Number of clusters (k)=%{x}<br>Inertia=%{y}<extra></extra>",
         "legendgroup": "",
         "line": {
          "color": "#636efa",
          "dash": "solid"
         },
         "marker": {
          "symbol": "circle"
         },
         "mode": "markers+lines",
         "name": "",
         "orientation": "v",
         "showlegend": false,
         "type": "scatter",
         "x": [
          1,
          2,
          3,
          4,
          5,
          6,
          7,
          8,
          9,
          10,
          11,
          12,
          13,
          14,
          15,
          16,
          17,
          18,
          19
         ],
         "xaxis": "x",
         "y": [
          812.6270022883295,
          700.4415106951872,
          639.0878240803582,
          616.3071236455901,
          568.1375546084034,
          541.2303712380619,
          509.9052023236716,
          487.7289362817384,
          461.47736956058174,
          452.1440845860392,
          440.00431071581085,
          431.34012860618554,
          419.3319863986758,
          403.628845915643,
          397.1170117223128,
          386.61804847040656,
          381.29079028951935,
          371.3422259292264,
          361.13904876008144
         ],
         "yaxis": "y"
        }
       ],
       "layout": {
        "height": 500,
        "legend": {
         "tracegroupgap": 0
        },
        "template": {
         "data": {
          "bar": [
           {
            "error_x": {
             "color": "#2a3f5f"
            },
            "error_y": {
             "color": "#2a3f5f"
            },
            "marker": {
             "line": {
              "color": "#E5ECF6",
              "width": 0.5
             },
             "pattern": {
              "fillmode": "overlay",
              "size": 10,
              "solidity": 0.2
             }
            },
            "type": "bar"
           }
          ],
          "barpolar": [
           {
            "marker": {
             "line": {
              "color": "#E5ECF6",
              "width": 0.5
             },
             "pattern": {
              "fillmode": "overlay",
              "size": 10,
              "solidity": 0.2
             }
            },
            "type": "barpolar"
           }
          ],
          "carpet": [
           {
            "aaxis": {
             "endlinecolor": "#2a3f5f",
             "gridcolor": "white",
             "linecolor": "white",
             "minorgridcolor": "white",
             "startlinecolor": "#2a3f5f"
            },
            "baxis": {
             "endlinecolor": "#2a3f5f",
             "gridcolor": "white",
             "linecolor": "white",
             "minorgridcolor": "white",
             "startlinecolor": "#2a3f5f"
            },
            "type": "carpet"
           }
          ],
          "choropleth": [
           {
            "colorbar": {
             "outlinewidth": 0,
             "ticks": ""
            },
            "type": "choropleth"
           }
          ],
          "contour": [
           {
            "colorbar": {
             "outlinewidth": 0,
             "ticks": ""
            },
            "colorscale": [
             [
              0,
              "#0d0887"
             ],
             [
              0.1111111111111111,
              "#46039f"
             ],
             [
              0.2222222222222222,
              "#7201a8"
             ],
             [
              0.3333333333333333,
              "#9c179e"
             ],
             [
              0.4444444444444444,
              "#bd3786"
             ],
             [
              0.5555555555555556,
              "#d8576b"
             ],
             [
              0.6666666666666666,
              "#ed7953"
             ],
             [
              0.7777777777777778,
              "#fb9f3a"
             ],
             [
              0.8888888888888888,
              "#fdca26"
             ],
             [
              1,
              "#f0f921"
             ]
            ],
            "type": "contour"
           }
          ],
          "contourcarpet": [
           {
            "colorbar": {
             "outlinewidth": 0,
             "ticks": ""
            },
            "type": "contourcarpet"
           }
          ],
          "heatmap": [
           {
            "colorbar": {
             "outlinewidth": 0,
             "ticks": ""
            },
            "colorscale": [
             [
              0,
              "#0d0887"
             ],
             [
              0.1111111111111111,
              "#46039f"
             ],
             [
              0.2222222222222222,
              "#7201a8"
             ],
             [
              0.3333333333333333,
              "#9c179e"
             ],
             [
              0.4444444444444444,
              "#bd3786"
             ],
             [
              0.5555555555555556,
              "#d8576b"
             ],
             [
              0.6666666666666666,
              "#ed7953"
             ],
             [
              0.7777777777777778,
              "#fb9f3a"
             ],
             [
              0.8888888888888888,
              "#fdca26"
             ],
             [
              1,
              "#f0f921"
             ]
            ],
            "type": "heatmap"
           }
          ],
          "heatmapgl": [
           {
            "colorbar": {
             "outlinewidth": 0,
             "ticks": ""
            },
            "colorscale": [
             [
              0,
              "#0d0887"
             ],
             [
              0.1111111111111111,
              "#46039f"
             ],
             [
              0.2222222222222222,
              "#7201a8"
             ],
             [
              0.3333333333333333,
              "#9c179e"
             ],
             [
              0.4444444444444444,
              "#bd3786"
             ],
             [
              0.5555555555555556,
              "#d8576b"
             ],
             [
              0.6666666666666666,
              "#ed7953"
             ],
             [
              0.7777777777777778,
              "#fb9f3a"
             ],
             [
              0.8888888888888888,
              "#fdca26"
             ],
             [
              1,
              "#f0f921"
             ]
            ],
            "type": "heatmapgl"
           }
          ],
          "histogram": [
           {
            "marker": {
             "pattern": {
              "fillmode": "overlay",
              "size": 10,
              "solidity": 0.2
             }
            },
            "type": "histogram"
           }
          ],
          "histogram2d": [
           {
            "colorbar": {
             "outlinewidth": 0,
             "ticks": ""
            },
            "colorscale": [
             [
              0,
              "#0d0887"
             ],
             [
              0.1111111111111111,
              "#46039f"
             ],
             [
              0.2222222222222222,
              "#7201a8"
             ],
             [
              0.3333333333333333,
              "#9c179e"
             ],
             [
              0.4444444444444444,
              "#bd3786"
             ],
             [
              0.5555555555555556,
              "#d8576b"
             ],
             [
              0.6666666666666666,
              "#ed7953"
             ],
             [
              0.7777777777777778,
              "#fb9f3a"
             ],
             [
              0.8888888888888888,
              "#fdca26"
             ],
             [
              1,
              "#f0f921"
             ]
            ],
            "type": "histogram2d"
           }
          ],
          "histogram2dcontour": [
           {
            "colorbar": {
             "outlinewidth": 0,
             "ticks": ""
            },
            "colorscale": [
             [
              0,
              "#0d0887"
             ],
             [
              0.1111111111111111,
              "#46039f"
             ],
             [
              0.2222222222222222,
              "#7201a8"
             ],
             [
              0.3333333333333333,
              "#9c179e"
             ],
             [
              0.4444444444444444,
              "#bd3786"
             ],
             [
              0.5555555555555556,
              "#d8576b"
             ],
             [
              0.6666666666666666,
              "#ed7953"
             ],
             [
              0.7777777777777778,
              "#fb9f3a"
             ],
             [
              0.8888888888888888,
              "#fdca26"
             ],
             [
              1,
              "#f0f921"
             ]
            ],
            "type": "histogram2dcontour"
           }
          ],
          "mesh3d": [
           {
            "colorbar": {
             "outlinewidth": 0,
             "ticks": ""
            },
            "type": "mesh3d"
           }
          ],
          "parcoords": [
           {
            "line": {
             "colorbar": {
              "outlinewidth": 0,
              "ticks": ""
             }
            },
            "type": "parcoords"
           }
          ],
          "pie": [
           {
            "automargin": true,
            "type": "pie"
           }
          ],
          "scatter": [
           {
            "fillpattern": {
             "fillmode": "overlay",
             "size": 10,
             "solidity": 0.2
            },
            "type": "scatter"
           }
          ],
          "scatter3d": [
           {
            "line": {
             "colorbar": {
              "outlinewidth": 0,
              "ticks": ""
             }
            },
            "marker": {
             "colorbar": {
              "outlinewidth": 0,
              "ticks": ""
             }
            },
            "type": "scatter3d"
           }
          ],
          "scattercarpet": [
           {
            "marker": {
             "colorbar": {
              "outlinewidth": 0,
              "ticks": ""
             }
            },
            "type": "scattercarpet"
           }
          ],
          "scattergeo": [
           {
            "marker": {
             "colorbar": {
              "outlinewidth": 0,
              "ticks": ""
             }
            },
            "type": "scattergeo"
           }
          ],
          "scattergl": [
           {
            "marker": {
             "colorbar": {
              "outlinewidth": 0,
              "ticks": ""
             }
            },
            "type": "scattergl"
           }
          ],
          "scattermapbox": [
           {
            "marker": {
             "colorbar": {
              "outlinewidth": 0,
              "ticks": ""
             }
            },
            "type": "scattermapbox"
           }
          ],
          "scatterpolar": [
           {
            "marker": {
             "colorbar": {
              "outlinewidth": 0,
              "ticks": ""
             }
            },
            "type": "scatterpolar"
           }
          ],
          "scatterpolargl": [
           {
            "marker": {
             "colorbar": {
              "outlinewidth": 0,
              "ticks": ""
             }
            },
            "type": "scatterpolargl"
           }
          ],
          "scatterternary": [
           {
            "marker": {
             "colorbar": {
              "outlinewidth": 0,
              "ticks": ""
             }
            },
            "type": "scatterternary"
           }
          ],
          "surface": [
           {
            "colorbar": {
             "outlinewidth": 0,
             "ticks": ""
            },
            "colorscale": [
             [
              0,
              "#0d0887"
             ],
             [
              0.1111111111111111,
              "#46039f"
             ],
             [
              0.2222222222222222,
              "#7201a8"
             ],
             [
              0.3333333333333333,
              "#9c179e"
             ],
             [
              0.4444444444444444,
              "#bd3786"
             ],
             [
              0.5555555555555556,
              "#d8576b"
             ],
             [
              0.6666666666666666,
              "#ed7953"
             ],
             [
              0.7777777777777778,
              "#fb9f3a"
             ],
             [
              0.8888888888888888,
              "#fdca26"
             ],
             [
              1,
              "#f0f921"
             ]
            ],
            "type": "surface"
           }
          ],
          "table": [
           {
            "cells": {
             "fill": {
              "color": "#EBF0F8"
             },
             "line": {
              "color": "white"
             }
            },
            "header": {
             "fill": {
              "color": "#C8D4E3"
             },
             "line": {
              "color": "white"
             }
            },
            "type": "table"
           }
          ]
         },
         "layout": {
          "annotationdefaults": {
           "arrowcolor": "#2a3f5f",
           "arrowhead": 0,
           "arrowwidth": 1
          },
          "autotypenumbers": "strict",
          "coloraxis": {
           "colorbar": {
            "outlinewidth": 0,
            "ticks": ""
           }
          },
          "colorscale": {
           "diverging": [
            [
             0,
             "#8e0152"
            ],
            [
             0.1,
             "#c51b7d"
            ],
            [
             0.2,
             "#de77ae"
            ],
            [
             0.3,
             "#f1b6da"
            ],
            [
             0.4,
             "#fde0ef"
            ],
            [
             0.5,
             "#f7f7f7"
            ],
            [
             0.6,
             "#e6f5d0"
            ],
            [
             0.7,
             "#b8e186"
            ],
            [
             0.8,
             "#7fbc41"
            ],
            [
             0.9,
             "#4d9221"
            ],
            [
             1,
             "#276419"
            ]
           ],
           "sequential": [
            [
             0,
             "#0d0887"
            ],
            [
             0.1111111111111111,
             "#46039f"
            ],
            [
             0.2222222222222222,
             "#7201a8"
            ],
            [
             0.3333333333333333,
             "#9c179e"
            ],
            [
             0.4444444444444444,
             "#bd3786"
            ],
            [
             0.5555555555555556,
             "#d8576b"
            ],
            [
             0.6666666666666666,
             "#ed7953"
            ],
            [
             0.7777777777777778,
             "#fb9f3a"
            ],
            [
             0.8888888888888888,
             "#fdca26"
            ],
            [
             1,
             "#f0f921"
            ]
           ],
           "sequentialminus": [
            [
             0,
             "#0d0887"
            ],
            [
             0.1111111111111111,
             "#46039f"
            ],
            [
             0.2222222222222222,
             "#7201a8"
            ],
            [
             0.3333333333333333,
             "#9c179e"
            ],
            [
             0.4444444444444444,
             "#bd3786"
            ],
            [
             0.5555555555555556,
             "#d8576b"
            ],
            [
             0.6666666666666666,
             "#ed7953"
            ],
            [
             0.7777777777777778,
             "#fb9f3a"
            ],
            [
             0.8888888888888888,
             "#fdca26"
            ],
            [
             1,
             "#f0f921"
            ]
           ]
          },
          "colorway": [
           "#636efa",
           "#EF553B",
           "#00cc96",
           "#ab63fa",
           "#FFA15A",
           "#19d3f3",
           "#FF6692",
           "#B6E880",
           "#FF97FF",
           "#FECB52"
          ],
          "font": {
           "color": "#2a3f5f"
          },
          "geo": {
           "bgcolor": "white",
           "lakecolor": "white",
           "landcolor": "#E5ECF6",
           "showlakes": true,
           "showland": true,
           "subunitcolor": "white"
          },
          "hoverlabel": {
           "align": "left"
          },
          "hovermode": "closest",
          "mapbox": {
           "style": "light"
          },
          "paper_bgcolor": "white",
          "plot_bgcolor": "#E5ECF6",
          "polar": {
           "angularaxis": {
            "gridcolor": "white",
            "linecolor": "white",
            "ticks": ""
           },
           "bgcolor": "#E5ECF6",
           "radialaxis": {
            "gridcolor": "white",
            "linecolor": "white",
            "ticks": ""
           }
          },
          "scene": {
           "xaxis": {
            "backgroundcolor": "#E5ECF6",
            "gridcolor": "white",
            "gridwidth": 2,
            "linecolor": "white",
            "showbackground": true,
            "ticks": "",
            "zerolinecolor": "white"
           },
           "yaxis": {
            "backgroundcolor": "#E5ECF6",
            "gridcolor": "white",
            "gridwidth": 2,
            "linecolor": "white",
            "showbackground": true,
            "ticks": "",
            "zerolinecolor": "white"
           },
           "zaxis": {
            "backgroundcolor": "#E5ECF6",
            "gridcolor": "white",
            "gridwidth": 2,
            "linecolor": "white",
            "showbackground": true,
            "ticks": "",
            "zerolinecolor": "white"
           }
          },
          "shapedefaults": {
           "line": {
            "color": "#2a3f5f"
           }
          },
          "ternary": {
           "aaxis": {
            "gridcolor": "white",
            "linecolor": "white",
            "ticks": ""
           },
           "baxis": {
            "gridcolor": "white",
            "linecolor": "white",
            "ticks": ""
           },
           "bgcolor": "#E5ECF6",
           "caxis": {
            "gridcolor": "white",
            "linecolor": "white",
            "ticks": ""
           }
          },
          "title": {
           "x": 0.05
          },
          "xaxis": {
           "automargin": true,
           "gridcolor": "white",
           "linecolor": "white",
           "ticks": "",
           "title": {
            "standoff": 15
           },
           "zerolinecolor": "white",
           "zerolinewidth": 2
          },
          "yaxis": {
           "automargin": true,
           "gridcolor": "white",
           "linecolor": "white",
           "ticks": "",
           "title": {
            "standoff": 15
           },
           "zerolinecolor": "white",
           "zerolinewidth": 2
          }
         }
        },
        "title": {
         "text": "Elbow Method for Optimal k"
        },
        "width": 800,
        "xaxis": {
         "anchor": "y",
         "domain": [
          0,
          1
         ],
         "title": {
          "text": "Number of clusters (k)"
         }
        },
        "yaxis": {
         "anchor": "x",
         "domain": [
          0,
          1
         ],
         "title": {
          "text": "Inertia"
         }
        }
       }
      }
     },
     "metadata": {},
     "output_type": "display_data"
    }
   ],
   "source": [
    "\n",
    "inertia = []\n",
    "k_values = range(1, 20)\n",
    "for k in k_values:\n",
    "    kmeans = KMeans(\n",
    "        n_clusters=k,\n",
    "        random_state=1234,\n",
    "        n_init=\"auto\"\n",
    "    )\n",
    "    kmeans.fit(binary_encoded)\n",
    "    inertia.append(kmeans.inertia_)\n",
    "\n",
    "fig = px.line(\n",
    "    x=k_values,\n",
    "    y=inertia,\n",
    "    markers=True,\n",
    "    title=\"Elbow Method for Optimal k\",\n",
    "    labels={'x': 'Number of clusters (k)', 'y': 'Inertia'},\n",
    "    width=800,\n",
    "    height=500\n",
    ")\n",
    "fig.show()\n"
   ]
  },
  {
   "cell_type": "code",
   "execution_count": 11,
   "metadata": {},
   "outputs": [],
   "source": [
    "def visualize_clusters(df, n_clusters):\n",
    "\n",
    "    kmeans = KMeans(n_clusters=n_clusters, random_state=0, n_init=\"auto\")\n",
    "    clusters = kmeans.fit_predict(df)\n",
    "\n",
    "    # Applying PCA for dimensionality reduction\n",
    "    principal_components = PCA(n_components=2).fit_transform(df)\n",
    "    principal_df = pd.DataFrame(data=principal_components, columns=['PC1', 'PC2'])\n",
    "    principal_df['Cluster'] = clusters\n",
    "    principal_df['Company name'] = df.index\n",
    "\n",
    "        # Plotting using Plotly\n",
    "    return principal_df, px.scatter(\n",
    "        principal_df,\n",
    "        x='PC1',\n",
    "        y='PC2',\n",
    "        color='Cluster', \n",
    "        title=\"PCA of Companies with Clusters\",\n",
    "        labels={'Cluster': 'Cluster', 'PC1': 'Principal Component 1', 'PC2': 'Principal Component 2'},\n",
    "        hover_data=['Company name', 'Cluster'],\n",
    "        width=800,\n",
    "        height=600\n",
    "    )\n",
    "    "
   ]
  },
  {
   "cell_type": "code",
   "execution_count": 12,
   "metadata": {},
   "outputs": [
    {
     "data": {
      "application/vnd.plotly.v1+json": {
       "config": {
        "plotlyServerURL": "https://plot.ly"
       },
       "data": [
        {
         "customdata": [
          [
           "AAK AB (publ)",
           13
          ],
          [
           "AB Skf",
           7
          ],
          [
           "ACS Actividades de Construccion y Servicios SA",
           8
          ],
          [
           "AP Moeller - Maersk A/S",
           5
          ],
          [
           "ASM International NV",
           4
          ],
          [
           "ASML Holding NV",
           0
          ],
          [
           "AUTO1 Group SE",
           4
          ],
          [
           "AVEVA Group PLC",
           1
          ],
          [
           "Aalberts NV",
           1
          ],
          [
           "Abb Ltd",
           10
          ],
          [
           "Abrdn PLC",
           9
          ],
          [
           "Acciona SA",
           8
          ],
          [
           "Accor SA",
           7
          ],
          [
           "Ackermans & Van Haaren NV",
           10
          ],
          [
           "AddLife AB",
           6
          ],
          [
           "Addtech AB",
           1
          ],
          [
           "Adecco Group AG",
           9
          ],
          [
           "Adevinta ASA",
           13
          ],
          [
           "Adidas AG",
           9
          ],
          [
           "Aedifica SA",
           1
          ],
          [
           "Aena SME SA",
           10
          ],
          [
           "Aeroports de Paris SA",
           10
          ],
          [
           "Afry AB",
           10
          ],
          [
           "Airbus SE",
           13
          ],
          [
           "Aker BP ASA",
           14
          ],
          [
           "Akzo Nobel NV",
           1
          ],
          [
           "Alcon AG",
           11
          ],
          [
           "Alfa Laval AB",
           0
          ],
          [
           "Allegro.eu SA",
           4
          ],
          [
           "Alstom SA",
           10
          ],
          [
           "Alten SA",
           9
          ],
          [
           "Amadeus IT Group SA",
           7
          ],
          [
           "Ambu A/S",
           4
          ],
          [
           "Amplifon SpA",
           4
          ],
          [
           "Andritz AG",
           13
          ],
          [
           "Anglo American PLC",
           8
          ],
          [
           "Anheuser Busch Inbev SA",
           7
          ],
          [
           "Antofagasta PLC",
           1
          ],
          [
           "ArcelorMittal SA",
           1
          ],
          [
           "Arkema SA",
           10
          ],
          [
           "Ashtead Group PLC",
           4
          ],
          [
           "Assa Abloy AB",
           13
          ],
          [
           "Associated British Foods PLC",
           14
          ],
          [
           "AstraZeneca PLC",
           0
          ],
          [
           "Atlantia SpA",
           11
          ],
          [
           "Atlas Copco AB",
           11
          ],
          [
           "Atos SE",
           7
          ],
          [
           "Auto Trader Group PLC",
           8
          ],
          [
           "Avast PLC",
           3
          ],
          [
           "BAE Systems PLC",
           2
          ],
          [
           "BASF SE",
           10
          ],
          [
           "BE Semiconductor Industries NV",
           10
          ],
          [
           "BHP Group PLC",
           8
          ],
          [
           "BP PLC",
           1
          ],
          [
           "BT Group PLC",
           7
          ],
          [
           "Bachem Holding AG",
           13
          ],
          [
           "Barratt Developments P L C",
           4
          ],
          [
           "Barry Callebaut AG",
           8
          ],
          [
           "Bayer AG",
           7
          ],
          [
           "Bayerische Motoren Werke AG",
           1
          ],
          [
           "Bechtle AG",
           7
          ],
          [
           "Beiersdorf AG",
           2
          ],
          [
           "Beijer Ref AB (publ)",
           12
          ],
          [
           "Belimo Holding AG",
           13
          ],
          [
           "Bellway PLC",
           6
          ],
          [
           "Berkeley Group Holdings PLC",
           8
          ],
          [
           "BillerudKorsnas AB (publ)",
           1
          ],
          [
           "Biomerieux SA",
           10
          ],
          [
           "Boliden AB",
           8
          ],
          [
           "Bollore SE",
           10
          ],
          [
           "Bouygues SA",
           3
          ],
          [
           "Brenntag SE",
           2
          ],
          [
           "British American Tobacco PLC",
           4
          ],
          [
           "Britvic PLC",
           0
          ],
          [
           "Bucher Industries AG",
           13
          ],
          [
           "Bunzl plc",
           10
          ],
          [
           "Burberry Group PLC",
           7
          ],
          [
           "Bureau Veritas SA",
           8
          ],
          [
           "CD Projekt SA",
           7
          ],
          [
           "CNH Industrial NV",
           1
          ],
          [
           "CRH PLC",
           10
          ],
          [
           "Capgemini SE",
           1
          ],
          [
           "Carl Zeiss Meditec AG",
           4
          ],
          [
           "Carlsberg A/S",
           1
          ],
          [
           "Carnival PLC",
           5
          ],
          [
           "Carrefour SA",
           13
          ],
          [
           "Cellnex Telecom SA",
           13
          ],
          [
           "Chocoladefabriken Lindt & Spruengli AG",
           13
          ],
          [
           "Chr Hansen Holding A/S",
           8
          ],
          [
           "Christian Dior SE",
           14
          ],
          [
           "Clariant AG",
           10
          ],
          [
           "Coca Cola HBC AG",
           4
          ],
          [
           "Coloplast A/S",
           2
          ],
          [
           "Compagnie Financiere Richemont SA",
           7
          ],
          [
           "Compagnie Generale des Etablissements Michelin SCA",
           4
          ],
          [
           "Compagnie de Saint Gobain SA",
           8
          ],
          [
           "Compass Group PLC",
           10
          ],
          [
           "Continental AG",
           12
          ],
          [
           "ConvaTec Group PLC",
           8
          ],
          [
           "Corbion NV",
           10
          ],
          [
           "Covestro AG",
           1
          ],
          [
           "Croda International PLC",
           0
          ],
          [
           "Cts Eventim AG & Co KgaA",
           3
          ],
          [
           "DCC PLC",
           5
          ],
          [
           "DNB Bank ASA",
           14
          ],
          [
           "DS Smith PLC",
           10
          ],
          [
           "DSV Panalpina A/S",
           5
          ],
          [
           "Daimler AG",
           13
          ],
          [
           "Danone SA",
           10
          ],
          [
           "Dassault Aviation SA",
           4
          ],
          [
           "Dassault Systemes SE",
           1
          ],
          [
           "Davide Campari Milano NV",
           2
          ],
          [
           "Dechra Pharmaceuticals PLC",
           8
          ],
          [
           "Deliveroo PLC",
           4
          ],
          [
           "Delivery Hero SE",
           11
          ],
          [
           "Demant A/S",
           3
          ],
          [
           "Deutsche Lufthansa AG",
           7
          ],
          [
           "Deutsche Post AG",
           12
          ],
          [
           "Deutsche Telekom AG",
           8
          ],
          [
           "DiaSorin SpA",
           4
          ],
          [
           "Diageo PLC",
           11
          ],
          [
           "Dino Polska SA",
           4
          ],
          [
           "Diploma PLC",
           11
          ],
          [
           "Dometic Group AB (publ)",
           7
          ],
          [
           "Dr Martens PLC",
           14
          ],
          [
           "Dufry AG",
           2
          ],
          [
           "EVRAZ plc",
           5
          ],
          [
           "Easyjet PLC",
           4
          ],
          [
           "Eiffage SA",
           3
          ],
          [
           "Electrocomponents PLC",
           0
          ],
          [
           "Electrolux AB",
           1
          ],
          [
           "Elekta AB (publ)",
           13
          ],
          [
           "Elis SA",
           6
          ],
          [
           "Elisa Oyj",
           1
          ],
          [
           "Ems Chemie Holding AG",
           6
          ],
          [
           "Eni SpA",
           1
          ],
          [
           "Entain PLC",
           4
          ],
          [
           "Epiroc AB",
           1
          ],
          [
           "Equinor ASA",
           5
          ],
          [
           "EssilorLuxottica SA",
           4
          ],
          [
           "Essity AB (publ)",
           2
          ],
          [
           "Etablissementen Franz Colruyt NV",
           10
          ],
          [
           "Eurofins Scientific SE",
           13
          ],
          [
           "Evolution AB (publ)",
           12
          ],
          [
           "Evonik Industries AG",
           1
          ],
          [
           "Evotec SE",
           4
          ],
          [
           "Experian PLC",
           14
          ],
          [
           "Ferguson PLC",
           4
          ],
          [
           "Ferrari NV",
           8
          ],
          [
           "Ferrovial SA",
           1
          ],
          [
           "Flughafen Zuerich AG",
           11
          ],
          [
           "Flutter Entertainment PLC",
           14
          ],
          [
           "Fresenius Medical Care AG & Co KGaA",
           2
          ],
          [
           "Fresenius SE & Co KGaA",
           3
          ],
          [
           "Fuchs Petrolub SE",
           0
          ],
          [
           "Future PLC",
           11
          ],
          [
           "GEA Group AG",
           10
          ],
          [
           "GN Store Nord A/S",
           4
          ],
          [
           "Galapagos NV",
           4
          ],
          [
           "Galenica AG",
           3
          ],
          [
           "Galp Energia SGPS SA",
           1
          ],
          [
           "Games Workshop Group PLC",
           6
          ],
          [
           "Geberit AG",
           0
          ],
          [
           "Genmab A/S",
           2
          ],
          [
           "Genus PLC",
           1
          ],
          [
           "Georg Fischer AG",
           3
          ],
          [
           "Gerresheimer AG",
           4
          ],
          [
           "Getinge AB",
           7
          ],
          [
           "Getlink SE",
           3
          ],
          [
           "Givaudan SA",
           1
          ],
          [
           "Glanbia PLC",
           2
          ],
          [
           "GlaxoSmithKline PLC",
           7
          ],
          [
           "Glencore PLC",
           10
          ],
          [
           "Grafton Group PLC",
           5
          ],
          [
           "Greggs PLC",
           8
          ],
          [
           "Grifols SA",
           3
          ],
          [
           "H & M Hennes & Mauritz AB",
           10
          ],
          [
           "Halma PLC",
           10
          ],
          [
           "Hays PLC",
           9
          ],
          [
           "HeidelbergCement AG",
           1
          ],
          [
           "Heineken Holding NV",
           3
          ],
          [
           "Heineken NV",
           11
          ],
          [
           "Hellofresh SE",
           11
          ],
          [
           "Helvetia Holding AG",
           2
          ],
          [
           "Henkel AG & Co KGaA",
           0
          ],
          [
           "Hermes International SCA",
           2
          ],
          [
           "Hexagon AB",
           1
          ],
          [
           "Hexpol AB",
           1
          ],
          [
           "Hikma Pharmaceuticals PLC",
           8
          ],
          [
           "Holcim AG",
           1
          ],
          [
           "Holmen AB",
           13
          ],
          [
           "HomeServe PLC",
           4
          ],
          [
           "Howden Joinery Group PLC",
           14
          ],
          [
           "Huhtamaki Oyj",
           7
          ],
          [
           "Husqvarna AB",
           0
          ],
          [
           "ICA Gruppen AB",
           4
          ],
          [
           "IMCD NV",
           14
          ],
          [
           "IMI PLC",
           0
          ],
          [
           "ITV PLC",
           10
          ],
          [
           "Idorsia Ltd",
           7
          ],
          [
           "Imperial Brands PLC",
           3
          ],
          [
           "InPost SA",
           13
          ],
          [
           "Inchcape PLC",
           1
          ],
          [
           "Industria de Diseno Textil SA",
           13
          ],
          [
           "Indutrade AB",
           1
          ],
          [
           "Infineon Technologies AG",
           1
          ],
          [
           "Informa PLC",
           7
          ],
          [
           "Infrastrutture Wireless Italiane SpA",
           7
          ],
          [
           "InterContinental Hotels Group PLC",
           6
          ],
          [
           "International Consolidated Airlines Group SA",
           10
          ],
          [
           "Interpump Group SpA",
           13
          ],
          [
           "Intertek Group PLC",
           12
          ],
          [
           "Investor AB",
           10
          ],
          [
           "Ipsen SA",
           11
          ],
          [
           "Iss A/S",
           11
          ],
          [
           "J Sainsbury PLC",
           4
          ],
          [
           "JD Sports Fashion PLC",
           6
          ],
          [
           "JDE Peets NV",
           1
          ],
          [
           "Jeronimo Martins SGPS SA",
           10
          ],
          [
           "Johnson Matthey PLC",
           10
          ],
          [
           "Just Eat Takeaway.com NV",
           4
          ],
          [
           "KGHM Polska Miedz SA",
           5
          ],
          [
           "Kering SA",
           1
          ],
          [
           "Kerry Group PLC",
           13
          ],
          [
           "Kesko Oyj",
           6
          ],
          [
           "Kindred Group PLC",
           8
          ],
          [
           "Kingfisher PLC",
           4
          ],
          [
           "Kingspan Group PLC",
           10
          ],
          [
           "Kinnevik AB",
           1
          ],
          [
           "Kion Group AG",
           4
          ],
          [
           "Knorr Bremse AG",
           11
          ],
          [
           "Kone Oyj",
           8
          ],
          [
           "Koninklijke Ahold Delhaize NV",
           2
          ],
          [
           "Koninklijke DSM NV",
           11
          ],
          [
           "Koninklijke KPN NV",
           13
          ],
          [
           "Koninklijke Philips NV",
           7
          ],
          [
           "Koninklijke Vopak NV",
           3
          ],
          [
           "Kuehne und Nagel International AG",
           8
          ],
          [
           "L'Air Liquide Societe Anonyme pour l'Etude et l'Exploitation des Procedes George",
           10
          ],
          [
           "L'Oreal SA",
           0
          ],
          [
           "LMVH",
           7
          ],
          [
           "LPP SA",
           4
          ],
          [
           "La Francaise des Jeux SA",
           4
          ],
          [
           "Lanxess AG",
           10
          ],
          [
           "Legrand SA",
           1
          ],
          [
           "Leonardo SpA",
           4
          ],
          [
           "Lifco AB (publ)",
           6
          ],
          [
           "Linde PLC",
           13
          ],
          [
           "Logitech International SA",
           13
          ],
          [
           "Lonza Group AG",
           8
          ],
          [
           "Lundin Energy AB",
           12
          ],
          [
           "MTU Aero Engines AG",
           1
          ],
          [
           "Man Group PLC",
           14
          ],
          [
           "Marks and Spencer Group PLC",
           8
          ],
          [
           "Meggitt PLC",
           13
          ],
          [
           "Melrose Industries PLC",
           14
          ],
          [
           "Merck KGaA",
           0
          ],
          [
           "Metso Outotec Corp",
           13
          ],
          [
           "Millicom International Cellular SA",
           8
          ],
          [
           "Moncler SpA",
           3
          ],
          [
           "Mondi PLC",
           1
          ],
          [
           "MorphoSys AG",
           7
          ],
          [
           "Mowi ASA",
           10
          ],
          [
           "Nemetschek SE",
           4
          ],
          [
           "Neste Oyj",
           10
          ],
          [
           "Nestle SA",
           1
          ],
          [
           "Netcompany Group A/S",
           8
          ],
          [
           "Next PLC",
           10
          ],
          [
           "Nibe Industrier AB",
           1
          ],
          [
           "Nokia Oyj",
           10
          ],
          [
           "Nokian Tyres plc",
           7
          ],
          [
           "Nordic Entertainment Group AB",
           0
          ],
          [
           "Nordic Semiconductor ASA",
           7
          ],
          [
           "Norsk Hydro ASA",
           0
          ],
          [
           "Novartis AG",
           7
          ],
          [
           "Novo Nordisk A/S",
           7
          ],
          [
           "Novozymes A/S",
           13
          ],
          [
           "OMV AG",
           1
          ],
          [
           "Ocado Group PLC",
           4
          ],
          [
           "Orange SA",
           10
          ],
          [
           "Orion Oyj",
           10
          ],
          [
           "Orkla ASA",
           10
          ],
          [
           "Orpea SA",
           8
          ],
          [
           "Orsted A/S",
           10
          ],
          [
           "P/F Bakkafrost",
           2
          ],
          [
           "Pandora A/S",
           4
          ],
          [
           "Pearson PLC",
           8
          ],
          [
           "Pennon Group PLC",
           10
          ],
          [
           "Pernod Ricard SA",
           2
          ],
          [
           "Persimmon PLC",
           2
          ],
          [
           "Polski Koncern Naftowy Orlen SA",
           10
          ],
          [
           "Polymetal International PLC",
           10
          ],
          [
           "Prosiebensat 1 Media SE",
           7
          ],
          [
           "Prosus NV",
           0
          ],
          [
           "Proximus NV",
           12
          ],
          [
           "Prysmian SpA",
           13
          ],
          [
           "Publicis Groupe SA",
           12
          ],
          [
           "Puma SE",
           7
          ],
          [
           "Qiagen NV",
           4
          ],
          [
           "Randstad NV",
           9
          ],
          [
           "Rational AG",
           4
          ],
          [
           "Reckitt Benckiser Group PLC",
           13
          ],
          [
           "Recordati Industria Chimica e Farmaceutica SpA",
           4
          ],
          [
           "Relx PLC",
           7
          ],
          [
           "Remy Cointreau SA",
           8
          ],
          [
           "Renault SA",
           7
          ],
          [
           "Rentokil Initial PLC",
           8
          ],
          [
           "Reply SpA",
           7
          ],
          [
           "Repsol SA",
           0
          ],
          [
           "Rexel SA",
           1
          ],
          [
           "Rheinmetall AG",
           1
          ],
          [
           "Rightmove PLC",
           4
          ],
          [
           "Rio Tinto PLC",
           1
          ],
          [
           "Roche Holding AG",
           8
          ],
          [
           "Rockwool International A/S",
           7
          ],
          [
           "Rolls-Royce Holdings PLC",
           1
          ],
          [
           "Rotork PLC",
           2
          ],
          [
           "Royal Dutch Shell PLC",
           1
          ],
          [
           "Royal Mail PLC",
           4
          ],
          [
           "Royal Unibrew A/S",
           2
          ],
          [
           "Rubis SCA",
           8
          ],
          [
           "Ryanair Holdings PLC",
           1
          ],
          [
           "S4 Capital PLC",
           4
          ],
          [
           "SAP SE",
           7
          ],
          [
           "SEB SA",
           13
          ],
          [
           "SES SA",
           4
          ],
          [
           "SGS SA",
           6
          ],
          [
           "SIG Combibloc Group AG",
           13
          ],
          [
           "STMicroelectronics NV",
           0
          ],
          [
           "Safran SA",
           12
          ],
          [
           "Sagax AB",
           14
          ],
          [
           "Sage Group PLC",
           13
          ],
          [
           "SalMar ASA",
           3
          ],
          [
           "Sandvik AB",
           7
          ],
          [
           "Sanofi SA",
           0
          ],
          [
           "Sartorius AG",
           4
          ],
          [
           "Sartorius Stedim Biotech SA",
           1
          ],
          [
           "Schibsted ASA",
           8
          ],
          [
           "Schindler Holding AG",
           4
          ],
          [
           "Schneider Electric SE",
           5
          ],
          [
           "Securitas AB",
           3
          ],
          [
           "Siegfried Holding AG",
           4
          ],
          [
           "Siemens AG",
           8
          ],
          [
           "Siemens Energy AG",
           1
          ],
          [
           "Siemens Gamesa Renewable Energy SA",
           8
          ],
          [
           "Siemens Healthineers AG",
           7
          ],
          [
           "Signify NV",
           0
          ],
          [
           "Sika AG",
           1
          ],
          [
           "Simcorp A/S",
           8
          ],
          [
           "Sinch AB (publ)",
           4
          ],
          [
           "Skanska AB",
           13
          ],
          [
           "Smith & Nephew PLC",
           0
          ],
          [
           "Smiths Group PLC",
           1
          ],
          [
           "Smurfit Kappa Group PLC",
           6
          ],
          [
           "Snam SpA",
           8
          ],
          [
           "Sodexo SA",
           10
          ],
          [
           "Softcat PLC",
           4
          ],
          [
           "Soitec SA",
           1
          ],
          [
           "Solvay SA",
           7
          ],
          [
           "Sonova Holding AG",
           4
          ],
          [
           "Sopra Steria Group SA",
           0
          ],
          [
           "Spectris PLC",
           14
          ],
          [
           "Spie SA",
           10
          ],
          [
           "Spirax-Sarco Engineering PLC",
           6
          ],
          [
           "St James's Place PLC",
           7
          ],
          [
           "Stadler Rail AG",
           2
          ],
          [
           "Stellantis NV",
           0
          ],
          [
           "Stora Enso Oyj",
           10
          ],
          [
           "Straumann Holding AG",
           4
          ],
          [
           "Svenska Cellulosa SCA AB",
           5
          ],
          [
           "Swatch Group AG",
           10
          ],
          [
           "Sweco AB (publ)",
           8
          ],
          [
           "Swedish Match AB",
           10
          ],
          [
           "Swedish Orphan Biovitrum AB (publ)",
           0
          ],
          [
           "Swisscom AG",
           7
          ],
          [
           "Symrise AG",
           1
          ],
          [
           "THG PLC",
           4
          ],
          [
           "TUI AG",
           2
          ],
          [
           "Tate & Lyle PLC",
           7
          ],
          [
           "Taylor Wimpey PLC",
           3
          ],
          [
           "TeamViewer AG",
           8
          ],
          [
           "Tecan Group AG",
           4
          ],
          [
           "TechnipFMC PLC",
           5
          ],
          [
           "Tele2 AB",
           4
          ],
          [
           "Telecom Italia SpA",
           4
          ],
          [
           "Telefonaktiebolaget LM Ericsson",
           5
          ],
          [
           "Telefonica SA",
           4
          ],
          [
           "Telenor ASA",
           4
          ],
          [
           "Teleperformance SE",
           4
          ],
          [
           "Telia Company AB",
           4
          ],
          [
           "Temenos AG",
           3
          ],
          [
           "Tenaris SA",
           4
          ],
          [
           "Tesco PLC",
           13
          ],
          [
           "Thales SA",
           3
          ],
          [
           "Thule Group AB",
           10
          ],
          [
           "Tomra Systems ASA",
           7
          ],
          [
           "TotalEnergies SE",
           4
          ],
          [
           "Travis Perkins PLC",
           8
          ],
          [
           "Trelleborg AB",
           4
          ],
          [
           "UPM-Kymmene Oyj",
           1
          ],
          [
           "Ubisoft Entertainment SA",
           2
          ],
          [
           "Ucb SA",
           4
          ],
          [
           "Umicore SA",
           10
          ],
          [
           "Unilever PLC",
           10
          ],
          [
           "Unite Group PLC",
           4
          ],
          [
           "United Internet AG",
           7
          ],
          [
           "VAT Group AG",
           7
          ],
          [
           "Valeo SE",
           2
          ],
          [
           "Valmet Oyj",
           2
          ],
          [
           "Vestas Wind Systems A/S",
           10
          ],
          [
           "Victrex PLC",
           10
          ],
          [
           "Vifor Pharma AG",
           1
          ],
          [
           "Vinci SA",
           13
          ],
          [
           "Vistry Group PLC",
           8
          ],
          [
           "Vivendi SE",
           7
          ],
          [
           "Vodafone Group PLC",
           8
          ],
          [
           "Volkswagen AG",
           10
          ],
          [
           "Volvo AB",
           13
          ],
          [
           "WH Smith PLC",
           12
          ],
          [
           "WPP PLC",
           6
          ],
          [
           "Wartsila Oyj Abp",
           1
          ],
          [
           "Weir Group PLC",
           4
          ],
          [
           "Wendel SE",
           10
          ],
          [
           "Whitbread PLC",
           3
          ],
          [
           "Wienerberger AG",
           10
          ],
          [
           "Wihlborgs Fastigheter AB",
           5
          ],
          [
           "Wizz Air Holdings PLC",
           14
          ],
          [
           "Wm Morrison Supermarkets P L C",
           11
          ],
          [
           "Wolters Kluwer NV",
           11
          ],
          [
           "Yara International ASA",
           8
          ],
          [
           "Zalando SE",
           13
          ],
          [
           "Zur Rose Group AG",
           14
          ],
          [
           "ams AG",
           7
          ],
          [
           "argenx SE",
           4
          ],
          [
           "freenet AG",
           4
          ],
          [
           "thyssenkrupp AG",
           7
          ],
          [
           "voestalpine AG",
           4
          ]
         ],
         "hovertemplate": "Principal Component 1=%{x}<br>Principal Component 2=%{y}<br>Company name=%{customdata[0]}<br>Cluster=%{marker.color}<extra></extra>",
         "legendgroup": "",
         "marker": {
          "color": [
           13,
           7,
           8,
           5,
           4,
           0,
           4,
           1,
           1,
           10,
           9,
           8,
           7,
           10,
           6,
           1,
           9,
           13,
           9,
           1,
           10,
           10,
           10,
           13,
           14,
           1,
           11,
           0,
           4,
           10,
           9,
           7,
           4,
           4,
           13,
           8,
           7,
           1,
           1,
           10,
           4,
           13,
           14,
           0,
           11,
           11,
           7,
           8,
           3,
           2,
           10,
           10,
           8,
           1,
           7,
           13,
           4,
           8,
           7,
           1,
           7,
           2,
           12,
           13,
           6,
           8,
           1,
           10,
           8,
           10,
           3,
           2,
           4,
           0,
           13,
           10,
           7,
           8,
           7,
           1,
           10,
           1,
           4,
           1,
           5,
           13,
           13,
           13,
           8,
           14,
           10,
           4,
           2,
           7,
           4,
           8,
           10,
           12,
           8,
           10,
           1,
           0,
           3,
           5,
           14,
           10,
           5,
           13,
           10,
           4,
           1,
           2,
           8,
           4,
           11,
           3,
           7,
           12,
           8,
           4,
           11,
           4,
           11,
           7,
           14,
           2,
           5,
           4,
           3,
           0,
           1,
           13,
           6,
           1,
           6,
           1,
           4,
           1,
           5,
           4,
           2,
           10,
           13,
           12,
           1,
           4,
           14,
           4,
           8,
           1,
           11,
           14,
           2,
           3,
           0,
           11,
           10,
           4,
           4,
           3,
           1,
           6,
           0,
           2,
           1,
           3,
           4,
           7,
           3,
           1,
           2,
           7,
           10,
           5,
           8,
           3,
           10,
           10,
           9,
           1,
           3,
           11,
           11,
           2,
           0,
           2,
           1,
           1,
           8,
           1,
           13,
           4,
           14,
           7,
           0,
           4,
           14,
           0,
           10,
           7,
           3,
           13,
           1,
           13,
           1,
           1,
           7,
           7,
           6,
           10,
           13,
           12,
           10,
           11,
           11,
           4,
           6,
           1,
           10,
           10,
           4,
           5,
           1,
           13,
           6,
           8,
           4,
           10,
           1,
           4,
           11,
           8,
           2,
           11,
           13,
           7,
           3,
           8,
           10,
           0,
           7,
           4,
           4,
           10,
           1,
           4,
           6,
           13,
           13,
           8,
           12,
           1,
           14,
           8,
           13,
           14,
           0,
           13,
           8,
           3,
           1,
           7,
           10,
           4,
           10,
           1,
           8,
           10,
           1,
           10,
           7,
           0,
           7,
           0,
           7,
           7,
           13,
           1,
           4,
           10,
           10,
           10,
           8,
           10,
           2,
           4,
           8,
           10,
           2,
           2,
           10,
           10,
           7,
           0,
           12,
           13,
           12,
           7,
           4,
           9,
           4,
           13,
           4,
           7,
           8,
           7,
           8,
           7,
           0,
           1,
           1,
           4,
           1,
           8,
           7,
           1,
           2,
           1,
           4,
           2,
           8,
           1,
           4,
           7,
           13,
           4,
           6,
           13,
           0,
           12,
           14,
           13,
           3,
           7,
           0,
           4,
           1,
           8,
           4,
           5,
           3,
           4,
           8,
           1,
           8,
           7,
           0,
           1,
           8,
           4,
           13,
           0,
           1,
           6,
           8,
           10,
           4,
           1,
           7,
           4,
           0,
           14,
           10,
           6,
           7,
           2,
           0,
           10,
           4,
           5,
           10,
           8,
           10,
           0,
           7,
           1,
           4,
           2,
           7,
           3,
           8,
           4,
           5,
           4,
           4,
           5,
           4,
           4,
           4,
           4,
           3,
           4,
           13,
           3,
           10,
           7,
           4,
           8,
           4,
           1,
           2,
           4,
           10,
           10,
           4,
           7,
           7,
           2,
           2,
           10,
           10,
           1,
           13,
           8,
           7,
           8,
           10,
           13,
           12,
           6,
           1,
           4,
           10,
           3,
           10,
           5,
           14,
           11,
           11,
           8,
           13,
           14,
           7,
           4,
           4,
           7,
           4
          ],
          "coloraxis": "coloraxis",
          "symbol": "circle"
         },
         "mode": "markers",
         "name": "",
         "orientation": "v",
         "showlegend": false,
         "type": "scatter",
         "x": [
          0.012693088079466756,
          0.17521005754467758,
          0.10050895061556907,
          -0.6560237239808978,
          0.7716134474724544,
          0.10747722189718972,
          0.7716134474724439,
          -0.6417227493457013,
          -0.45981817581870665,
          -0.509130500759022,
          0.7799523160278286,
          -0.4995478491990321,
          0.3221032807665572,
          -0.6679940603373999,
          0.745964075935282,
          -0.4368170786264204,
          0.1784410056308597,
          -0.08847566006769056,
          -0.06742014680274022,
          -0.6101179115053348,
          -0.6780344315316497,
          -0.7370372686705914,
          -0.6679940603374002,
          -0.0827272866397389,
          -0.7066700323907705,
          -0.679161119838526,
          0.677494116126231,
          -0.7176404520941613,
          0.8139575011311434,
          -0.7579227110774894,
          0.14847163715695855,
          0.3221032807665567,
          0.7716134474724435,
          0.9687852440801062,
          0.01269308807946596,
          0.05816489695686829,
          0.1632397211881789,
          -0.7429574361308452,
          -0.5956806382047989,
          -0.6679940603374002,
          0.7917621699075298,
          -0.0827272866397389,
          0.009906273343507375,
          0.11604104578893348,
          -0.008097977662740001,
          0.7388520453737342,
          0.1632397211881789,
          0.012122785815962878,
          0.13576240038880738,
          0.9029996862514502,
          -0.6679940603374002,
          -0.7691628084845564,
          0.05816489695686829,
          -0.6101179115053348,
          0.1681454043540569,
          0.05752918941269572,
          0.6993000253398424,
          0.2170284565352463,
          0.1632397211881789,
          -0.6968493863519554,
          0.1632397211881789,
          0.6848627520393064,
          0.29213391229265556,
          0.01269308807946596,
          -0.20683119334119698,
          -0.5418919028577315,
          -0.5956806382047989,
          -0.6375952323047062,
          -0.7007554624361093,
          -0.8215472333375061,
          0.2497898586339556,
          0.7569948367710636,
          0.7127887529839869,
          0.13047831908946944,
          -0.07650532371118715,
          -0.7691628084845564,
          0.1632397211881789,
          -0.7991819984299644,
          0.1632397211881789,
          -0.5837103018482955,
          -0.7922697610711602,
          -0.6187875907914024,
          0.7716134474724435,
          -0.5956806382047989,
          -0.47543101565589263,
          0.18251214054294174,
          -0.08847566006769057,
          -0.059620334053135264,
          -0.6584114087774097,
          -0.04300385119028816,
          -0.6679940603374002,
          0.6993000253398424,
          0.6848627520393064,
          0.22093453261940013,
          0.7716134474724435,
          0.05816489695686829,
          -0.7691628084845564,
          0.9005076385769203,
          0.2170284565352463,
          -0.7203784851903499,
          -0.5956806382047989,
          0.14244865544597282,
          0.09932221345557567,
          0.1452406890707809,
          0.6101016135491892,
          -0.6679940603374002,
          -0.7571924721280533,
          0.01269308807946596,
          -0.7836000817850924,
          0.8587936024643734,
          -0.5956806382047989,
          0.5836940038921499,
          -0.7007554624361093,
          0.7716134474724435,
          0.6665386232411332,
          0.23535258533341963,
          0.06207097304102229,
          0.9005076385769203,
          0.03516379976458239,
          0.783583783828947,
          0.7088826768998331,
          0.6993000253398424,
          0.5653698750939766,
          0.051040212205239646,
          -0.010242449091578976,
          0.6848627520393064,
          0.26176019499045877,
          0.7304042406600262,
          0.24742728456794014,
          -0.6284420403035081,
          -0.6101179115053348,
          -0.08847566006769057,
          -0.16078908220029167,
          -0.4368170786264208,
          -0.05430994747486342,
          -0.5739514894581725,
          0.6993000253398424,
          -0.5956806382047989,
          -0.688785126079606,
          0.7329995104429717,
          -0.0740576073536712,
          -0.5321315979513082,
          -0.05016742303840577,
          0.9089035529769186,
          -0.7112866596524913,
          0.8249129940162414,
          -0.000659797531588486,
          0.7716134474724435,
          0.05816489695686829,
          -0.6968493863519554,
          0.6665386232411332,
          0.03459365224165085,
          0.7873936648037578,
          0.09663774819012788,
          -0.6284420403035081,
          0.7014136748809123,
          -0.6679940603374002,
          0.7716134474724435,
          0.7716134474724435,
          0.07648902575504142,
          -0.5956806382047989,
          -0.21317350705324148,
          0.14244865544597282,
          0.6848627520393064,
          -0.5837103018482955,
          0.2497898586339556,
          0.9304770070508216,
          0.19114650154634266,
          0.06792520186329182,
          -0.6101179115053348,
          -0.0740576073536712,
          0.12580135069535683,
          -0.7691628084845564,
          0.12473163955302453,
          0.0590800186477162,
          0.07648902575504142,
          -0.6570385674523023,
          -0.6824313336379361,
          0.14857749255127636,
          -0.5956806382047989,
          0.09932221345557567,
          -0.11538283334413037,
          0.7388520453737342,
          0.8437263116176842,
          -0.6284420403035081,
          0.8581635849182201,
          -0.5837103018482955,
          -0.5956806382047989,
          0.07831361939195443,
          -0.6187875907914024,
          -0.059620334053135264,
          0.7112703616963458,
          0.5981312771926859,
          0.17419521407327634,
          0.13047831908946944,
          0.6993000253398424,
          0.044176303801641593,
          -0.5707472288722868,
          -0.7285393834168256,
          0.1632397211881789,
          -0.02193751023881333,
          0.01269308807946596,
          -0.5956806382047989,
          -0.059620334053135264,
          -0.6848790499954521,
          -0.5956806382047989,
          0.2846649102737349,
          0.1861655504297796,
          -0.16078908220029167,
          -0.5654631475729488,
          -0.08847566006769057,
          0.9728210607095216,
          -0.6679940603374002,
          0.7388520453737342,
          0.6665386232411332,
          0.6993000253398424,
          -0.16078908220029167,
          -0.5956806382047989,
          -0.7582073155994589,
          -0.6679940603374002,
          0.7716134474724435,
          -0.4971601644025187,
          -0.6968493863519554,
          -0.010308009112820309,
          -0.11844502854159189,
          0.10300099829009819,
          0.7102555182249403,
          -0.7055382862245396,
          -0.6545053326932557,
          0.9304770070508216,
          -0.02006831401924329,
          -0.7007554624361093,
          0.8581635849182201,
          0.5653698750939766,
          -0.08847566006769057,
          0.14880244788764294,
          0.23535258533341963,
          0.05816489695686829,
          -0.7691628084845564,
          0.13047831908946944,
          0.3221032807665567,
          0.7716134474724435,
          0.6532579141989371,
          -0.6679940603374002,
          -0.5956806382047989,
          0.7716134474724435,
          -0.16078908220029167,
          0.055037141738165776,
          -0.059620334053135264,
          -0.7151927357366453,
          -0.4667864471003219,
          -0.5956806382047989,
          0.5981312771926859,
          0.05816489695686829,
          0.17155664765784423,
          -0.010242449091578976,
          0.13047831908946944,
          0.01269308807946596,
          0.1149713346466014,
          0.20259118323471034,
          -0.5956806382047989,
          0.14880244788764294,
          -0.6679940603374002,
          0.7716134474724435,
          -0.6679940603374002,
          -0.6101179115053348,
          -0.5418919028577315,
          -0.7619053730816641,
          -0.5956806382047989,
          -0.6679940603374002,
          0.20154795821746344,
          0.17282237274816933,
          0.2200461588779119,
          0.14244865544597282,
          0.05858919262558389,
          0.14880244788764294,
          0.01269308807946596,
          -0.5956806382047989,
          0.9687852440801062,
          -0.6923070227316792,
          -0.6909951575296861,
          -0.7268187548258567,
          0.08892481046643319,
          -0.6679940603374002,
          0.09924322552524277,
          0.6993000253398424,
          0.14130923531938291,
          -0.6679940603374002,
          0.7890145211907114,
          0.8581635849182201,
          -0.6679940603374002,
          -0.8215472333375061,
          0.1632397211881789,
          0.14244865544597282,
          0.3644473344252567,
          -0.08847566006769057,
          0.984791397066025,
          0.22093453261940013,
          0.7716134474724435,
          0.10612758349825854,
          0.7716134474724435,
          0.01269308807946596,
          0.656007426024751,
          0.21378727165595882,
          -0.7007554624361093,
          0.1632397211881789,
          -0.7531398872890589,
          0.1752100575446821,
          -0.5716356026137749,
          -0.5956806382047989,
          -0.5533365845460991,
          0.6993000253398424,
          -0.5956806382047989,
          0.05816489695686829,
          0.14880244788764294,
          -0.6480650630577486,
          0.09924322552524277,
          -0.6968493863519554,
          0.7441361266730724,
          0.8581635849182201,
          0.005780472103918717,
          -0.5956806382047989,
          0.8139575011311434,
          0.14013276860157506,
          -0.059620334053135264,
          0.7716134474724435,
          -0.7921639056768425,
          -0.0394716116180489,
          -0.6284420403035081,
          -0.3835175320826232,
          -0.010242449091578976,
          0.01269308807946596,
          0.07648902575504142,
          0.1632397211881789,
          0.13047831908946944,
          0.6993000253398424,
          -0.584725145319701,
          0.14130923531938291,
          0.9304770070508216,
          -0.6560237239808967,
          0.09092629905557735,
          0.670444699325287,
          -0.017220625088367192,
          -0.6968493863519554,
          -0.7007554624361093,
          0.1511941168809905,
          -0.6284420403035081,
          -0.6520132850187256,
          -0.7107958336303589,
          0.7561064630295756,
          -0.08847566006769057,
          0.13134818562593228,
          -0.5956806382047989,
          -0.18379017939257775,
          -0.7007554624361093,
          -0.7154728020244716,
          0.6761930727532388,
          -0.5956806382047989,
          0.15220896035239598,
          0.7825689403575414,
          0.26634078147556156,
          0.6101016135491892,
          -0.6679940603374002,
          -0.14881874584378846,
          0.1632397211881789,
          0.9029996862514502,
          0.2662349260812438,
          -0.6679940603374002,
          0.7716134474724435,
          -0.6560237239808967,
          -0.815204919625462,
          0.03516379976458239,
          -0.7836000817850924,
          0.2749046053673116,
          0.20154795821746344,
          -0.6561600226462401,
          0.7486123502801575,
          0.6848627520393064,
          0.1632397211881789,
          0.06792520186329182,
          -0.7467975735770147,
          0.670444699325287,
          -0.4971601644025187,
          0.7716134474724435,
          0.7102555182249403,
          -0.6111876226476667,
          0.7341750769796216,
          0.6993000253398424,
          0.7112703616963458,
          0.8284198851621769,
          0.06781934646897389,
          0.8412785952601683,
          -0.059620334053135264,
          0.13576240038880738,
          -0.6824313336379361,
          0.1752100575446821,
          0.6686447492335187,
          0.05816489695686829,
          0.670444699325287,
          -0.5956806382047989,
          0.8581635849182201,
          0.670444699325287,
          -0.7691628084845564,
          -0.6679940603374002,
          0.7441361266730724,
          0.2200461588779119,
          0.3221032807665567,
          -0.0740576073536712,
          0.8581635849182201,
          -0.6679940603374002,
          -0.6679940603374002,
          -0.6968493863519554,
          -0.08847566006769057,
          -0.7007554624361093,
          0.11713167140928918,
          0.03516379976458239,
          -0.6570385674523023,
          -0.08847566006769057,
          0.9005076385769203,
          -0.7921639056768425,
          -0.5956806382047989,
          0.7441361266730724,
          -0.6679940603374002,
          0.26104814269908133,
          -0.6824313336379361,
          0.1452406890707809,
          0.618279999627772,
          -0.08667028701729432,
          0.7048468602704178,
          -0.7697986707693008,
          0.01269308807946596,
          0.6905934217603732,
          0.10441502669972211,
          0.6993000253398424,
          0.6993000253398424,
          0.1632397211881789,
          0.7716134474724435
         ],
         "xaxis": "x",
         "y": [
          -0.7985937594980975,
          -0.34438916676668135,
          0.9320416427305401,
          0.23813812672805357,
          -0.5634493086287765,
          0.1016973969052288,
          -0.5634493086287619,
          -0.5329735029804229,
          -0.42025973019640245,
          0.35459841884638166,
          0.35104345120069913,
          0.8003645339420428,
          -0.2279288746483485,
          0.25113107676554325,
          0.21318189989392833,
          -0.46307332551768493,
          -0.2673987830678162,
          -0.9729222827041095,
          0.12588901384862175,
          -0.4993051991707213,
          0.38262243897727904,
          0.32751183670492423,
          0.2511310767655432,
          0.04174049984447183,
          0.15467186866318872,
          -0.42292443923134,
          0.6346352177795924,
          -0.3635821225288877,
          -0.5079632118462364,
          0.41703432560105935,
          0.6057590580787772,
          -0.2279288746483487,
          -0.5634493086287625,
          -0.4186470478650561,
          -0.7985937594980989,
          0.8765555459480142,
          -0.3313962167291876,
          -0.6753930805047484,
          -0.5665406675985241,
          0.2511310767655432,
          -0.5410660903076329,
          0.04174049984447183,
          0.334330222749999,
          0.12611927001174955,
          -0.42130669122245223,
          -0.17316929031562808,
          -0.3313962167291876,
          0.9101227105661127,
          0.5831244484513742,
          0.45453869863263835,
          0.2511310767655432,
          0.07680255355953275,
          0.8765555459480142,
          -0.4993051991707213,
          -0.16586105619757618,
          -0.7017448386816042,
          0.2542224357353046,
          0.9800228880288532,
          -0.3313962167291876,
          -0.7408691908045345,
          -0.3313962167291876,
          0.32145790416310743,
          0.645228966498245,
          -0.7985937594980989,
          -0.12168337372194347,
          0.7448784371595168,
          -0.5665406675985241,
          0.4152154660098407,
          0.6414110950786777,
          0.15280781898874235,
          0.5897428697157185,
          0.18336125461013314,
          -0.6822917350522467,
          0.058883801583946786,
          -0.9859152327415971,
          0.07680255355953275,
          -0.3313962167291876,
          0.7509835251259862,
          -0.3313962167291876,
          -0.5795336176360119,
          0.09946506853803642,
          -0.5438781526200203,
          -0.5634493086287625,
          -0.5665406675985241,
          0.46111690460389304,
          -0.7049936536861064,
          -0.9729222827041095,
          0.019077984865968213,
          0.6968971918612038,
          0.7022270227420037,
          0.2511310767655432,
          0.2542224357353046,
          0.32145790416310743,
          -0.402257397854359,
          -0.5634493086287625,
          0.8765555459480142,
          0.07680255355953275,
          0.4131758745986701,
          0.9800228880288532,
          0.3271363421947528,
          -0.5665406675985241,
          0.04589085154645911,
          0.4986047828655524,
          0.5287686743799181,
          0.0669009624918064,
          0.2511310767655432,
          0.063809603522045,
          -0.7985937594980989,
          0.1440380219873355,
          -0.4111142910297416,
          -0.5665406675985241,
          0.14712938095709685,
          0.6414110950786777,
          -0.5634493086287625,
          0.6445024540484392,
          0.6569783381435214,
          -0.5057247399351981,
          0.4131758745986701,
          0.9193691412692965,
          -0.5764422586662504,
          0.6999885508309656,
          0.2542224357353046,
          0.47017393084242876,
          -0.47590409465140343,
          0.31194700442886913,
          0.32145790416310743,
          0.5767499196782309,
          0.26673841778758794,
          1.1441072772731506,
          -0.1762606492853896,
          -0.4993051991707213,
          -0.9729222827041095,
          -0.15525053834004227,
          -0.46307332551768504,
          0.0242220691700065,
          -0.44702923180352555,
          0.2542224357353046,
          -0.5665406675985241,
          0.62841814504119,
          0.36074092149281517,
          0.08631345329377095,
          0.39741201416766475,
          -0.931587364021242,
          0.42550512982934285,
          -0.6736337223767316,
          -0.5178304481150829,
          0.7577131195245297,
          -0.5634493086287625,
          0.8765555459480142,
          -0.7408691908045345,
          0.6445024540484392,
          0.4087959252453638,
          0.34744564385443066,
          0.5758942143838123,
          -0.1762606492853896,
          -0.06312022656654298,
          0.2511310767655432,
          -0.5634493086287625,
          -0.5634493086287625,
          0.5535109960626823,
          -0.5665406675985241,
          -0.07924527291083262,
          0.04589085154645911,
          0.32145790416310743,
          -0.5795336176360119,
          0.5897428697157185,
          -0.45998196654792367,
          -0.20867465151885853,
          0.5290891229561621,
          -0.4993051991707213,
          0.08631345329377095,
          -0.22134715298010224,
          0.07680255355953275,
          0.612945093735169,
          0.9981796718909034,
          0.5535109960626823,
          0.24126384049669675,
          0.31836654519334595,
          0.6259101384215557,
          -0.5665406675985241,
          0.4986047828655524,
          0.45217159850038524,
          -0.17316929031562808,
          0.42492524624394645,
          -0.1762606492853896,
          0.3576897778161437,
          -0.5795336176360119,
          -0.5665406675985241,
          0.898938764269144,
          -0.5438781526200203,
          0.019077984865968213,
          0.24122948569781688,
          0.0798939125292941,
          -0.34126345299803396,
          0.058883801583946786,
          0.2542224357353046,
          0.8545620403410245,
          -0.24712183041056113,
          0.38384265549313207,
          -0.3313962167291876,
          0.6630834261099907,
          -0.7985937594980989,
          -0.5665406675985241,
          0.019077984865968213,
          -0.7538621408420224,
          -0.5665406675985241,
          -0.1178798108992633,
          -0.3542564030355218,
          -0.15525053834004227,
          0.27711881645686637,
          -0.9729222827041095,
          -0.40449586976539725,
          0.2511310767655432,
          -0.17316929031562808,
          0.6445024540484392,
          0.2542224357353046,
          -0.15525053834004227,
          -0.5665406675985241,
          0.06693531729068625,
          0.2511310767655432,
          -0.5634493086287625,
          0.34160546880889453,
          -0.7408691908045345,
          -0.7557801641768167,
          -0.09976444155751597,
          0.9734044667645089,
          0.24435519946645778,
          0.3410290601718496,
          -0.6853830940220081,
          -0.45998196654792367,
          -0.4083137411849644,
          0.6414110950786777,
          0.3576897778161437,
          0.47017393084242876,
          -0.9729222827041095,
          -0.26416074830138486,
          0.6569783381435214,
          0.8765555459480142,
          0.07680255355953275,
          0.058883801583946786,
          -0.2279288746483487,
          -0.5634493086287625,
          0.2877896003534034,
          0.2511310767655432,
          -0.5665406675985241,
          -0.5634493086287625,
          -0.15525053834004227,
          -0.7431076627155726,
          0.019077984865968213,
          0.7086465635064805,
          0.4100845156289086,
          -0.5665406675985241,
          0.0798939125292941,
          0.8765555459480142,
          -0.69512641741726,
          0.31194700442886913,
          0.058883801583946786,
          -0.7985937594980989,
          0.9604115167270212,
          1.047258356456656,
          -0.5665406675985241,
          -0.26416074830138486,
          0.2511310767655432,
          -0.5634493086287625,
          0.2511310767655432,
          -0.4993051991707213,
          0.7448784371595168,
          0.1559885786913111,
          -0.5665406675985241,
          0.2511310767655432,
          -0.2900612980463199,
          0.1143698983664732,
          -0.24754024595018076,
          0.04589085154645911,
          -0.44835650777624164,
          -0.26416074830138486,
          -0.7985937594980989,
          -0.5665406675985241,
          -0.4186470478650561,
          0.40420967717864026,
          0.2939446720868255,
          0.13228865034205892,
          1.090744650876586,
          0.2511310767655432,
          0.12254532694680727,
          0.2542224357353046,
          1.0147393854473763,
          0.2511310767655432,
          0.413919457412746,
          0.3576897778161437,
          0.2511310767655432,
          0.15280781898874235,
          -0.3313962167291876,
          0.04589085154645911,
          -0.1724427778658222,
          -0.9729222827041095,
          -0.4174888198028851,
          -0.402257397854359,
          -0.5634493086287625,
          0.5502729612962508,
          -0.5634493086287625,
          -0.7985937594980989,
          -0.6705423634069703,
          -0.14492860916376032,
          0.6414110950786777,
          -0.3313962167291876,
          0.7174163605078874,
          -0.34438916676667536,
          -0.09240467850638254,
          -0.5665406675985241,
          -0.5110545708159978,
          0.2542224357353046,
          -0.5665406675985241,
          0.8765555459480142,
          -0.26416074830138486,
          -0.4905354021693144,
          0.12254532694680727,
          -0.7408691908045345,
          0.35107135655179933,
          0.3576897778161437,
          0.9525608113772238,
          -0.5665406675985241,
          -0.5079632118462364,
          -0.30873370175068393,
          0.019077984865968213,
          -0.5634493086287625,
          0.11961614888081507,
          0.04146120318709825,
          -0.1762606492853896,
          -0.4174544650040052,
          0.31194700442886913,
          -0.7985937594980989,
          0.5535109960626823,
          -0.3313962167291876,
          0.058883801583946786,
          0.2542224357353046,
          -0.5764079038673703,
          1.0147393854473763,
          -0.45998196654792367,
          0.23813812672805548,
          0.4862755276348795,
          -0.7377778318347731,
          0.9953744066985064,
          -0.7408691908045345,
          0.6414110950786777,
          -0.29844985767675175,
          -0.1762606492853896,
          -0.64402026998804,
          0.7729024572904137,
          0.3380784065143116,
          -0.9729222827041095,
          0.21026778401589957,
          -0.5665406675985241,
          -0.11243694301875984,
          0.6414110950786777,
          0.49267150272636434,
          0.27688495071380825,
          -0.5665406675985241,
          -0.30157557144539293,
          -0.5733165448976092,
          0.20516473898606846,
          0.0669009624918064,
          0.2511310767655432,
          -0.16824348837753003,
          -0.3313962167291876,
          0.45453869863263835,
          0.18501365864328947,
          0.2511310767655432,
          -0.5634493086287625,
          0.23813812672805548,
          0.11036971817763147,
          0.9193691412692965,
          0.1440380219873355,
          0.2295866120925886,
          -0.2900612980463199,
          -0.4657380345526226,
          -0.52063571330748,
          0.32145790416310743,
          -0.3313962167291876,
          0.5290891229561621,
          0.6749782596967763,
          -0.7377778318347731,
          0.34160546880889453,
          -0.5634493086287625,
          0.24435519946645778,
          0.3349870475445502,
          -0.4534002448796773,
          0.2542224357353046,
          0.24122948569781688,
          -0.47959333784975555,
          0.5089380426133832,
          -0.6473034397914218,
          0.019077984865968213,
          0.5831244484513742,
          0.31836654519334595,
          -0.34438916676667536,
          0.4497391369595126,
          0.8765555459480142,
          -0.7377778318347731,
          -0.5665406675985241,
          0.3576897778161437,
          -0.7377778318347731,
          0.07680255355953275,
          0.2511310767655432,
          0.35107135655179933,
          -0.24754024595018076,
          -0.2279288746483487,
          0.08631345329377095,
          0.3576897778161437,
          0.2511310767655432,
          0.2511310767655432,
          -0.7408691908045345,
          -0.9729222827041095,
          0.6414110950786777,
          -0.26592010642940145,
          0.9193691412692965,
          0.24126384049669675,
          -0.9729222827041095,
          0.4131758745986701,
          0.11961614888081507,
          -0.5665406675985241,
          0.35107135655179933,
          0.2511310767655432,
          1.1109764934606534,
          0.31836654519334595,
          0.5287686743799181,
          0.10227713085042414,
          0.49897668992803546,
          0.6858373727313068,
          0.7177918550180588,
          -0.7985937594980989,
          -0.7153946135136432,
          -0.4502386431526717,
          0.2542224357353046,
          0.2542224357353046,
          -0.3313962167291876,
          -0.5634493086287625
         ],
         "yaxis": "y"
        }
       ],
       "layout": {
        "coloraxis": {
         "colorbar": {
          "title": {
           "text": "Cluster"
          }
         },
         "colorscale": [
          [
           0,
           "#0d0887"
          ],
          [
           0.1111111111111111,
           "#46039f"
          ],
          [
           0.2222222222222222,
           "#7201a8"
          ],
          [
           0.3333333333333333,
           "#9c179e"
          ],
          [
           0.4444444444444444,
           "#bd3786"
          ],
          [
           0.5555555555555556,
           "#d8576b"
          ],
          [
           0.6666666666666666,
           "#ed7953"
          ],
          [
           0.7777777777777778,
           "#fb9f3a"
          ],
          [
           0.8888888888888888,
           "#fdca26"
          ],
          [
           1,
           "#f0f921"
          ]
         ]
        },
        "height": 600,
        "legend": {
         "tracegroupgap": 0
        },
        "template": {
         "data": {
          "bar": [
           {
            "error_x": {
             "color": "#2a3f5f"
            },
            "error_y": {
             "color": "#2a3f5f"
            },
            "marker": {
             "line": {
              "color": "#E5ECF6",
              "width": 0.5
             },
             "pattern": {
              "fillmode": "overlay",
              "size": 10,
              "solidity": 0.2
             }
            },
            "type": "bar"
           }
          ],
          "barpolar": [
           {
            "marker": {
             "line": {
              "color": "#E5ECF6",
              "width": 0.5
             },
             "pattern": {
              "fillmode": "overlay",
              "size": 10,
              "solidity": 0.2
             }
            },
            "type": "barpolar"
           }
          ],
          "carpet": [
           {
            "aaxis": {
             "endlinecolor": "#2a3f5f",
             "gridcolor": "white",
             "linecolor": "white",
             "minorgridcolor": "white",
             "startlinecolor": "#2a3f5f"
            },
            "baxis": {
             "endlinecolor": "#2a3f5f",
             "gridcolor": "white",
             "linecolor": "white",
             "minorgridcolor": "white",
             "startlinecolor": "#2a3f5f"
            },
            "type": "carpet"
           }
          ],
          "choropleth": [
           {
            "colorbar": {
             "outlinewidth": 0,
             "ticks": ""
            },
            "type": "choropleth"
           }
          ],
          "contour": [
           {
            "colorbar": {
             "outlinewidth": 0,
             "ticks": ""
            },
            "colorscale": [
             [
              0,
              "#0d0887"
             ],
             [
              0.1111111111111111,
              "#46039f"
             ],
             [
              0.2222222222222222,
              "#7201a8"
             ],
             [
              0.3333333333333333,
              "#9c179e"
             ],
             [
              0.4444444444444444,
              "#bd3786"
             ],
             [
              0.5555555555555556,
              "#d8576b"
             ],
             [
              0.6666666666666666,
              "#ed7953"
             ],
             [
              0.7777777777777778,
              "#fb9f3a"
             ],
             [
              0.8888888888888888,
              "#fdca26"
             ],
             [
              1,
              "#f0f921"
             ]
            ],
            "type": "contour"
           }
          ],
          "contourcarpet": [
           {
            "colorbar": {
             "outlinewidth": 0,
             "ticks": ""
            },
            "type": "contourcarpet"
           }
          ],
          "heatmap": [
           {
            "colorbar": {
             "outlinewidth": 0,
             "ticks": ""
            },
            "colorscale": [
             [
              0,
              "#0d0887"
             ],
             [
              0.1111111111111111,
              "#46039f"
             ],
             [
              0.2222222222222222,
              "#7201a8"
             ],
             [
              0.3333333333333333,
              "#9c179e"
             ],
             [
              0.4444444444444444,
              "#bd3786"
             ],
             [
              0.5555555555555556,
              "#d8576b"
             ],
             [
              0.6666666666666666,
              "#ed7953"
             ],
             [
              0.7777777777777778,
              "#fb9f3a"
             ],
             [
              0.8888888888888888,
              "#fdca26"
             ],
             [
              1,
              "#f0f921"
             ]
            ],
            "type": "heatmap"
           }
          ],
          "heatmapgl": [
           {
            "colorbar": {
             "outlinewidth": 0,
             "ticks": ""
            },
            "colorscale": [
             [
              0,
              "#0d0887"
             ],
             [
              0.1111111111111111,
              "#46039f"
             ],
             [
              0.2222222222222222,
              "#7201a8"
             ],
             [
              0.3333333333333333,
              "#9c179e"
             ],
             [
              0.4444444444444444,
              "#bd3786"
             ],
             [
              0.5555555555555556,
              "#d8576b"
             ],
             [
              0.6666666666666666,
              "#ed7953"
             ],
             [
              0.7777777777777778,
              "#fb9f3a"
             ],
             [
              0.8888888888888888,
              "#fdca26"
             ],
             [
              1,
              "#f0f921"
             ]
            ],
            "type": "heatmapgl"
           }
          ],
          "histogram": [
           {
            "marker": {
             "pattern": {
              "fillmode": "overlay",
              "size": 10,
              "solidity": 0.2
             }
            },
            "type": "histogram"
           }
          ],
          "histogram2d": [
           {
            "colorbar": {
             "outlinewidth": 0,
             "ticks": ""
            },
            "colorscale": [
             [
              0,
              "#0d0887"
             ],
             [
              0.1111111111111111,
              "#46039f"
             ],
             [
              0.2222222222222222,
              "#7201a8"
             ],
             [
              0.3333333333333333,
              "#9c179e"
             ],
             [
              0.4444444444444444,
              "#bd3786"
             ],
             [
              0.5555555555555556,
              "#d8576b"
             ],
             [
              0.6666666666666666,
              "#ed7953"
             ],
             [
              0.7777777777777778,
              "#fb9f3a"
             ],
             [
              0.8888888888888888,
              "#fdca26"
             ],
             [
              1,
              "#f0f921"
             ]
            ],
            "type": "histogram2d"
           }
          ],
          "histogram2dcontour": [
           {
            "colorbar": {
             "outlinewidth": 0,
             "ticks": ""
            },
            "colorscale": [
             [
              0,
              "#0d0887"
             ],
             [
              0.1111111111111111,
              "#46039f"
             ],
             [
              0.2222222222222222,
              "#7201a8"
             ],
             [
              0.3333333333333333,
              "#9c179e"
             ],
             [
              0.4444444444444444,
              "#bd3786"
             ],
             [
              0.5555555555555556,
              "#d8576b"
             ],
             [
              0.6666666666666666,
              "#ed7953"
             ],
             [
              0.7777777777777778,
              "#fb9f3a"
             ],
             [
              0.8888888888888888,
              "#fdca26"
             ],
             [
              1,
              "#f0f921"
             ]
            ],
            "type": "histogram2dcontour"
           }
          ],
          "mesh3d": [
           {
            "colorbar": {
             "outlinewidth": 0,
             "ticks": ""
            },
            "type": "mesh3d"
           }
          ],
          "parcoords": [
           {
            "line": {
             "colorbar": {
              "outlinewidth": 0,
              "ticks": ""
             }
            },
            "type": "parcoords"
           }
          ],
          "pie": [
           {
            "automargin": true,
            "type": "pie"
           }
          ],
          "scatter": [
           {
            "fillpattern": {
             "fillmode": "overlay",
             "size": 10,
             "solidity": 0.2
            },
            "type": "scatter"
           }
          ],
          "scatter3d": [
           {
            "line": {
             "colorbar": {
              "outlinewidth": 0,
              "ticks": ""
             }
            },
            "marker": {
             "colorbar": {
              "outlinewidth": 0,
              "ticks": ""
             }
            },
            "type": "scatter3d"
           }
          ],
          "scattercarpet": [
           {
            "marker": {
             "colorbar": {
              "outlinewidth": 0,
              "ticks": ""
             }
            },
            "type": "scattercarpet"
           }
          ],
          "scattergeo": [
           {
            "marker": {
             "colorbar": {
              "outlinewidth": 0,
              "ticks": ""
             }
            },
            "type": "scattergeo"
           }
          ],
          "scattergl": [
           {
            "marker": {
             "colorbar": {
              "outlinewidth": 0,
              "ticks": ""
             }
            },
            "type": "scattergl"
           }
          ],
          "scattermapbox": [
           {
            "marker": {
             "colorbar": {
              "outlinewidth": 0,
              "ticks": ""
             }
            },
            "type": "scattermapbox"
           }
          ],
          "scatterpolar": [
           {
            "marker": {
             "colorbar": {
              "outlinewidth": 0,
              "ticks": ""
             }
            },
            "type": "scatterpolar"
           }
          ],
          "scatterpolargl": [
           {
            "marker": {
             "colorbar": {
              "outlinewidth": 0,
              "ticks": ""
             }
            },
            "type": "scatterpolargl"
           }
          ],
          "scatterternary": [
           {
            "marker": {
             "colorbar": {
              "outlinewidth": 0,
              "ticks": ""
             }
            },
            "type": "scatterternary"
           }
          ],
          "surface": [
           {
            "colorbar": {
             "outlinewidth": 0,
             "ticks": ""
            },
            "colorscale": [
             [
              0,
              "#0d0887"
             ],
             [
              0.1111111111111111,
              "#46039f"
             ],
             [
              0.2222222222222222,
              "#7201a8"
             ],
             [
              0.3333333333333333,
              "#9c179e"
             ],
             [
              0.4444444444444444,
              "#bd3786"
             ],
             [
              0.5555555555555556,
              "#d8576b"
             ],
             [
              0.6666666666666666,
              "#ed7953"
             ],
             [
              0.7777777777777778,
              "#fb9f3a"
             ],
             [
              0.8888888888888888,
              "#fdca26"
             ],
             [
              1,
              "#f0f921"
             ]
            ],
            "type": "surface"
           }
          ],
          "table": [
           {
            "cells": {
             "fill": {
              "color": "#EBF0F8"
             },
             "line": {
              "color": "white"
             }
            },
            "header": {
             "fill": {
              "color": "#C8D4E3"
             },
             "line": {
              "color": "white"
             }
            },
            "type": "table"
           }
          ]
         },
         "layout": {
          "annotationdefaults": {
           "arrowcolor": "#2a3f5f",
           "arrowhead": 0,
           "arrowwidth": 1
          },
          "autotypenumbers": "strict",
          "coloraxis": {
           "colorbar": {
            "outlinewidth": 0,
            "ticks": ""
           }
          },
          "colorscale": {
           "diverging": [
            [
             0,
             "#8e0152"
            ],
            [
             0.1,
             "#c51b7d"
            ],
            [
             0.2,
             "#de77ae"
            ],
            [
             0.3,
             "#f1b6da"
            ],
            [
             0.4,
             "#fde0ef"
            ],
            [
             0.5,
             "#f7f7f7"
            ],
            [
             0.6,
             "#e6f5d0"
            ],
            [
             0.7,
             "#b8e186"
            ],
            [
             0.8,
             "#7fbc41"
            ],
            [
             0.9,
             "#4d9221"
            ],
            [
             1,
             "#276419"
            ]
           ],
           "sequential": [
            [
             0,
             "#0d0887"
            ],
            [
             0.1111111111111111,
             "#46039f"
            ],
            [
             0.2222222222222222,
             "#7201a8"
            ],
            [
             0.3333333333333333,
             "#9c179e"
            ],
            [
             0.4444444444444444,
             "#bd3786"
            ],
            [
             0.5555555555555556,
             "#d8576b"
            ],
            [
             0.6666666666666666,
             "#ed7953"
            ],
            [
             0.7777777777777778,
             "#fb9f3a"
            ],
            [
             0.8888888888888888,
             "#fdca26"
            ],
            [
             1,
             "#f0f921"
            ]
           ],
           "sequentialminus": [
            [
             0,
             "#0d0887"
            ],
            [
             0.1111111111111111,
             "#46039f"
            ],
            [
             0.2222222222222222,
             "#7201a8"
            ],
            [
             0.3333333333333333,
             "#9c179e"
            ],
            [
             0.4444444444444444,
             "#bd3786"
            ],
            [
             0.5555555555555556,
             "#d8576b"
            ],
            [
             0.6666666666666666,
             "#ed7953"
            ],
            [
             0.7777777777777778,
             "#fb9f3a"
            ],
            [
             0.8888888888888888,
             "#fdca26"
            ],
            [
             1,
             "#f0f921"
            ]
           ]
          },
          "colorway": [
           "#636efa",
           "#EF553B",
           "#00cc96",
           "#ab63fa",
           "#FFA15A",
           "#19d3f3",
           "#FF6692",
           "#B6E880",
           "#FF97FF",
           "#FECB52"
          ],
          "font": {
           "color": "#2a3f5f"
          },
          "geo": {
           "bgcolor": "white",
           "lakecolor": "white",
           "landcolor": "#E5ECF6",
           "showlakes": true,
           "showland": true,
           "subunitcolor": "white"
          },
          "hoverlabel": {
           "align": "left"
          },
          "hovermode": "closest",
          "mapbox": {
           "style": "light"
          },
          "paper_bgcolor": "white",
          "plot_bgcolor": "#E5ECF6",
          "polar": {
           "angularaxis": {
            "gridcolor": "white",
            "linecolor": "white",
            "ticks": ""
           },
           "bgcolor": "#E5ECF6",
           "radialaxis": {
            "gridcolor": "white",
            "linecolor": "white",
            "ticks": ""
           }
          },
          "scene": {
           "xaxis": {
            "backgroundcolor": "#E5ECF6",
            "gridcolor": "white",
            "gridwidth": 2,
            "linecolor": "white",
            "showbackground": true,
            "ticks": "",
            "zerolinecolor": "white"
           },
           "yaxis": {
            "backgroundcolor": "#E5ECF6",
            "gridcolor": "white",
            "gridwidth": 2,
            "linecolor": "white",
            "showbackground": true,
            "ticks": "",
            "zerolinecolor": "white"
           },
           "zaxis": {
            "backgroundcolor": "#E5ECF6",
            "gridcolor": "white",
            "gridwidth": 2,
            "linecolor": "white",
            "showbackground": true,
            "ticks": "",
            "zerolinecolor": "white"
           }
          },
          "shapedefaults": {
           "line": {
            "color": "#2a3f5f"
           }
          },
          "ternary": {
           "aaxis": {
            "gridcolor": "white",
            "linecolor": "white",
            "ticks": ""
           },
           "baxis": {
            "gridcolor": "white",
            "linecolor": "white",
            "ticks": ""
           },
           "bgcolor": "#E5ECF6",
           "caxis": {
            "gridcolor": "white",
            "linecolor": "white",
            "ticks": ""
           }
          },
          "title": {
           "x": 0.05
          },
          "xaxis": {
           "automargin": true,
           "gridcolor": "white",
           "linecolor": "white",
           "ticks": "",
           "title": {
            "standoff": 15
           },
           "zerolinecolor": "white",
           "zerolinewidth": 2
          },
          "yaxis": {
           "automargin": true,
           "gridcolor": "white",
           "linecolor": "white",
           "ticks": "",
           "title": {
            "standoff": 15
           },
           "zerolinecolor": "white",
           "zerolinewidth": 2
          }
         }
        },
        "title": {
         "text": "PCA of Companies with Clusters"
        },
        "width": 800,
        "xaxis": {
         "anchor": "y",
         "domain": [
          0,
          1
         ],
         "title": {
          "text": "Principal Component 1"
         }
        },
        "yaxis": {
         "anchor": "x",
         "domain": [
          0,
          1
         ],
         "title": {
          "text": "Principal Component 2"
         }
        }
       }
      }
     },
     "metadata": {},
     "output_type": "display_data"
    }
   ],
   "source": [
    "clustered_df, fig = visualize_clusters(binary_encoded, 15)\n",
    "fig.show()\n"
   ]
  },
  {
   "cell_type": "code",
   "execution_count": 13,
   "metadata": {},
   "outputs": [
    {
     "data": {
      "application/vnd.plotly.v1+json": {
       "config": {
        "plotlyServerURL": "https://plot.ly"
       },
       "data": [
        {
         "customdata": [
          [
           "AAK AB (publ)",
           4
          ],
          [
           "AB Skf",
           0
          ],
          [
           "ACS Actividades de Construccion y Servicios SA",
           0
          ],
          [
           "AP Moeller - Maersk A/S",
           2
          ],
          [
           "ASM International NV",
           1
          ],
          [
           "ASML Holding NV",
           0
          ],
          [
           "AUTO1 Group SE",
           1
          ],
          [
           "AVEVA Group PLC",
           2
          ],
          [
           "Aalberts NV",
           2
          ],
          [
           "Abb Ltd",
           2
          ],
          [
           "Abrdn PLC",
           1
          ],
          [
           "Acciona SA",
           2
          ],
          [
           "Accor SA",
           0
          ],
          [
           "Ackermans & Van Haaren NV",
           2
          ],
          [
           "AddLife AB",
           1
          ],
          [
           "Addtech AB",
           2
          ],
          [
           "Adecco Group AG",
           0
          ],
          [
           "Adevinta ASA",
           4
          ],
          [
           "Adidas AG",
           1
          ],
          [
           "Aedifica SA",
           2
          ],
          [
           "Aena SME SA",
           2
          ],
          [
           "Aeroports de Paris SA",
           2
          ],
          [
           "Afry AB",
           2
          ],
          [
           "Airbus SE",
           1
          ],
          [
           "Aker BP ASA",
           3
          ],
          [
           "Akzo Nobel NV",
           2
          ],
          [
           "Alcon AG",
           1
          ],
          [
           "Alfa Laval AB",
           4
          ],
          [
           "Allegro.eu SA",
           1
          ],
          [
           "Alstom SA",
           2
          ],
          [
           "Alten SA",
           0
          ],
          [
           "Amadeus IT Group SA",
           0
          ],
          [
           "Ambu A/S",
           1
          ],
          [
           "Amplifon SpA",
           1
          ],
          [
           "Andritz AG",
           4
          ],
          [
           "Anglo American PLC",
           0
          ],
          [
           "Anheuser Busch Inbev SA",
           0
          ],
          [
           "Antofagasta PLC",
           4
          ],
          [
           "ArcelorMittal SA",
           2
          ],
          [
           "Arkema SA",
           2
          ],
          [
           "Ashtead Group PLC",
           1
          ],
          [
           "Assa Abloy AB",
           1
          ],
          [
           "Associated British Foods PLC",
           3
          ],
          [
           "AstraZeneca PLC",
           0
          ],
          [
           "Atlantia SpA",
           4
          ],
          [
           "Atlas Copco AB",
           1
          ],
          [
           "Atos SE",
           0
          ],
          [
           "Auto Trader Group PLC",
           0
          ],
          [
           "Avast PLC",
           0
          ],
          [
           "BAE Systems PLC",
           1
          ],
          [
           "BASF SE",
           2
          ],
          [
           "BE Semiconductor Industries NV",
           3
          ],
          [
           "BHP Group PLC",
           0
          ],
          [
           "BP PLC",
           2
          ],
          [
           "BT Group PLC",
           0
          ],
          [
           "Bachem Holding AG",
           4
          ],
          [
           "Barratt Developments P L C",
           1
          ],
          [
           "Barry Callebaut AG",
           0
          ],
          [
           "Bayer AG",
           0
          ],
          [
           "Bayerische Motoren Werke AG",
           4
          ],
          [
           "Bechtle AG",
           0
          ],
          [
           "Beiersdorf AG",
           1
          ],
          [
           "Beijer Ref AB (publ)",
           0
          ],
          [
           "Belimo Holding AG",
           4
          ],
          [
           "Bellway PLC",
           3
          ],
          [
           "Berkeley Group Holdings PLC",
           2
          ],
          [
           "BillerudKorsnas AB (publ)",
           2
          ],
          [
           "Biomerieux SA",
           2
          ],
          [
           "Boliden AB",
           2
          ],
          [
           "Bollore SE",
           3
          ],
          [
           "Bouygues SA",
           0
          ],
          [
           "Brenntag SE",
           1
          ],
          [
           "British American Tobacco PLC",
           4
          ],
          [
           "Britvic PLC",
           0
          ],
          [
           "Bucher Industries AG",
           4
          ],
          [
           "Bunzl plc",
           3
          ],
          [
           "Burberry Group PLC",
           0
          ],
          [
           "Bureau Veritas SA",
           2
          ],
          [
           "CD Projekt SA",
           0
          ],
          [
           "CNH Industrial NV",
           2
          ],
          [
           "CRH PLC",
           3
          ],
          [
           "Capgemini SE",
           2
          ],
          [
           "Carl Zeiss Meditec AG",
           1
          ],
          [
           "Carlsberg A/S",
           2
          ],
          [
           "Carnival PLC",
           2
          ],
          [
           "Carrefour SA",
           4
          ],
          [
           "Cellnex Telecom SA",
           4
          ],
          [
           "Chocoladefabriken Lindt & Spruengli AG",
           1
          ],
          [
           "Chr Hansen Holding A/S",
           2
          ],
          [
           "Christian Dior SE",
           0
          ],
          [
           "Clariant AG",
           2
          ],
          [
           "Coca Cola HBC AG",
           1
          ],
          [
           "Coloplast A/S",
           1
          ],
          [
           "Compagnie Financiere Richemont SA",
           4
          ],
          [
           "Compagnie Generale des Etablissements Michelin SCA",
           1
          ],
          [
           "Compagnie de Saint Gobain SA",
           0
          ],
          [
           "Compass Group PLC",
           3
          ],
          [
           "Continental AG",
           1
          ],
          [
           "ConvaTec Group PLC",
           0
          ],
          [
           "Corbion NV",
           2
          ],
          [
           "Covestro AG",
           2
          ],
          [
           "Croda International PLC",
           0
          ],
          [
           "Cts Eventim AG & Co KgaA",
           0
          ],
          [
           "DCC PLC",
           0
          ],
          [
           "DNB Bank ASA",
           1
          ],
          [
           "DS Smith PLC",
           2
          ],
          [
           "DSV Panalpina A/S",
           3
          ],
          [
           "Daimler AG",
           4
          ],
          [
           "Danone SA",
           3
          ],
          [
           "Dassault Aviation SA",
           1
          ],
          [
           "Dassault Systemes SE",
           2
          ],
          [
           "Davide Campari Milano NV",
           1
          ],
          [
           "Dechra Pharmaceuticals PLC",
           2
          ],
          [
           "Deliveroo PLC",
           1
          ],
          [
           "Delivery Hero SE",
           1
          ],
          [
           "Demant A/S",
           0
          ],
          [
           "Deutsche Lufthansa AG",
           4
          ],
          [
           "Deutsche Post AG",
           1
          ],
          [
           "Deutsche Telekom AG",
           0
          ],
          [
           "DiaSorin SpA",
           1
          ],
          [
           "Diageo PLC",
           1
          ],
          [
           "Dino Polska SA",
           1
          ],
          [
           "Diploma PLC",
           1
          ],
          [
           "Dometic Group AB (publ)",
           4
          ],
          [
           "Dr Martens PLC",
           3
          ],
          [
           "Dufry AG",
           1
          ],
          [
           "EVRAZ plc",
           0
          ],
          [
           "Easyjet PLC",
           1
          ],
          [
           "Eiffage SA",
           0
          ],
          [
           "Electrocomponents PLC",
           2
          ],
          [
           "Electrolux AB",
           2
          ],
          [
           "Elekta AB (publ)",
           4
          ],
          [
           "Elis SA",
           3
          ],
          [
           "Elisa Oyj",
           2
          ],
          [
           "Ems Chemie Holding AG",
           3
          ],
          [
           "Eni SpA",
           2
          ],
          [
           "Entain PLC",
           1
          ],
          [
           "Epiroc AB",
           2
          ],
          [
           "Equinor ASA",
           2
          ],
          [
           "EssilorLuxottica SA",
           1
          ],
          [
           "Essity AB (publ)",
           1
          ],
          [
           "Etablissementen Franz Colruyt NV",
           2
          ],
          [
           "Eurofins Scientific SE",
           4
          ],
          [
           "Evolution AB (publ)",
           1
          ],
          [
           "Evonik Industries AG",
           4
          ],
          [
           "Evotec SE",
           1
          ],
          [
           "Experian PLC",
           0
          ],
          [
           "Ferguson PLC",
           1
          ],
          [
           "Ferrari NV",
           0
          ],
          [
           "Ferrovial SA",
           4
          ],
          [
           "Flughafen Zuerich AG",
           1
          ],
          [
           "Flutter Entertainment PLC",
           3
          ],
          [
           "Fresenius Medical Care AG & Co KGaA",
           1
          ],
          [
           "Fresenius SE & Co KGaA",
           0
          ],
          [
           "Fuchs Petrolub SE",
           2
          ],
          [
           "Future PLC",
           0
          ],
          [
           "GEA Group AG",
           2
          ],
          [
           "GN Store Nord A/S",
           1
          ],
          [
           "Galapagos NV",
           1
          ],
          [
           "Galenica AG",
           0
          ],
          [
           "Galp Energia SGPS SA",
           2
          ],
          [
           "Games Workshop Group PLC",
           3
          ],
          [
           "Geberit AG",
           0
          ],
          [
           "Genmab A/S",
           1
          ],
          [
           "Genus PLC",
           2
          ],
          [
           "Georg Fischer AG",
           0
          ],
          [
           "Gerresheimer AG",
           1
          ],
          [
           "Getinge AB",
           0
          ],
          [
           "Getlink SE",
           0
          ],
          [
           "Givaudan SA",
           2
          ],
          [
           "Glanbia PLC",
           1
          ],
          [
           "GlaxoSmithKline PLC",
           0
          ],
          [
           "Glencore PLC",
           3
          ],
          [
           "Grafton Group PLC",
           0
          ],
          [
           "Greggs PLC",
           0
          ],
          [
           "Grifols SA",
           0
          ],
          [
           "H & M Hennes & Mauritz AB",
           2
          ],
          [
           "Halma PLC",
           2
          ],
          [
           "Hays PLC",
           0
          ],
          [
           "HeidelbergCement AG",
           2
          ],
          [
           "Heineken Holding NV",
           0
          ],
          [
           "Heineken NV",
           1
          ],
          [
           "Hellofresh SE",
           1
          ],
          [
           "Helvetia Holding AG",
           1
          ],
          [
           "Henkel AG & Co KGaA",
           2
          ],
          [
           "Hermes International SCA",
           1
          ],
          [
           "Hexagon AB",
           2
          ],
          [
           "Hexpol AB",
           2
          ],
          [
           "Hikma Pharmaceuticals PLC",
           0
          ],
          [
           "Holcim AG",
           2
          ],
          [
           "Holmen AB",
           1
          ],
          [
           "HomeServe PLC",
           1
          ],
          [
           "Howden Joinery Group PLC",
           1
          ],
          [
           "Huhtamaki Oyj",
           0
          ],
          [
           "Husqvarna AB",
           0
          ],
          [
           "ICA Gruppen AB",
           1
          ],
          [
           "IMCD NV",
           0
          ],
          [
           "IMI PLC",
           4
          ],
          [
           "ITV PLC",
           2
          ],
          [
           "Idorsia Ltd",
           0
          ],
          [
           "Imperial Brands PLC",
           0
          ],
          [
           "InPost SA",
           4
          ],
          [
           "Inchcape PLC",
           2
          ],
          [
           "Industria de Diseno Textil SA",
           1
          ],
          [
           "Indutrade AB",
           4
          ],
          [
           "Infineon Technologies AG",
           2
          ],
          [
           "Informa PLC",
           0
          ],
          [
           "Infrastrutture Wireless Italiane SpA",
           0
          ],
          [
           "InterContinental Hotels Group PLC",
           3
          ],
          [
           "International Consolidated Airlines Group SA",
           3
          ],
          [
           "Interpump Group SpA",
           4
          ],
          [
           "Intertek Group PLC",
           1
          ],
          [
           "Investor AB",
           2
          ],
          [
           "Ipsen SA",
           1
          ],
          [
           "Iss A/S",
           1
          ],
          [
           "J Sainsbury PLC",
           1
          ],
          [
           "JD Sports Fashion PLC",
           3
          ],
          [
           "JDE Peets NV",
           2
          ],
          [
           "Jeronimo Martins SGPS SA",
           3
          ],
          [
           "Johnson Matthey PLC",
           2
          ],
          [
           "Just Eat Takeaway.com NV",
           1
          ],
          [
           "KGHM Polska Miedz SA",
           2
          ],
          [
           "Kering SA",
           4
          ],
          [
           "Kerry Group PLC",
           4
          ],
          [
           "Kesko Oyj",
           3
          ],
          [
           "Kindred Group PLC",
           0
          ],
          [
           "Kingfisher PLC",
           1
          ],
          [
           "Kingspan Group PLC",
           2
          ],
          [
           "Kinnevik AB",
           4
          ],
          [
           "Kion Group AG",
           1
          ],
          [
           "Knorr Bremse AG",
           4
          ],
          [
           "Kone Oyj",
           2
          ],
          [
           "Koninklijke Ahold Delhaize NV",
           1
          ],
          [
           "Koninklijke DSM NV",
           1
          ],
          [
           "Koninklijke KPN NV",
           4
          ],
          [
           "Koninklijke Philips NV",
           0
          ],
          [
           "Koninklijke Vopak NV",
           0
          ],
          [
           "Kuehne und Nagel International AG",
           0
          ],
          [
           "L'Air Liquide Societe Anonyme pour l'Etude et l'Exploitation des Procedes George",
           3
          ],
          [
           "L'Oreal SA",
           0
          ],
          [
           "LMVH",
           0
          ],
          [
           "LPP SA",
           1
          ],
          [
           "La Francaise des Jeux SA",
           1
          ],
          [
           "Lanxess AG",
           2
          ],
          [
           "Legrand SA",
           2
          ],
          [
           "Leonardo SpA",
           1
          ],
          [
           "Lifco AB (publ)",
           3
          ],
          [
           "Linde PLC",
           4
          ],
          [
           "Logitech International SA",
           1
          ],
          [
           "Lonza Group AG",
           2
          ],
          [
           "Lundin Energy AB",
           2
          ],
          [
           "MTU Aero Engines AG",
           2
          ],
          [
           "Man Group PLC",
           1
          ],
          [
           "Marks and Spencer Group PLC",
           0
          ],
          [
           "Meggitt PLC",
           4
          ],
          [
           "Melrose Industries PLC",
           3
          ],
          [
           "Merck KGaA",
           0
          ],
          [
           "Metso Outotec Corp",
           4
          ],
          [
           "Millicom International Cellular SA",
           0
          ],
          [
           "Moncler SpA",
           0
          ],
          [
           "Mondi PLC",
           2
          ],
          [
           "MorphoSys AG",
           0
          ],
          [
           "Mowi ASA",
           2
          ],
          [
           "Nemetschek SE",
           1
          ],
          [
           "Neste Oyj",
           2
          ],
          [
           "Nestle SA",
           2
          ],
          [
           "Netcompany Group A/S",
           2
          ],
          [
           "Next PLC",
           3
          ],
          [
           "Nibe Industrier AB",
           2
          ],
          [
           "Nokia Oyj",
           2
          ],
          [
           "Nokian Tyres plc",
           0
          ],
          [
           "Nordic Entertainment Group AB",
           0
          ],
          [
           "Nordic Semiconductor ASA",
           0
          ],
          [
           "Norsk Hydro ASA",
           0
          ],
          [
           "Novartis AG",
           4
          ],
          [
           "Novo Nordisk A/S",
           0
          ],
          [
           "Novozymes A/S",
           4
          ],
          [
           "OMV AG",
           2
          ],
          [
           "Ocado Group PLC",
           1
          ],
          [
           "Orange SA",
           2
          ],
          [
           "Orion Oyj",
           2
          ],
          [
           "Orkla ASA",
           3
          ],
          [
           "Orpea SA",
           0
          ],
          [
           "Orsted A/S",
           2
          ],
          [
           "P/F Bakkafrost",
           1
          ],
          [
           "Pandora A/S",
           1
          ],
          [
           "Pearson PLC",
           0
          ],
          [
           "Pennon Group PLC",
           2
          ],
          [
           "Pernod Ricard SA",
           1
          ],
          [
           "Persimmon PLC",
           1
          ],
          [
           "Polski Koncern Naftowy Orlen SA",
           2
          ],
          [
           "Polymetal International PLC",
           3
          ],
          [
           "Prosiebensat 1 Media SE",
           0
          ],
          [
           "Prosus NV",
           0
          ],
          [
           "Proximus NV",
           0
          ],
          [
           "Prysmian SpA",
           4
          ],
          [
           "Publicis Groupe SA",
           1
          ],
          [
           "Puma SE",
           4
          ],
          [
           "Qiagen NV",
           1
          ],
          [
           "Randstad NV",
           0
          ],
          [
           "Rational AG",
           1
          ],
          [
           "Reckitt Benckiser Group PLC",
           4
          ],
          [
           "Recordati Industria Chimica e Farmaceutica SpA",
           4
          ],
          [
           "Relx PLC",
           0
          ],
          [
           "Remy Cointreau SA",
           2
          ],
          [
           "Renault SA",
           0
          ],
          [
           "Rentokil Initial PLC",
           2
          ],
          [
           "Reply SpA",
           0
          ],
          [
           "Repsol SA",
           2
          ],
          [
           "Rexel SA",
           2
          ],
          [
           "Rheinmetall AG",
           2
          ],
          [
           "Rightmove PLC",
           1
          ],
          [
           "Rio Tinto PLC",
           2
          ],
          [
           "Roche Holding AG",
           0
          ],
          [
           "Rockwool International A/S",
           0
          ],
          [
           "Rolls-Royce Holdings PLC",
           2
          ],
          [
           "Rotork PLC",
           1
          ],
          [
           "Royal Dutch Shell PLC",
           4
          ],
          [
           "Royal Mail PLC",
           1
          ],
          [
           "Royal Unibrew A/S",
           1
          ],
          [
           "Rubis SCA",
           0
          ],
          [
           "Ryanair Holdings PLC",
           2
          ],
          [
           "S4 Capital PLC",
           1
          ],
          [
           "SAP SE",
           0
          ],
          [
           "SEB SA",
           1
          ],
          [
           "SES SA",
           1
          ],
          [
           "SGS SA",
           3
          ],
          [
           "SIG Combibloc Group AG",
           1
          ],
          [
           "STMicroelectronics NV",
           2
          ],
          [
           "Safran SA",
           2
          ],
          [
           "Sagax AB",
           3
          ],
          [
           "Sage Group PLC",
           4
          ],
          [
           "SalMar ASA",
           0
          ],
          [
           "Sandvik AB",
           0
          ],
          [
           "Sanofi SA",
           0
          ],
          [
           "Sartorius AG",
           1
          ],
          [
           "Sartorius Stedim Biotech SA",
           2
          ],
          [
           "Schibsted ASA",
           0
          ],
          [
           "Schindler Holding AG",
           1
          ],
          [
           "Schneider Electric SE",
           2
          ],
          [
           "Securitas AB",
           0
          ],
          [
           "Siegfried Holding AG",
           4
          ],
          [
           "Siemens AG",
           0
          ],
          [
           "Siemens Energy AG",
           4
          ],
          [
           "Siemens Gamesa Renewable Energy SA",
           2
          ],
          [
           "Siemens Healthineers AG",
           0
          ],
          [
           "Signify NV",
           2
          ],
          [
           "Sika AG",
           4
          ],
          [
           "Simcorp A/S",
           2
          ],
          [
           "Sinch AB (publ)",
           1
          ],
          [
           "Skanska AB",
           4
          ],
          [
           "Smith & Nephew PLC",
           0
          ],
          [
           "Smiths Group PLC",
           2
          ],
          [
           "Smurfit Kappa Group PLC",
           3
          ],
          [
           "Snam SpA",
           2
          ],
          [
           "Sodexo SA",
           2
          ],
          [
           "Softcat PLC",
           1
          ],
          [
           "Soitec SA",
           2
          ],
          [
           "Solvay SA",
           0
          ],
          [
           "Sonova Holding AG",
           1
          ],
          [
           "Sopra Steria Group SA",
           0
          ],
          [
           "Spectris PLC",
           1
          ],
          [
           "Spie SA",
           2
          ],
          [
           "Spirax-Sarco Engineering PLC",
           3
          ],
          [
           "St James's Place PLC",
           0
          ],
          [
           "Stadler Rail AG",
           1
          ],
          [
           "Stellantis NV",
           0
          ],
          [
           "Stora Enso Oyj",
           2
          ],
          [
           "Straumann Holding AG",
           1
          ],
          [
           "Svenska Cellulosa SCA AB",
           2
          ],
          [
           "Swatch Group AG",
           3
          ],
          [
           "Sweco AB (publ)",
           0
          ],
          [
           "Swedish Match AB",
           3
          ],
          [
           "Swedish Orphan Biovitrum AB (publ)",
           0
          ],
          [
           "Swisscom AG",
           0
          ],
          [
           "Symrise AG",
           2
          ],
          [
           "THG PLC",
           1
          ],
          [
           "TUI AG",
           1
          ],
          [
           "Tate & Lyle PLC",
           0
          ],
          [
           "Taylor Wimpey PLC",
           0
          ],
          [
           "TeamViewer AG",
           2
          ],
          [
           "Tecan Group AG",
           4
          ],
          [
           "TechnipFMC PLC",
           2
          ],
          [
           "Tele2 AB",
           1
          ],
          [
           "Telecom Italia SpA",
           1
          ],
          [
           "Telefonaktiebolaget LM Ericsson",
           2
          ],
          [
           "Telefonica SA",
           1
          ],
          [
           "Telenor ASA",
           1
          ],
          [
           "Teleperformance SE",
           1
          ],
          [
           "Telia Company AB",
           1
          ],
          [
           "Temenos AG",
           0
          ],
          [
           "Tenaris SA",
           4
          ],
          [
           "Tesco PLC",
           1
          ],
          [
           "Thales SA",
           0
          ],
          [
           "Thule Group AB",
           2
          ],
          [
           "Tomra Systems ASA",
           0
          ],
          [
           "TotalEnergies SE",
           1
          ],
          [
           "Travis Perkins PLC",
           0
          ],
          [
           "Trelleborg AB",
           4
          ],
          [
           "UPM-Kymmene Oyj",
           2
          ],
          [
           "Ubisoft Entertainment SA",
           1
          ],
          [
           "Ucb SA",
           4
          ],
          [
           "Umicore SA",
           3
          ],
          [
           "Unilever PLC",
           2
          ],
          [
           "Unite Group PLC",
           1
          ],
          [
           "United Internet AG",
           0
          ],
          [
           "VAT Group AG",
           0
          ],
          [
           "Valeo SE",
           1
          ],
          [
           "Valmet Oyj",
           1
          ],
          [
           "Vestas Wind Systems A/S",
           2
          ],
          [
           "Victrex PLC",
           2
          ],
          [
           "Vifor Pharma AG",
           4
          ],
          [
           "Vinci SA",
           4
          ],
          [
           "Vistry Group PLC",
           2
          ],
          [
           "Vivendi SE",
           0
          ],
          [
           "Vodafone Group PLC",
           0
          ],
          [
           "Volkswagen AG",
           2
          ],
          [
           "Volvo AB",
           4
          ],
          [
           "WH Smith PLC",
           1
          ],
          [
           "WPP PLC",
           3
          ],
          [
           "Wartsila Oyj Abp",
           2
          ],
          [
           "Weir Group PLC",
           1
          ],
          [
           "Wendel SE",
           2
          ],
          [
           "Whitbread PLC",
           0
          ],
          [
           "Wienerberger AG",
           2
          ],
          [
           "Wihlborgs Fastigheter AB",
           0
          ],
          [
           "Wizz Air Holdings PLC",
           1
          ],
          [
           "Wm Morrison Supermarkets P L C",
           1
          ],
          [
           "Wolters Kluwer NV",
           1
          ],
          [
           "Yara International ASA",
           2
          ],
          [
           "Zalando SE",
           4
          ],
          [
           "Zur Rose Group AG",
           4
          ],
          [
           "ams AG",
           4
          ],
          [
           "argenx SE",
           1
          ],
          [
           "freenet AG",
           1
          ],
          [
           "thyssenkrupp AG",
           0
          ],
          [
           "voestalpine AG",
           1
          ]
         ],
         "hovertemplate": "Principal Component 1=%{x}<br>Principal Component 2=%{y}<br>Company name=%{customdata[0]}<br>Cluster=%{marker.color}<extra></extra>",
         "legendgroup": "",
         "marker": {
          "color": [
           4,
           0,
           0,
           2,
           1,
           0,
           1,
           2,
           2,
           2,
           1,
           2,
           0,
           2,
           1,
           2,
           0,
           4,
           1,
           2,
           2,
           2,
           2,
           1,
           3,
           2,
           1,
           4,
           1,
           2,
           0,
           0,
           1,
           1,
           4,
           0,
           0,
           4,
           2,
           2,
           1,
           1,
           3,
           0,
           4,
           1,
           0,
           0,
           0,
           1,
           2,
           3,
           0,
           2,
           0,
           4,
           1,
           0,
           0,
           4,
           0,
           1,
           0,
           4,
           3,
           2,
           2,
           2,
           2,
           3,
           0,
           1,
           4,
           0,
           4,
           3,
           0,
           2,
           0,
           2,
           3,
           2,
           1,
           2,
           2,
           4,
           4,
           1,
           2,
           0,
           2,
           1,
           1,
           4,
           1,
           0,
           3,
           1,
           0,
           2,
           2,
           0,
           0,
           0,
           1,
           2,
           3,
           4,
           3,
           1,
           2,
           1,
           2,
           1,
           1,
           0,
           4,
           1,
           0,
           1,
           1,
           1,
           1,
           4,
           3,
           1,
           0,
           1,
           0,
           2,
           2,
           4,
           3,
           2,
           3,
           2,
           1,
           2,
           2,
           1,
           1,
           2,
           4,
           1,
           4,
           1,
           0,
           1,
           0,
           4,
           1,
           3,
           1,
           0,
           2,
           0,
           2,
           1,
           1,
           0,
           2,
           3,
           0,
           1,
           2,
           0,
           1,
           0,
           0,
           2,
           1,
           0,
           3,
           0,
           0,
           0,
           2,
           2,
           0,
           2,
           0,
           1,
           1,
           1,
           2,
           1,
           2,
           2,
           0,
           2,
           1,
           1,
           1,
           0,
           0,
           1,
           0,
           4,
           2,
           0,
           0,
           4,
           2,
           1,
           4,
           2,
           0,
           0,
           3,
           3,
           4,
           1,
           2,
           1,
           1,
           1,
           3,
           2,
           3,
           2,
           1,
           2,
           4,
           4,
           3,
           0,
           1,
           2,
           4,
           1,
           4,
           2,
           1,
           1,
           4,
           0,
           0,
           0,
           3,
           0,
           0,
           1,
           1,
           2,
           2,
           1,
           3,
           4,
           1,
           2,
           2,
           2,
           1,
           0,
           4,
           3,
           0,
           4,
           0,
           0,
           2,
           0,
           2,
           1,
           2,
           2,
           2,
           3,
           2,
           2,
           0,
           0,
           0,
           0,
           4,
           0,
           4,
           2,
           1,
           2,
           2,
           3,
           0,
           2,
           1,
           1,
           0,
           2,
           1,
           1,
           2,
           3,
           0,
           0,
           0,
           4,
           1,
           4,
           1,
           0,
           1,
           4,
           4,
           0,
           2,
           0,
           2,
           0,
           2,
           2,
           2,
           1,
           2,
           0,
           0,
           2,
           1,
           4,
           1,
           1,
           0,
           2,
           1,
           0,
           1,
           1,
           3,
           1,
           2,
           2,
           3,
           4,
           0,
           0,
           0,
           1,
           2,
           0,
           1,
           2,
           0,
           4,
           0,
           4,
           2,
           0,
           2,
           4,
           2,
           1,
           4,
           0,
           2,
           3,
           2,
           2,
           1,
           2,
           0,
           1,
           0,
           1,
           2,
           3,
           0,
           1,
           0,
           2,
           1,
           2,
           3,
           0,
           3,
           0,
           0,
           2,
           1,
           1,
           0,
           0,
           2,
           4,
           2,
           1,
           1,
           2,
           1,
           1,
           1,
           1,
           0,
           4,
           1,
           0,
           2,
           0,
           1,
           0,
           4,
           2,
           1,
           4,
           3,
           2,
           1,
           0,
           0,
           1,
           1,
           2,
           2,
           4,
           4,
           2,
           0,
           0,
           2,
           4,
           1,
           3,
           2,
           1,
           2,
           0,
           2,
           0,
           1,
           1,
           1,
           2,
           4,
           4,
           4,
           1,
           1,
           0,
           1
          ],
          "coloraxis": "coloraxis",
          "symbol": "circle"
         },
         "mode": "markers",
         "name": "",
         "orientation": "v",
         "showlegend": false,
         "type": "scatter",
         "x": [
          0.012693088079466756,
          0.17521005754467758,
          0.10050895061556907,
          -0.6560237239808978,
          0.7716134474724544,
          0.10747722189718972,
          0.7716134474724439,
          -0.6417227493457013,
          -0.45981817581870665,
          -0.509130500759022,
          0.7799523160278286,
          -0.4995478491990321,
          0.3221032807665572,
          -0.6679940603373999,
          0.745964075935282,
          -0.4368170786264204,
          0.1784410056308597,
          -0.08847566006769056,
          -0.06742014680274022,
          -0.6101179115053348,
          -0.6780344315316497,
          -0.7370372686705914,
          -0.6679940603374002,
          -0.0827272866397389,
          -0.7066700323907705,
          -0.679161119838526,
          0.677494116126231,
          -0.7176404520941613,
          0.8139575011311434,
          -0.7579227110774894,
          0.14847163715695855,
          0.3221032807665567,
          0.7716134474724435,
          0.9687852440801062,
          0.01269308807946596,
          0.05816489695686829,
          0.1632397211881789,
          -0.7429574361308452,
          -0.5956806382047989,
          -0.6679940603374002,
          0.7917621699075298,
          -0.0827272866397389,
          0.009906273343507375,
          0.11604104578893348,
          -0.008097977662740001,
          0.7388520453737342,
          0.1632397211881789,
          0.012122785815962878,
          0.13576240038880738,
          0.9029996862514502,
          -0.6679940603374002,
          -0.7691628084845564,
          0.05816489695686829,
          -0.6101179115053348,
          0.1681454043540569,
          0.05752918941269572,
          0.6993000253398424,
          0.2170284565352463,
          0.1632397211881789,
          -0.6968493863519554,
          0.1632397211881789,
          0.6848627520393064,
          0.29213391229265556,
          0.01269308807946596,
          -0.20683119334119698,
          -0.5418919028577315,
          -0.5956806382047989,
          -0.6375952323047062,
          -0.7007554624361093,
          -0.8215472333375061,
          0.2497898586339556,
          0.7569948367710636,
          0.7127887529839869,
          0.13047831908946944,
          -0.07650532371118715,
          -0.7691628084845564,
          0.1632397211881789,
          -0.7991819984299644,
          0.1632397211881789,
          -0.5837103018482955,
          -0.7922697610711602,
          -0.6187875907914024,
          0.7716134474724435,
          -0.5956806382047989,
          -0.47543101565589263,
          0.18251214054294174,
          -0.08847566006769057,
          -0.059620334053135264,
          -0.6584114087774097,
          -0.04300385119028816,
          -0.6679940603374002,
          0.6993000253398424,
          0.6848627520393064,
          0.22093453261940013,
          0.7716134474724435,
          0.05816489695686829,
          -0.7691628084845564,
          0.9005076385769203,
          0.2170284565352463,
          -0.7203784851903499,
          -0.5956806382047989,
          0.14244865544597282,
          0.09932221345557567,
          0.1452406890707809,
          0.6101016135491892,
          -0.6679940603374002,
          -0.7571924721280533,
          0.01269308807946596,
          -0.7836000817850924,
          0.8587936024643734,
          -0.5956806382047989,
          0.5836940038921499,
          -0.7007554624361093,
          0.7716134474724435,
          0.6665386232411332,
          0.23535258533341963,
          0.06207097304102229,
          0.9005076385769203,
          0.03516379976458239,
          0.783583783828947,
          0.7088826768998331,
          0.6993000253398424,
          0.5653698750939766,
          0.051040212205239646,
          -0.010242449091578976,
          0.6848627520393064,
          0.26176019499045877,
          0.7304042406600262,
          0.24742728456794014,
          -0.6284420403035081,
          -0.6101179115053348,
          -0.08847566006769057,
          -0.16078908220029167,
          -0.4368170786264208,
          -0.05430994747486342,
          -0.5739514894581725,
          0.6993000253398424,
          -0.5956806382047989,
          -0.688785126079606,
          0.7329995104429717,
          -0.0740576073536712,
          -0.5321315979513082,
          -0.05016742303840577,
          0.9089035529769186,
          -0.7112866596524913,
          0.8249129940162414,
          -0.000659797531588486,
          0.7716134474724435,
          0.05816489695686829,
          -0.6968493863519554,
          0.6665386232411332,
          0.03459365224165085,
          0.7873936648037578,
          0.09663774819012788,
          -0.6284420403035081,
          0.7014136748809123,
          -0.6679940603374002,
          0.7716134474724435,
          0.7716134474724435,
          0.07648902575504142,
          -0.5956806382047989,
          -0.21317350705324148,
          0.14244865544597282,
          0.6848627520393064,
          -0.5837103018482955,
          0.2497898586339556,
          0.9304770070508216,
          0.19114650154634266,
          0.06792520186329182,
          -0.6101179115053348,
          -0.0740576073536712,
          0.12580135069535683,
          -0.7691628084845564,
          0.12473163955302453,
          0.0590800186477162,
          0.07648902575504142,
          -0.6570385674523023,
          -0.6824313336379361,
          0.14857749255127636,
          -0.5956806382047989,
          0.09932221345557567,
          -0.11538283334413037,
          0.7388520453737342,
          0.8437263116176842,
          -0.6284420403035081,
          0.8581635849182201,
          -0.5837103018482955,
          -0.5956806382047989,
          0.07831361939195443,
          -0.6187875907914024,
          -0.059620334053135264,
          0.7112703616963458,
          0.5981312771926859,
          0.17419521407327634,
          0.13047831908946944,
          0.6993000253398424,
          0.044176303801641593,
          -0.5707472288722868,
          -0.7285393834168256,
          0.1632397211881789,
          -0.02193751023881333,
          0.01269308807946596,
          -0.5956806382047989,
          -0.059620334053135264,
          -0.6848790499954521,
          -0.5956806382047989,
          0.2846649102737349,
          0.1861655504297796,
          -0.16078908220029167,
          -0.5654631475729488,
          -0.08847566006769057,
          0.9728210607095216,
          -0.6679940603374002,
          0.7388520453737342,
          0.6665386232411332,
          0.6993000253398424,
          -0.16078908220029167,
          -0.5956806382047989,
          -0.7582073155994589,
          -0.6679940603374002,
          0.7716134474724435,
          -0.4971601644025187,
          -0.6968493863519554,
          -0.010308009112820309,
          -0.11844502854159189,
          0.10300099829009819,
          0.7102555182249403,
          -0.7055382862245396,
          -0.6545053326932557,
          0.9304770070508216,
          -0.02006831401924329,
          -0.7007554624361093,
          0.8581635849182201,
          0.5653698750939766,
          -0.08847566006769057,
          0.14880244788764294,
          0.23535258533341963,
          0.05816489695686829,
          -0.7691628084845564,
          0.13047831908946944,
          0.3221032807665567,
          0.7716134474724435,
          0.6532579141989371,
          -0.6679940603374002,
          -0.5956806382047989,
          0.7716134474724435,
          -0.16078908220029167,
          0.055037141738165776,
          -0.059620334053135264,
          -0.7151927357366453,
          -0.4667864471003219,
          -0.5956806382047989,
          0.5981312771926859,
          0.05816489695686829,
          0.17155664765784423,
          -0.010242449091578976,
          0.13047831908946944,
          0.01269308807946596,
          0.1149713346466014,
          0.20259118323471034,
          -0.5956806382047989,
          0.14880244788764294,
          -0.6679940603374002,
          0.7716134474724435,
          -0.6679940603374002,
          -0.6101179115053348,
          -0.5418919028577315,
          -0.7619053730816641,
          -0.5956806382047989,
          -0.6679940603374002,
          0.20154795821746344,
          0.17282237274816933,
          0.2200461588779119,
          0.14244865544597282,
          0.05858919262558389,
          0.14880244788764294,
          0.01269308807946596,
          -0.5956806382047989,
          0.9687852440801062,
          -0.6923070227316792,
          -0.6909951575296861,
          -0.7268187548258567,
          0.08892481046643319,
          -0.6679940603374002,
          0.09924322552524277,
          0.6993000253398424,
          0.14130923531938291,
          -0.6679940603374002,
          0.7890145211907114,
          0.8581635849182201,
          -0.6679940603374002,
          -0.8215472333375061,
          0.1632397211881789,
          0.14244865544597282,
          0.3644473344252567,
          -0.08847566006769057,
          0.984791397066025,
          0.22093453261940013,
          0.7716134474724435,
          0.10612758349825854,
          0.7716134474724435,
          0.01269308807946596,
          0.656007426024751,
          0.21378727165595882,
          -0.7007554624361093,
          0.1632397211881789,
          -0.7531398872890589,
          0.1752100575446821,
          -0.5716356026137749,
          -0.5956806382047989,
          -0.5533365845460991,
          0.6993000253398424,
          -0.5956806382047989,
          0.05816489695686829,
          0.14880244788764294,
          -0.6480650630577486,
          0.09924322552524277,
          -0.6968493863519554,
          0.7441361266730724,
          0.8581635849182201,
          0.005780472103918717,
          -0.5956806382047989,
          0.8139575011311434,
          0.14013276860157506,
          -0.059620334053135264,
          0.7716134474724435,
          -0.7921639056768425,
          -0.0394716116180489,
          -0.6284420403035081,
          -0.3835175320826232,
          -0.010242449091578976,
          0.01269308807946596,
          0.07648902575504142,
          0.1632397211881789,
          0.13047831908946944,
          0.6993000253398424,
          -0.584725145319701,
          0.14130923531938291,
          0.9304770070508216,
          -0.6560237239808967,
          0.09092629905557735,
          0.670444699325287,
          -0.017220625088367192,
          -0.6968493863519554,
          -0.7007554624361093,
          0.1511941168809905,
          -0.6284420403035081,
          -0.6520132850187256,
          -0.7107958336303589,
          0.7561064630295756,
          -0.08847566006769057,
          0.13134818562593228,
          -0.5956806382047989,
          -0.18379017939257775,
          -0.7007554624361093,
          -0.7154728020244716,
          0.6761930727532388,
          -0.5956806382047989,
          0.15220896035239598,
          0.7825689403575414,
          0.26634078147556156,
          0.6101016135491892,
          -0.6679940603374002,
          -0.14881874584378846,
          0.1632397211881789,
          0.9029996862514502,
          0.2662349260812438,
          -0.6679940603374002,
          0.7716134474724435,
          -0.6560237239808967,
          -0.815204919625462,
          0.03516379976458239,
          -0.7836000817850924,
          0.2749046053673116,
          0.20154795821746344,
          -0.6561600226462401,
          0.7486123502801575,
          0.6848627520393064,
          0.1632397211881789,
          0.06792520186329182,
          -0.7467975735770147,
          0.670444699325287,
          -0.4971601644025187,
          0.7716134474724435,
          0.7102555182249403,
          -0.6111876226476667,
          0.7341750769796216,
          0.6993000253398424,
          0.7112703616963458,
          0.8284198851621769,
          0.06781934646897389,
          0.8412785952601683,
          -0.059620334053135264,
          0.13576240038880738,
          -0.6824313336379361,
          0.1752100575446821,
          0.6686447492335187,
          0.05816489695686829,
          0.670444699325287,
          -0.5956806382047989,
          0.8581635849182201,
          0.670444699325287,
          -0.7691628084845564,
          -0.6679940603374002,
          0.7441361266730724,
          0.2200461588779119,
          0.3221032807665567,
          -0.0740576073536712,
          0.8581635849182201,
          -0.6679940603374002,
          -0.6679940603374002,
          -0.6968493863519554,
          -0.08847566006769057,
          -0.7007554624361093,
          0.11713167140928918,
          0.03516379976458239,
          -0.6570385674523023,
          -0.08847566006769057,
          0.9005076385769203,
          -0.7921639056768425,
          -0.5956806382047989,
          0.7441361266730724,
          -0.6679940603374002,
          0.26104814269908133,
          -0.6824313336379361,
          0.1452406890707809,
          0.618279999627772,
          -0.08667028701729432,
          0.7048468602704178,
          -0.7697986707693008,
          0.01269308807946596,
          0.6905934217603732,
          0.10441502669972211,
          0.6993000253398424,
          0.6993000253398424,
          0.1632397211881789,
          0.7716134474724435
         ],
         "xaxis": "x",
         "y": [
          -0.7985937594980975,
          -0.34438916676668135,
          0.9320416427305401,
          0.23813812672805357,
          -0.5634493086287765,
          0.1016973969052288,
          -0.5634493086287619,
          -0.5329735029804229,
          -0.42025973019640245,
          0.35459841884638166,
          0.35104345120069913,
          0.8003645339420428,
          -0.2279288746483485,
          0.25113107676554325,
          0.21318189989392833,
          -0.46307332551768493,
          -0.2673987830678162,
          -0.9729222827041095,
          0.12588901384862175,
          -0.4993051991707213,
          0.38262243897727904,
          0.32751183670492423,
          0.2511310767655432,
          0.04174049984447183,
          0.15467186866318872,
          -0.42292443923134,
          0.6346352177795924,
          -0.3635821225288877,
          -0.5079632118462364,
          0.41703432560105935,
          0.6057590580787772,
          -0.2279288746483487,
          -0.5634493086287625,
          -0.4186470478650561,
          -0.7985937594980989,
          0.8765555459480142,
          -0.3313962167291876,
          -0.6753930805047484,
          -0.5665406675985241,
          0.2511310767655432,
          -0.5410660903076329,
          0.04174049984447183,
          0.334330222749999,
          0.12611927001174955,
          -0.42130669122245223,
          -0.17316929031562808,
          -0.3313962167291876,
          0.9101227105661127,
          0.5831244484513742,
          0.45453869863263835,
          0.2511310767655432,
          0.07680255355953275,
          0.8765555459480142,
          -0.4993051991707213,
          -0.16586105619757618,
          -0.7017448386816042,
          0.2542224357353046,
          0.9800228880288532,
          -0.3313962167291876,
          -0.7408691908045345,
          -0.3313962167291876,
          0.32145790416310743,
          0.645228966498245,
          -0.7985937594980989,
          -0.12168337372194347,
          0.7448784371595168,
          -0.5665406675985241,
          0.4152154660098407,
          0.6414110950786777,
          0.15280781898874235,
          0.5897428697157185,
          0.18336125461013314,
          -0.6822917350522467,
          0.058883801583946786,
          -0.9859152327415971,
          0.07680255355953275,
          -0.3313962167291876,
          0.7509835251259862,
          -0.3313962167291876,
          -0.5795336176360119,
          0.09946506853803642,
          -0.5438781526200203,
          -0.5634493086287625,
          -0.5665406675985241,
          0.46111690460389304,
          -0.7049936536861064,
          -0.9729222827041095,
          0.019077984865968213,
          0.6968971918612038,
          0.7022270227420037,
          0.2511310767655432,
          0.2542224357353046,
          0.32145790416310743,
          -0.402257397854359,
          -0.5634493086287625,
          0.8765555459480142,
          0.07680255355953275,
          0.4131758745986701,
          0.9800228880288532,
          0.3271363421947528,
          -0.5665406675985241,
          0.04589085154645911,
          0.4986047828655524,
          0.5287686743799181,
          0.0669009624918064,
          0.2511310767655432,
          0.063809603522045,
          -0.7985937594980989,
          0.1440380219873355,
          -0.4111142910297416,
          -0.5665406675985241,
          0.14712938095709685,
          0.6414110950786777,
          -0.5634493086287625,
          0.6445024540484392,
          0.6569783381435214,
          -0.5057247399351981,
          0.4131758745986701,
          0.9193691412692965,
          -0.5764422586662504,
          0.6999885508309656,
          0.2542224357353046,
          0.47017393084242876,
          -0.47590409465140343,
          0.31194700442886913,
          0.32145790416310743,
          0.5767499196782309,
          0.26673841778758794,
          1.1441072772731506,
          -0.1762606492853896,
          -0.4993051991707213,
          -0.9729222827041095,
          -0.15525053834004227,
          -0.46307332551768504,
          0.0242220691700065,
          -0.44702923180352555,
          0.2542224357353046,
          -0.5665406675985241,
          0.62841814504119,
          0.36074092149281517,
          0.08631345329377095,
          0.39741201416766475,
          -0.931587364021242,
          0.42550512982934285,
          -0.6736337223767316,
          -0.5178304481150829,
          0.7577131195245297,
          -0.5634493086287625,
          0.8765555459480142,
          -0.7408691908045345,
          0.6445024540484392,
          0.4087959252453638,
          0.34744564385443066,
          0.5758942143838123,
          -0.1762606492853896,
          -0.06312022656654298,
          0.2511310767655432,
          -0.5634493086287625,
          -0.5634493086287625,
          0.5535109960626823,
          -0.5665406675985241,
          -0.07924527291083262,
          0.04589085154645911,
          0.32145790416310743,
          -0.5795336176360119,
          0.5897428697157185,
          -0.45998196654792367,
          -0.20867465151885853,
          0.5290891229561621,
          -0.4993051991707213,
          0.08631345329377095,
          -0.22134715298010224,
          0.07680255355953275,
          0.612945093735169,
          0.9981796718909034,
          0.5535109960626823,
          0.24126384049669675,
          0.31836654519334595,
          0.6259101384215557,
          -0.5665406675985241,
          0.4986047828655524,
          0.45217159850038524,
          -0.17316929031562808,
          0.42492524624394645,
          -0.1762606492853896,
          0.3576897778161437,
          -0.5795336176360119,
          -0.5665406675985241,
          0.898938764269144,
          -0.5438781526200203,
          0.019077984865968213,
          0.24122948569781688,
          0.0798939125292941,
          -0.34126345299803396,
          0.058883801583946786,
          0.2542224357353046,
          0.8545620403410245,
          -0.24712183041056113,
          0.38384265549313207,
          -0.3313962167291876,
          0.6630834261099907,
          -0.7985937594980989,
          -0.5665406675985241,
          0.019077984865968213,
          -0.7538621408420224,
          -0.5665406675985241,
          -0.1178798108992633,
          -0.3542564030355218,
          -0.15525053834004227,
          0.27711881645686637,
          -0.9729222827041095,
          -0.40449586976539725,
          0.2511310767655432,
          -0.17316929031562808,
          0.6445024540484392,
          0.2542224357353046,
          -0.15525053834004227,
          -0.5665406675985241,
          0.06693531729068625,
          0.2511310767655432,
          -0.5634493086287625,
          0.34160546880889453,
          -0.7408691908045345,
          -0.7557801641768167,
          -0.09976444155751597,
          0.9734044667645089,
          0.24435519946645778,
          0.3410290601718496,
          -0.6853830940220081,
          -0.45998196654792367,
          -0.4083137411849644,
          0.6414110950786777,
          0.3576897778161437,
          0.47017393084242876,
          -0.9729222827041095,
          -0.26416074830138486,
          0.6569783381435214,
          0.8765555459480142,
          0.07680255355953275,
          0.058883801583946786,
          -0.2279288746483487,
          -0.5634493086287625,
          0.2877896003534034,
          0.2511310767655432,
          -0.5665406675985241,
          -0.5634493086287625,
          -0.15525053834004227,
          -0.7431076627155726,
          0.019077984865968213,
          0.7086465635064805,
          0.4100845156289086,
          -0.5665406675985241,
          0.0798939125292941,
          0.8765555459480142,
          -0.69512641741726,
          0.31194700442886913,
          0.058883801583946786,
          -0.7985937594980989,
          0.9604115167270212,
          1.047258356456656,
          -0.5665406675985241,
          -0.26416074830138486,
          0.2511310767655432,
          -0.5634493086287625,
          0.2511310767655432,
          -0.4993051991707213,
          0.7448784371595168,
          0.1559885786913111,
          -0.5665406675985241,
          0.2511310767655432,
          -0.2900612980463199,
          0.1143698983664732,
          -0.24754024595018076,
          0.04589085154645911,
          -0.44835650777624164,
          -0.26416074830138486,
          -0.7985937594980989,
          -0.5665406675985241,
          -0.4186470478650561,
          0.40420967717864026,
          0.2939446720868255,
          0.13228865034205892,
          1.090744650876586,
          0.2511310767655432,
          0.12254532694680727,
          0.2542224357353046,
          1.0147393854473763,
          0.2511310767655432,
          0.413919457412746,
          0.3576897778161437,
          0.2511310767655432,
          0.15280781898874235,
          -0.3313962167291876,
          0.04589085154645911,
          -0.1724427778658222,
          -0.9729222827041095,
          -0.4174888198028851,
          -0.402257397854359,
          -0.5634493086287625,
          0.5502729612962508,
          -0.5634493086287625,
          -0.7985937594980989,
          -0.6705423634069703,
          -0.14492860916376032,
          0.6414110950786777,
          -0.3313962167291876,
          0.7174163605078874,
          -0.34438916676667536,
          -0.09240467850638254,
          -0.5665406675985241,
          -0.5110545708159978,
          0.2542224357353046,
          -0.5665406675985241,
          0.8765555459480142,
          -0.26416074830138486,
          -0.4905354021693144,
          0.12254532694680727,
          -0.7408691908045345,
          0.35107135655179933,
          0.3576897778161437,
          0.9525608113772238,
          -0.5665406675985241,
          -0.5079632118462364,
          -0.30873370175068393,
          0.019077984865968213,
          -0.5634493086287625,
          0.11961614888081507,
          0.04146120318709825,
          -0.1762606492853896,
          -0.4174544650040052,
          0.31194700442886913,
          -0.7985937594980989,
          0.5535109960626823,
          -0.3313962167291876,
          0.058883801583946786,
          0.2542224357353046,
          -0.5764079038673703,
          1.0147393854473763,
          -0.45998196654792367,
          0.23813812672805548,
          0.4862755276348795,
          -0.7377778318347731,
          0.9953744066985064,
          -0.7408691908045345,
          0.6414110950786777,
          -0.29844985767675175,
          -0.1762606492853896,
          -0.64402026998804,
          0.7729024572904137,
          0.3380784065143116,
          -0.9729222827041095,
          0.21026778401589957,
          -0.5665406675985241,
          -0.11243694301875984,
          0.6414110950786777,
          0.49267150272636434,
          0.27688495071380825,
          -0.5665406675985241,
          -0.30157557144539293,
          -0.5733165448976092,
          0.20516473898606846,
          0.0669009624918064,
          0.2511310767655432,
          -0.16824348837753003,
          -0.3313962167291876,
          0.45453869863263835,
          0.18501365864328947,
          0.2511310767655432,
          -0.5634493086287625,
          0.23813812672805548,
          0.11036971817763147,
          0.9193691412692965,
          0.1440380219873355,
          0.2295866120925886,
          -0.2900612980463199,
          -0.4657380345526226,
          -0.52063571330748,
          0.32145790416310743,
          -0.3313962167291876,
          0.5290891229561621,
          0.6749782596967763,
          -0.7377778318347731,
          0.34160546880889453,
          -0.5634493086287625,
          0.24435519946645778,
          0.3349870475445502,
          -0.4534002448796773,
          0.2542224357353046,
          0.24122948569781688,
          -0.47959333784975555,
          0.5089380426133832,
          -0.6473034397914218,
          0.019077984865968213,
          0.5831244484513742,
          0.31836654519334595,
          -0.34438916676667536,
          0.4497391369595126,
          0.8765555459480142,
          -0.7377778318347731,
          -0.5665406675985241,
          0.3576897778161437,
          -0.7377778318347731,
          0.07680255355953275,
          0.2511310767655432,
          0.35107135655179933,
          -0.24754024595018076,
          -0.2279288746483487,
          0.08631345329377095,
          0.3576897778161437,
          0.2511310767655432,
          0.2511310767655432,
          -0.7408691908045345,
          -0.9729222827041095,
          0.6414110950786777,
          -0.26592010642940145,
          0.9193691412692965,
          0.24126384049669675,
          -0.9729222827041095,
          0.4131758745986701,
          0.11961614888081507,
          -0.5665406675985241,
          0.35107135655179933,
          0.2511310767655432,
          1.1109764934606534,
          0.31836654519334595,
          0.5287686743799181,
          0.10227713085042414,
          0.49897668992803546,
          0.6858373727313068,
          0.7177918550180588,
          -0.7985937594980989,
          -0.7153946135136432,
          -0.4502386431526717,
          0.2542224357353046,
          0.2542224357353046,
          -0.3313962167291876,
          -0.5634493086287625
         ],
         "yaxis": "y"
        }
       ],
       "layout": {
        "coloraxis": {
         "colorbar": {
          "title": {
           "text": "Cluster"
          }
         },
         "colorscale": [
          [
           0,
           "#0d0887"
          ],
          [
           0.1111111111111111,
           "#46039f"
          ],
          [
           0.2222222222222222,
           "#7201a8"
          ],
          [
           0.3333333333333333,
           "#9c179e"
          ],
          [
           0.4444444444444444,
           "#bd3786"
          ],
          [
           0.5555555555555556,
           "#d8576b"
          ],
          [
           0.6666666666666666,
           "#ed7953"
          ],
          [
           0.7777777777777778,
           "#fb9f3a"
          ],
          [
           0.8888888888888888,
           "#fdca26"
          ],
          [
           1,
           "#f0f921"
          ]
         ]
        },
        "height": 600,
        "legend": {
         "tracegroupgap": 0
        },
        "template": {
         "data": {
          "bar": [
           {
            "error_x": {
             "color": "#2a3f5f"
            },
            "error_y": {
             "color": "#2a3f5f"
            },
            "marker": {
             "line": {
              "color": "#E5ECF6",
              "width": 0.5
             },
             "pattern": {
              "fillmode": "overlay",
              "size": 10,
              "solidity": 0.2
             }
            },
            "type": "bar"
           }
          ],
          "barpolar": [
           {
            "marker": {
             "line": {
              "color": "#E5ECF6",
              "width": 0.5
             },
             "pattern": {
              "fillmode": "overlay",
              "size": 10,
              "solidity": 0.2
             }
            },
            "type": "barpolar"
           }
          ],
          "carpet": [
           {
            "aaxis": {
             "endlinecolor": "#2a3f5f",
             "gridcolor": "white",
             "linecolor": "white",
             "minorgridcolor": "white",
             "startlinecolor": "#2a3f5f"
            },
            "baxis": {
             "endlinecolor": "#2a3f5f",
             "gridcolor": "white",
             "linecolor": "white",
             "minorgridcolor": "white",
             "startlinecolor": "#2a3f5f"
            },
            "type": "carpet"
           }
          ],
          "choropleth": [
           {
            "colorbar": {
             "outlinewidth": 0,
             "ticks": ""
            },
            "type": "choropleth"
           }
          ],
          "contour": [
           {
            "colorbar": {
             "outlinewidth": 0,
             "ticks": ""
            },
            "colorscale": [
             [
              0,
              "#0d0887"
             ],
             [
              0.1111111111111111,
              "#46039f"
             ],
             [
              0.2222222222222222,
              "#7201a8"
             ],
             [
              0.3333333333333333,
              "#9c179e"
             ],
             [
              0.4444444444444444,
              "#bd3786"
             ],
             [
              0.5555555555555556,
              "#d8576b"
             ],
             [
              0.6666666666666666,
              "#ed7953"
             ],
             [
              0.7777777777777778,
              "#fb9f3a"
             ],
             [
              0.8888888888888888,
              "#fdca26"
             ],
             [
              1,
              "#f0f921"
             ]
            ],
            "type": "contour"
           }
          ],
          "contourcarpet": [
           {
            "colorbar": {
             "outlinewidth": 0,
             "ticks": ""
            },
            "type": "contourcarpet"
           }
          ],
          "heatmap": [
           {
            "colorbar": {
             "outlinewidth": 0,
             "ticks": ""
            },
            "colorscale": [
             [
              0,
              "#0d0887"
             ],
             [
              0.1111111111111111,
              "#46039f"
             ],
             [
              0.2222222222222222,
              "#7201a8"
             ],
             [
              0.3333333333333333,
              "#9c179e"
             ],
             [
              0.4444444444444444,
              "#bd3786"
             ],
             [
              0.5555555555555556,
              "#d8576b"
             ],
             [
              0.6666666666666666,
              "#ed7953"
             ],
             [
              0.7777777777777778,
              "#fb9f3a"
             ],
             [
              0.8888888888888888,
              "#fdca26"
             ],
             [
              1,
              "#f0f921"
             ]
            ],
            "type": "heatmap"
           }
          ],
          "heatmapgl": [
           {
            "colorbar": {
             "outlinewidth": 0,
             "ticks": ""
            },
            "colorscale": [
             [
              0,
              "#0d0887"
             ],
             [
              0.1111111111111111,
              "#46039f"
             ],
             [
              0.2222222222222222,
              "#7201a8"
             ],
             [
              0.3333333333333333,
              "#9c179e"
             ],
             [
              0.4444444444444444,
              "#bd3786"
             ],
             [
              0.5555555555555556,
              "#d8576b"
             ],
             [
              0.6666666666666666,
              "#ed7953"
             ],
             [
              0.7777777777777778,
              "#fb9f3a"
             ],
             [
              0.8888888888888888,
              "#fdca26"
             ],
             [
              1,
              "#f0f921"
             ]
            ],
            "type": "heatmapgl"
           }
          ],
          "histogram": [
           {
            "marker": {
             "pattern": {
              "fillmode": "overlay",
              "size": 10,
              "solidity": 0.2
             }
            },
            "type": "histogram"
           }
          ],
          "histogram2d": [
           {
            "colorbar": {
             "outlinewidth": 0,
             "ticks": ""
            },
            "colorscale": [
             [
              0,
              "#0d0887"
             ],
             [
              0.1111111111111111,
              "#46039f"
             ],
             [
              0.2222222222222222,
              "#7201a8"
             ],
             [
              0.3333333333333333,
              "#9c179e"
             ],
             [
              0.4444444444444444,
              "#bd3786"
             ],
             [
              0.5555555555555556,
              "#d8576b"
             ],
             [
              0.6666666666666666,
              "#ed7953"
             ],
             [
              0.7777777777777778,
              "#fb9f3a"
             ],
             [
              0.8888888888888888,
              "#fdca26"
             ],
             [
              1,
              "#f0f921"
             ]
            ],
            "type": "histogram2d"
           }
          ],
          "histogram2dcontour": [
           {
            "colorbar": {
             "outlinewidth": 0,
             "ticks": ""
            },
            "colorscale": [
             [
              0,
              "#0d0887"
             ],
             [
              0.1111111111111111,
              "#46039f"
             ],
             [
              0.2222222222222222,
              "#7201a8"
             ],
             [
              0.3333333333333333,
              "#9c179e"
             ],
             [
              0.4444444444444444,
              "#bd3786"
             ],
             [
              0.5555555555555556,
              "#d8576b"
             ],
             [
              0.6666666666666666,
              "#ed7953"
             ],
             [
              0.7777777777777778,
              "#fb9f3a"
             ],
             [
              0.8888888888888888,
              "#fdca26"
             ],
             [
              1,
              "#f0f921"
             ]
            ],
            "type": "histogram2dcontour"
           }
          ],
          "mesh3d": [
           {
            "colorbar": {
             "outlinewidth": 0,
             "ticks": ""
            },
            "type": "mesh3d"
           }
          ],
          "parcoords": [
           {
            "line": {
             "colorbar": {
              "outlinewidth": 0,
              "ticks": ""
             }
            },
            "type": "parcoords"
           }
          ],
          "pie": [
           {
            "automargin": true,
            "type": "pie"
           }
          ],
          "scatter": [
           {
            "fillpattern": {
             "fillmode": "overlay",
             "size": 10,
             "solidity": 0.2
            },
            "type": "scatter"
           }
          ],
          "scatter3d": [
           {
            "line": {
             "colorbar": {
              "outlinewidth": 0,
              "ticks": ""
             }
            },
            "marker": {
             "colorbar": {
              "outlinewidth": 0,
              "ticks": ""
             }
            },
            "type": "scatter3d"
           }
          ],
          "scattercarpet": [
           {
            "marker": {
             "colorbar": {
              "outlinewidth": 0,
              "ticks": ""
             }
            },
            "type": "scattercarpet"
           }
          ],
          "scattergeo": [
           {
            "marker": {
             "colorbar": {
              "outlinewidth": 0,
              "ticks": ""
             }
            },
            "type": "scattergeo"
           }
          ],
          "scattergl": [
           {
            "marker": {
             "colorbar": {
              "outlinewidth": 0,
              "ticks": ""
             }
            },
            "type": "scattergl"
           }
          ],
          "scattermapbox": [
           {
            "marker": {
             "colorbar": {
              "outlinewidth": 0,
              "ticks": ""
             }
            },
            "type": "scattermapbox"
           }
          ],
          "scatterpolar": [
           {
            "marker": {
             "colorbar": {
              "outlinewidth": 0,
              "ticks": ""
             }
            },
            "type": "scatterpolar"
           }
          ],
          "scatterpolargl": [
           {
            "marker": {
             "colorbar": {
              "outlinewidth": 0,
              "ticks": ""
             }
            },
            "type": "scatterpolargl"
           }
          ],
          "scatterternary": [
           {
            "marker": {
             "colorbar": {
              "outlinewidth": 0,
              "ticks": ""
             }
            },
            "type": "scatterternary"
           }
          ],
          "surface": [
           {
            "colorbar": {
             "outlinewidth": 0,
             "ticks": ""
            },
            "colorscale": [
             [
              0,
              "#0d0887"
             ],
             [
              0.1111111111111111,
              "#46039f"
             ],
             [
              0.2222222222222222,
              "#7201a8"
             ],
             [
              0.3333333333333333,
              "#9c179e"
             ],
             [
              0.4444444444444444,
              "#bd3786"
             ],
             [
              0.5555555555555556,
              "#d8576b"
             ],
             [
              0.6666666666666666,
              "#ed7953"
             ],
             [
              0.7777777777777778,
              "#fb9f3a"
             ],
             [
              0.8888888888888888,
              "#fdca26"
             ],
             [
              1,
              "#f0f921"
             ]
            ],
            "type": "surface"
           }
          ],
          "table": [
           {
            "cells": {
             "fill": {
              "color": "#EBF0F8"
             },
             "line": {
              "color": "white"
             }
            },
            "header": {
             "fill": {
              "color": "#C8D4E3"
             },
             "line": {
              "color": "white"
             }
            },
            "type": "table"
           }
          ]
         },
         "layout": {
          "annotationdefaults": {
           "arrowcolor": "#2a3f5f",
           "arrowhead": 0,
           "arrowwidth": 1
          },
          "autotypenumbers": "strict",
          "coloraxis": {
           "colorbar": {
            "outlinewidth": 0,
            "ticks": ""
           }
          },
          "colorscale": {
           "diverging": [
            [
             0,
             "#8e0152"
            ],
            [
             0.1,
             "#c51b7d"
            ],
            [
             0.2,
             "#de77ae"
            ],
            [
             0.3,
             "#f1b6da"
            ],
            [
             0.4,
             "#fde0ef"
            ],
            [
             0.5,
             "#f7f7f7"
            ],
            [
             0.6,
             "#e6f5d0"
            ],
            [
             0.7,
             "#b8e186"
            ],
            [
             0.8,
             "#7fbc41"
            ],
            [
             0.9,
             "#4d9221"
            ],
            [
             1,
             "#276419"
            ]
           ],
           "sequential": [
            [
             0,
             "#0d0887"
            ],
            [
             0.1111111111111111,
             "#46039f"
            ],
            [
             0.2222222222222222,
             "#7201a8"
            ],
            [
             0.3333333333333333,
             "#9c179e"
            ],
            [
             0.4444444444444444,
             "#bd3786"
            ],
            [
             0.5555555555555556,
             "#d8576b"
            ],
            [
             0.6666666666666666,
             "#ed7953"
            ],
            [
             0.7777777777777778,
             "#fb9f3a"
            ],
            [
             0.8888888888888888,
             "#fdca26"
            ],
            [
             1,
             "#f0f921"
            ]
           ],
           "sequentialminus": [
            [
             0,
             "#0d0887"
            ],
            [
             0.1111111111111111,
             "#46039f"
            ],
            [
             0.2222222222222222,
             "#7201a8"
            ],
            [
             0.3333333333333333,
             "#9c179e"
            ],
            [
             0.4444444444444444,
             "#bd3786"
            ],
            [
             0.5555555555555556,
             "#d8576b"
            ],
            [
             0.6666666666666666,
             "#ed7953"
            ],
            [
             0.7777777777777778,
             "#fb9f3a"
            ],
            [
             0.8888888888888888,
             "#fdca26"
            ],
            [
             1,
             "#f0f921"
            ]
           ]
          },
          "colorway": [
           "#636efa",
           "#EF553B",
           "#00cc96",
           "#ab63fa",
           "#FFA15A",
           "#19d3f3",
           "#FF6692",
           "#B6E880",
           "#FF97FF",
           "#FECB52"
          ],
          "font": {
           "color": "#2a3f5f"
          },
          "geo": {
           "bgcolor": "white",
           "lakecolor": "white",
           "landcolor": "#E5ECF6",
           "showlakes": true,
           "showland": true,
           "subunitcolor": "white"
          },
          "hoverlabel": {
           "align": "left"
          },
          "hovermode": "closest",
          "mapbox": {
           "style": "light"
          },
          "paper_bgcolor": "white",
          "plot_bgcolor": "#E5ECF6",
          "polar": {
           "angularaxis": {
            "gridcolor": "white",
            "linecolor": "white",
            "ticks": ""
           },
           "bgcolor": "#E5ECF6",
           "radialaxis": {
            "gridcolor": "white",
            "linecolor": "white",
            "ticks": ""
           }
          },
          "scene": {
           "xaxis": {
            "backgroundcolor": "#E5ECF6",
            "gridcolor": "white",
            "gridwidth": 2,
            "linecolor": "white",
            "showbackground": true,
            "ticks": "",
            "zerolinecolor": "white"
           },
           "yaxis": {
            "backgroundcolor": "#E5ECF6",
            "gridcolor": "white",
            "gridwidth": 2,
            "linecolor": "white",
            "showbackground": true,
            "ticks": "",
            "zerolinecolor": "white"
           },
           "zaxis": {
            "backgroundcolor": "#E5ECF6",
            "gridcolor": "white",
            "gridwidth": 2,
            "linecolor": "white",
            "showbackground": true,
            "ticks": "",
            "zerolinecolor": "white"
           }
          },
          "shapedefaults": {
           "line": {
            "color": "#2a3f5f"
           }
          },
          "ternary": {
           "aaxis": {
            "gridcolor": "white",
            "linecolor": "white",
            "ticks": ""
           },
           "baxis": {
            "gridcolor": "white",
            "linecolor": "white",
            "ticks": ""
           },
           "bgcolor": "#E5ECF6",
           "caxis": {
            "gridcolor": "white",
            "linecolor": "white",
            "ticks": ""
           }
          },
          "title": {
           "x": 0.05
          },
          "xaxis": {
           "automargin": true,
           "gridcolor": "white",
           "linecolor": "white",
           "ticks": "",
           "title": {
            "standoff": 15
           },
           "zerolinecolor": "white",
           "zerolinewidth": 2
          },
          "yaxis": {
           "automargin": true,
           "gridcolor": "white",
           "linecolor": "white",
           "ticks": "",
           "title": {
            "standoff": 15
           },
           "zerolinecolor": "white",
           "zerolinewidth": 2
          }
         }
        },
        "title": {
         "text": "PCA of Companies with Clusters"
        },
        "width": 800,
        "xaxis": {
         "anchor": "y",
         "domain": [
          0,
          1
         ],
         "title": {
          "text": "Principal Component 1"
         }
        },
        "yaxis": {
         "anchor": "x",
         "domain": [
          0,
          1
         ],
         "title": {
          "text": "Principal Component 2"
         }
        }
       }
      }
     },
     "metadata": {},
     "output_type": "display_data"
    }
   ],
   "source": [
    "_, fig = visualize_clusters(binary_encoded, 5)\n",
    "fig.show()"
   ]
  },
  {
   "cell_type": "markdown",
   "metadata": {},
   "source": [
    "#### Save clustered data"
   ]
  },
  {
   "cell_type": "code",
   "execution_count": 14,
   "metadata": {},
   "outputs": [],
   "source": [
    "(\n",
    "    dataf.merge(\n",
    "        clustered_df[[\"Company name\", \"Cluster\"]],\n",
    "        on=\"Company name\"\n",
    "    )\n",
    "    .to_csv(\"data/classified-clustered.csv\", index=False)\n",
    ")"
   ]
  },
  {
   "cell_type": "markdown",
   "metadata": {},
   "source": [
    "#### Chi-squared test\n",
    "Are the categories independent?"
   ]
  },
  {
   "cell_type": "code",
   "execution_count": 15,
   "metadata": {},
   "outputs": [],
   "source": [
    "binary_encoded = (\n",
    "    dataf.explode('Purpose Categories')\n",
    "    .pipe(lambda df: pd.get_dummies(df, columns=['Purpose Categories']))\n",
    "    .groupby('Company name')\n",
    "    .sum()\n",
    ")\n",
    "\n",
    "# Function to perform Chi-Square Test on a pair of labels\n",
    "def chi_square_test(df, label1, label2):\n",
    "    table = pd.crosstab(df[label1], df[label2])\n",
    "    chi2, p, dof, ex = chi2_contingency(table)\n",
    "    return chi2, p\n",
    "\n",
    "# Prepare a list to collect results\n",
    "chi_square_results = []\n",
    "\n",
    "# Iterating over each combination of labels and performing Chi-Square Test\n",
    "alpha = 0.05  # Significance level\n",
    "for label1, label2 in combinations(binary_encoded.columns, 2):\n",
    "    chi2, p = chi_square_test(binary_encoded, label1, label2)\n",
    "    independence = \"Independence\" if p > alpha else \"Dependence\"\n",
    "    chi_square_results.append({\n",
    "        'Label 1': label1, \n",
    "        'Label 2': label2, \n",
    "        'Chi-Square Statistic': chi2, \n",
    "        'P-Value': p, \n",
    "        'Result': independence\n",
    "    })\n",
    "    \n",
    "results_df = (\n",
    "    pd.DataFrame(chi_square_results)\n",
    "    .replace({\"Purpose Categories_\": \"\"}, regex=True)\n",
    ")"
   ]
  },
  {
   "cell_type": "code",
   "execution_count": 16,
   "metadata": {},
   "outputs": [
    {
     "data": {
      "text/html": [
       "<div>\n",
       "<style scoped>\n",
       "    .dataframe tbody tr th:only-of-type {\n",
       "        vertical-align: middle;\n",
       "    }\n",
       "\n",
       "    .dataframe tbody tr th {\n",
       "        vertical-align: top;\n",
       "    }\n",
       "\n",
       "    .dataframe thead th {\n",
       "        text-align: right;\n",
       "    }\n",
       "</style>\n",
       "<table border=\"1\" class=\"dataframe\">\n",
       "  <thead>\n",
       "    <tr style=\"text-align: right;\">\n",
       "      <th></th>\n",
       "      <th>Label 1</th>\n",
       "      <th>Label 2</th>\n",
       "      <th>Chi-Square Statistic</th>\n",
       "      <th>P-Value</th>\n",
       "      <th>Result</th>\n",
       "    </tr>\n",
       "  </thead>\n",
       "  <tbody>\n",
       "    <tr>\n",
       "      <th>102</th>\n",
       "      <td>Customer centrism</td>\n",
       "      <td>Sustainability</td>\n",
       "      <td>18.125860</td>\n",
       "      <td>0.000021</td>\n",
       "      <td>Dependence</td>\n",
       "    </tr>\n",
       "    <tr>\n",
       "      <th>98</th>\n",
       "      <td>Customer centrism</td>\n",
       "      <td>Positive impact</td>\n",
       "      <td>16.939314</td>\n",
       "      <td>0.000039</td>\n",
       "      <td>Dependence</td>\n",
       "    </tr>\n",
       "    <tr>\n",
       "      <th>110</th>\n",
       "      <td>Efficiency &amp; Improvement</td>\n",
       "      <td>Principles</td>\n",
       "      <td>11.871992</td>\n",
       "      <td>0.000570</td>\n",
       "      <td>Dependence</td>\n",
       "    </tr>\n",
       "    <tr>\n",
       "      <th>84</th>\n",
       "      <td>Corporate responsibility</td>\n",
       "      <td>Innovation, Transformation &amp; Technology</td>\n",
       "      <td>10.967083</td>\n",
       "      <td>0.000927</td>\n",
       "      <td>Dependence</td>\n",
       "    </tr>\n",
       "    <tr>\n",
       "      <th>165</th>\n",
       "      <td>Stakeholder value</td>\n",
       "      <td>Sustainability</td>\n",
       "      <td>9.575385</td>\n",
       "      <td>0.001972</td>\n",
       "      <td>Dependence</td>\n",
       "    </tr>\n",
       "    <tr>\n",
       "      <th>152</th>\n",
       "      <td>Positive impact</td>\n",
       "      <td>Stakeholder value</td>\n",
       "      <td>8.958530</td>\n",
       "      <td>0.002762</td>\n",
       "      <td>Dependence</td>\n",
       "    </tr>\n",
       "    <tr>\n",
       "      <th>147</th>\n",
       "      <td>Leadership &amp; Excellence</td>\n",
       "      <td>Sustainability</td>\n",
       "      <td>8.225616</td>\n",
       "      <td>0.004130</td>\n",
       "      <td>Dependence</td>\n",
       "    </tr>\n",
       "    <tr>\n",
       "      <th>69</th>\n",
       "      <td>Corporate culture &amp; Inclusivity</td>\n",
       "      <td>Empowerment</td>\n",
       "      <td>7.766413</td>\n",
       "      <td>0.005323</td>\n",
       "      <td>Dependence</td>\n",
       "    </tr>\n",
       "    <tr>\n",
       "      <th>123</th>\n",
       "      <td>Empowerment</td>\n",
       "      <td>Sustainability</td>\n",
       "      <td>7.266198</td>\n",
       "      <td>0.007026</td>\n",
       "      <td>Dependence</td>\n",
       "    </tr>\n",
       "    <tr>\n",
       "      <th>115</th>\n",
       "      <td>Efficiency &amp; Improvement</td>\n",
       "      <td>Well-being</td>\n",
       "      <td>6.480025</td>\n",
       "      <td>0.010909</td>\n",
       "      <td>Dependence</td>\n",
       "    </tr>\n",
       "    <tr>\n",
       "      <th>153</th>\n",
       "      <td>Positive impact</td>\n",
       "      <td>Sustainability</td>\n",
       "      <td>6.399248</td>\n",
       "      <td>0.011417</td>\n",
       "      <td>Dependence</td>\n",
       "    </tr>\n",
       "    <tr>\n",
       "      <th>136</th>\n",
       "      <td>Innovation, Transformation &amp; Technology</td>\n",
       "      <td>Positive impact</td>\n",
       "      <td>6.161859</td>\n",
       "      <td>0.013053</td>\n",
       "      <td>Dependence</td>\n",
       "    </tr>\n",
       "    <tr>\n",
       "      <th>158</th>\n",
       "      <td>Principles</td>\n",
       "      <td>Sustainability</td>\n",
       "      <td>5.202425</td>\n",
       "      <td>0.022555</td>\n",
       "      <td>Dependence</td>\n",
       "    </tr>\n",
       "    <tr>\n",
       "      <th>137</th>\n",
       "      <td>Innovation, Transformation &amp; Technology</td>\n",
       "      <td>Principles</td>\n",
       "      <td>5.079359</td>\n",
       "      <td>0.024212</td>\n",
       "      <td>Dependence</td>\n",
       "    </tr>\n",
       "    <tr>\n",
       "      <th>74</th>\n",
       "      <td>Corporate culture &amp; Inclusivity</td>\n",
       "      <td>Principles</td>\n",
       "      <td>4.259018</td>\n",
       "      <td>0.039042</td>\n",
       "      <td>Dependence</td>\n",
       "    </tr>\n",
       "  </tbody>\n",
       "</table>\n",
       "</div>"
      ],
      "text/plain": [
       "                                     Label 1  \\\n",
       "102                        Customer centrism   \n",
       "98                         Customer centrism   \n",
       "110                 Efficiency & Improvement   \n",
       "84                  Corporate responsibility   \n",
       "165                        Stakeholder value   \n",
       "152                          Positive impact   \n",
       "147                  Leadership & Excellence   \n",
       "69           Corporate culture & Inclusivity   \n",
       "123                              Empowerment   \n",
       "115                 Efficiency & Improvement   \n",
       "153                          Positive impact   \n",
       "136  Innovation, Transformation & Technology   \n",
       "158                               Principles   \n",
       "137  Innovation, Transformation & Technology   \n",
       "74           Corporate culture & Inclusivity   \n",
       "\n",
       "                                     Label 2  Chi-Square Statistic   P-Value  \\\n",
       "102                           Sustainability             18.125860  0.000021   \n",
       "98                           Positive impact             16.939314  0.000039   \n",
       "110                               Principles             11.871992  0.000570   \n",
       "84   Innovation, Transformation & Technology             10.967083  0.000927   \n",
       "165                           Sustainability              9.575385  0.001972   \n",
       "152                        Stakeholder value              8.958530  0.002762   \n",
       "147                           Sustainability              8.225616  0.004130   \n",
       "69                               Empowerment              7.766413  0.005323   \n",
       "123                           Sustainability              7.266198  0.007026   \n",
       "115                               Well-being              6.480025  0.010909   \n",
       "153                           Sustainability              6.399248  0.011417   \n",
       "136                          Positive impact              6.161859  0.013053   \n",
       "158                           Sustainability              5.202425  0.022555   \n",
       "137                               Principles              5.079359  0.024212   \n",
       "74                                Principles              4.259018  0.039042   \n",
       "\n",
       "         Result  \n",
       "102  Dependence  \n",
       "98   Dependence  \n",
       "110  Dependence  \n",
       "84   Dependence  \n",
       "165  Dependence  \n",
       "152  Dependence  \n",
       "147  Dependence  \n",
       "69   Dependence  \n",
       "123  Dependence  \n",
       "115  Dependence  \n",
       "153  Dependence  \n",
       "136  Dependence  \n",
       "158  Dependence  \n",
       "137  Dependence  \n",
       "74   Dependence  "
      ]
     },
     "execution_count": 16,
     "metadata": {},
     "output_type": "execute_result"
    }
   ],
   "source": [
    "# Filter to show only significant results\n",
    "results_df[results_df['P-Value'] < 0.05].sort_values(by='P-Value', ascending=True)"
   ]
  },
  {
   "cell_type": "code",
   "execution_count": 17,
   "metadata": {},
   "outputs": [
    {
     "data": {
      "application/vnd.plotly.v1+json": {
       "config": {
        "plotlyServerURL": "https://plot.ly"
       },
       "data": [
        {
         "coloraxis": "coloraxis",
         "hovertemplate": "Label 2: %{x}<br>Label 1: %{y}<br>color: %{z}<extra></extra>",
         "name": "0",
         "texttemplate": "%{z}",
         "type": "heatmap",
         "x": [
          "Accessibility",
          "Affordability",
          "Community & Collaboration",
          "Corporate culture & Inclusivity",
          "Corporate responsibility",
          "Customer centrism",
          "Efficiency & Improvement",
          "Empowerment",
          "Growth",
          "Innovation, Transformation & Technology",
          "Leadership & Excellence",
          "Positive impact",
          "Principles",
          "Responsibility",
          "Stakeholder value",
          "Sustainability",
          "Uncategorized",
          "Well-being"
         ],
         "xaxis": "x",
         "y": [
          "Accessibility",
          "Affordability",
          "Community & Collaboration",
          "Corporate culture & Inclusivity",
          "Corporate responsibility",
          "Customer centrism",
          "Efficiency & Improvement",
          "Empowerment",
          "Growth",
          "Innovation, Transformation & Technology",
          "Leadership & Excellence",
          "Positive impact",
          "Principles",
          "Purpose Text",
          "Responsibility",
          "Stakeholder value",
          "Sustainability",
          "Uncategorized"
         ],
         "yaxis": "y",
         "z": [
          [
           null,
           0.993,
           0.983,
           0.606,
           1,
           1,
           0.757,
           0.803,
           0.135,
           0.947,
           0.862,
           0.5,
           0.418,
           1,
           0.96,
           0.663,
           1,
           0.545
          ],
          [
           null,
           null,
           0.587,
           0.838,
           1,
           0.558,
           0.467,
           0.96,
           1,
           0.223,
           0.782,
           0.951,
           1,
           1,
           0.415,
           0.217,
           1,
           0.093
          ],
          [
           null,
           null,
           null,
           0.268,
           1,
           0.053,
           1,
           0.346,
           1,
           1,
           0.934,
           0.38,
           0.376,
           0.246,
           0.709,
           0.542,
           1,
           0.061
          ],
          [
           null,
           null,
           null,
           null,
           0.589,
           0.499,
           0.986,
           0.005,
           0.588,
           0.265,
           0.917,
           0.081,
           0.039,
           0.435,
           0.231,
           0.585,
           1,
           1
          ],
          [
           null,
           null,
           null,
           null,
           null,
           0.102,
           0.274,
           1,
           0.135,
           0.001,
           0.4,
           0.084,
           0.929,
           0.243,
           1,
           0.135,
           1,
           0.913
          ],
          [
           null,
           null,
           null,
           null,
           null,
           null,
           0.356,
           1,
           1,
           0.977,
           0.25,
           0,
           0.901,
           0.241,
           0.1,
           0,
           1,
           0.078
          ],
          [
           null,
           null,
           null,
           null,
           null,
           null,
           null,
           0.299,
           0.663,
           0.505,
           1,
           1,
           0.001,
           0.356,
           0.894,
           0.353,
           1,
           0.011
          ],
          [
           null,
           null,
           null,
           null,
           null,
           null,
           null,
           null,
           0.443,
           0.844,
           1,
           0.2,
           0.277,
           0.91,
           0.243,
           0.007,
           1,
           1
          ],
          [
           null,
           null,
           null,
           null,
           null,
           null,
           null,
           null,
           null,
           0.402,
           0.055,
           0.921,
           0.673,
           1,
           0.89,
           0.127,
           0.664,
           0.368
          ],
          [
           null,
           null,
           null,
           null,
           null,
           null,
           null,
           null,
           null,
           null,
           0.218,
           0.013,
           0.024,
           0.068,
           0.646,
           0.663,
           0.299,
           0.573
          ],
          [
           null,
           null,
           null,
           null,
           null,
           null,
           null,
           null,
           null,
           null,
           null,
           0.743,
           0.887,
           0.56,
           0.202,
           0.004,
           0.949,
           1
          ],
          [
           null,
           null,
           null,
           null,
           null,
           null,
           null,
           null,
           null,
           null,
           null,
           null,
           0.771,
           0.753,
           0.003,
           0.011,
           0.88,
           0.484
          ],
          [
           null,
           null,
           null,
           null,
           null,
           null,
           null,
           null,
           null,
           null,
           null,
           null,
           null,
           1,
           0.57,
           0.023,
           1,
           1
          ],
          [
           0.464,
           0.464,
           0.464,
           0.464,
           0.464,
           0.464,
           0.464,
           0.464,
           0.464,
           0.464,
           0.464,
           0.464,
           0.464,
           0.464,
           0.464,
           0.464,
           0.464,
           0.464
          ],
          [
           null,
           null,
           null,
           null,
           null,
           null,
           null,
           null,
           null,
           null,
           null,
           null,
           null,
           null,
           1,
           0.065,
           1,
           0.672
          ],
          [
           null,
           null,
           null,
           null,
           null,
           null,
           null,
           null,
           null,
           null,
           null,
           null,
           null,
           null,
           null,
           0.002,
           0.888,
           0.171
          ],
          [
           null,
           null,
           null,
           null,
           null,
           null,
           null,
           null,
           null,
           null,
           null,
           null,
           null,
           null,
           null,
           null,
           0.296,
           0.376
          ],
          [
           null,
           null,
           null,
           null,
           null,
           null,
           null,
           null,
           null,
           null,
           null,
           null,
           null,
           null,
           null,
           null,
           null,
           1
          ]
         ]
        }
       ],
       "layout": {
        "coloraxis": {
         "colorscale": [
          [
           0,
           "#440154"
          ],
          [
           0.1111111111111111,
           "#482878"
          ],
          [
           0.2222222222222222,
           "#3e4989"
          ],
          [
           0.3333333333333333,
           "#31688e"
          ],
          [
           0.4444444444444444,
           "#26828e"
          ],
          [
           0.5555555555555556,
           "#1f9e89"
          ],
          [
           0.6666666666666666,
           "#35b779"
          ],
          [
           0.7777777777777778,
           "#6ece58"
          ],
          [
           0.8888888888888888,
           "#b5de2b"
          ],
          [
           1,
           "#fde725"
          ]
         ]
        },
        "height": 900,
        "margin": {
         "t": 60
        },
        "template": {
         "data": {
          "bar": [
           {
            "error_x": {
             "color": "#2a3f5f"
            },
            "error_y": {
             "color": "#2a3f5f"
            },
            "marker": {
             "line": {
              "color": "#E5ECF6",
              "width": 0.5
             },
             "pattern": {
              "fillmode": "overlay",
              "size": 10,
              "solidity": 0.2
             }
            },
            "type": "bar"
           }
          ],
          "barpolar": [
           {
            "marker": {
             "line": {
              "color": "#E5ECF6",
              "width": 0.5
             },
             "pattern": {
              "fillmode": "overlay",
              "size": 10,
              "solidity": 0.2
             }
            },
            "type": "barpolar"
           }
          ],
          "carpet": [
           {
            "aaxis": {
             "endlinecolor": "#2a3f5f",
             "gridcolor": "white",
             "linecolor": "white",
             "minorgridcolor": "white",
             "startlinecolor": "#2a3f5f"
            },
            "baxis": {
             "endlinecolor": "#2a3f5f",
             "gridcolor": "white",
             "linecolor": "white",
             "minorgridcolor": "white",
             "startlinecolor": "#2a3f5f"
            },
            "type": "carpet"
           }
          ],
          "choropleth": [
           {
            "colorbar": {
             "outlinewidth": 0,
             "ticks": ""
            },
            "type": "choropleth"
           }
          ],
          "contour": [
           {
            "colorbar": {
             "outlinewidth": 0,
             "ticks": ""
            },
            "colorscale": [
             [
              0,
              "#0d0887"
             ],
             [
              0.1111111111111111,
              "#46039f"
             ],
             [
              0.2222222222222222,
              "#7201a8"
             ],
             [
              0.3333333333333333,
              "#9c179e"
             ],
             [
              0.4444444444444444,
              "#bd3786"
             ],
             [
              0.5555555555555556,
              "#d8576b"
             ],
             [
              0.6666666666666666,
              "#ed7953"
             ],
             [
              0.7777777777777778,
              "#fb9f3a"
             ],
             [
              0.8888888888888888,
              "#fdca26"
             ],
             [
              1,
              "#f0f921"
             ]
            ],
            "type": "contour"
           }
          ],
          "contourcarpet": [
           {
            "colorbar": {
             "outlinewidth": 0,
             "ticks": ""
            },
            "type": "contourcarpet"
           }
          ],
          "heatmap": [
           {
            "colorbar": {
             "outlinewidth": 0,
             "ticks": ""
            },
            "colorscale": [
             [
              0,
              "#0d0887"
             ],
             [
              0.1111111111111111,
              "#46039f"
             ],
             [
              0.2222222222222222,
              "#7201a8"
             ],
             [
              0.3333333333333333,
              "#9c179e"
             ],
             [
              0.4444444444444444,
              "#bd3786"
             ],
             [
              0.5555555555555556,
              "#d8576b"
             ],
             [
              0.6666666666666666,
              "#ed7953"
             ],
             [
              0.7777777777777778,
              "#fb9f3a"
             ],
             [
              0.8888888888888888,
              "#fdca26"
             ],
             [
              1,
              "#f0f921"
             ]
            ],
            "type": "heatmap"
           }
          ],
          "heatmapgl": [
           {
            "colorbar": {
             "outlinewidth": 0,
             "ticks": ""
            },
            "colorscale": [
             [
              0,
              "#0d0887"
             ],
             [
              0.1111111111111111,
              "#46039f"
             ],
             [
              0.2222222222222222,
              "#7201a8"
             ],
             [
              0.3333333333333333,
              "#9c179e"
             ],
             [
              0.4444444444444444,
              "#bd3786"
             ],
             [
              0.5555555555555556,
              "#d8576b"
             ],
             [
              0.6666666666666666,
              "#ed7953"
             ],
             [
              0.7777777777777778,
              "#fb9f3a"
             ],
             [
              0.8888888888888888,
              "#fdca26"
             ],
             [
              1,
              "#f0f921"
             ]
            ],
            "type": "heatmapgl"
           }
          ],
          "histogram": [
           {
            "marker": {
             "pattern": {
              "fillmode": "overlay",
              "size": 10,
              "solidity": 0.2
             }
            },
            "type": "histogram"
           }
          ],
          "histogram2d": [
           {
            "colorbar": {
             "outlinewidth": 0,
             "ticks": ""
            },
            "colorscale": [
             [
              0,
              "#0d0887"
             ],
             [
              0.1111111111111111,
              "#46039f"
             ],
             [
              0.2222222222222222,
              "#7201a8"
             ],
             [
              0.3333333333333333,
              "#9c179e"
             ],
             [
              0.4444444444444444,
              "#bd3786"
             ],
             [
              0.5555555555555556,
              "#d8576b"
             ],
             [
              0.6666666666666666,
              "#ed7953"
             ],
             [
              0.7777777777777778,
              "#fb9f3a"
             ],
             [
              0.8888888888888888,
              "#fdca26"
             ],
             [
              1,
              "#f0f921"
             ]
            ],
            "type": "histogram2d"
           }
          ],
          "histogram2dcontour": [
           {
            "colorbar": {
             "outlinewidth": 0,
             "ticks": ""
            },
            "colorscale": [
             [
              0,
              "#0d0887"
             ],
             [
              0.1111111111111111,
              "#46039f"
             ],
             [
              0.2222222222222222,
              "#7201a8"
             ],
             [
              0.3333333333333333,
              "#9c179e"
             ],
             [
              0.4444444444444444,
              "#bd3786"
             ],
             [
              0.5555555555555556,
              "#d8576b"
             ],
             [
              0.6666666666666666,
              "#ed7953"
             ],
             [
              0.7777777777777778,
              "#fb9f3a"
             ],
             [
              0.8888888888888888,
              "#fdca26"
             ],
             [
              1,
              "#f0f921"
             ]
            ],
            "type": "histogram2dcontour"
           }
          ],
          "mesh3d": [
           {
            "colorbar": {
             "outlinewidth": 0,
             "ticks": ""
            },
            "type": "mesh3d"
           }
          ],
          "parcoords": [
           {
            "line": {
             "colorbar": {
              "outlinewidth": 0,
              "ticks": ""
             }
            },
            "type": "parcoords"
           }
          ],
          "pie": [
           {
            "automargin": true,
            "type": "pie"
           }
          ],
          "scatter": [
           {
            "fillpattern": {
             "fillmode": "overlay",
             "size": 10,
             "solidity": 0.2
            },
            "type": "scatter"
           }
          ],
          "scatter3d": [
           {
            "line": {
             "colorbar": {
              "outlinewidth": 0,
              "ticks": ""
             }
            },
            "marker": {
             "colorbar": {
              "outlinewidth": 0,
              "ticks": ""
             }
            },
            "type": "scatter3d"
           }
          ],
          "scattercarpet": [
           {
            "marker": {
             "colorbar": {
              "outlinewidth": 0,
              "ticks": ""
             }
            },
            "type": "scattercarpet"
           }
          ],
          "scattergeo": [
           {
            "marker": {
             "colorbar": {
              "outlinewidth": 0,
              "ticks": ""
             }
            },
            "type": "scattergeo"
           }
          ],
          "scattergl": [
           {
            "marker": {
             "colorbar": {
              "outlinewidth": 0,
              "ticks": ""
             }
            },
            "type": "scattergl"
           }
          ],
          "scattermapbox": [
           {
            "marker": {
             "colorbar": {
              "outlinewidth": 0,
              "ticks": ""
             }
            },
            "type": "scattermapbox"
           }
          ],
          "scatterpolar": [
           {
            "marker": {
             "colorbar": {
              "outlinewidth": 0,
              "ticks": ""
             }
            },
            "type": "scatterpolar"
           }
          ],
          "scatterpolargl": [
           {
            "marker": {
             "colorbar": {
              "outlinewidth": 0,
              "ticks": ""
             }
            },
            "type": "scatterpolargl"
           }
          ],
          "scatterternary": [
           {
            "marker": {
             "colorbar": {
              "outlinewidth": 0,
              "ticks": ""
             }
            },
            "type": "scatterternary"
           }
          ],
          "surface": [
           {
            "colorbar": {
             "outlinewidth": 0,
             "ticks": ""
            },
            "colorscale": [
             [
              0,
              "#0d0887"
             ],
             [
              0.1111111111111111,
              "#46039f"
             ],
             [
              0.2222222222222222,
              "#7201a8"
             ],
             [
              0.3333333333333333,
              "#9c179e"
             ],
             [
              0.4444444444444444,
              "#bd3786"
             ],
             [
              0.5555555555555556,
              "#d8576b"
             ],
             [
              0.6666666666666666,
              "#ed7953"
             ],
             [
              0.7777777777777778,
              "#fb9f3a"
             ],
             [
              0.8888888888888888,
              "#fdca26"
             ],
             [
              1,
              "#f0f921"
             ]
            ],
            "type": "surface"
           }
          ],
          "table": [
           {
            "cells": {
             "fill": {
              "color": "#EBF0F8"
             },
             "line": {
              "color": "white"
             }
            },
            "header": {
             "fill": {
              "color": "#C8D4E3"
             },
             "line": {
              "color": "white"
             }
            },
            "type": "table"
           }
          ]
         },
         "layout": {
          "annotationdefaults": {
           "arrowcolor": "#2a3f5f",
           "arrowhead": 0,
           "arrowwidth": 1
          },
          "autotypenumbers": "strict",
          "coloraxis": {
           "colorbar": {
            "outlinewidth": 0,
            "ticks": ""
           }
          },
          "colorscale": {
           "diverging": [
            [
             0,
             "#8e0152"
            ],
            [
             0.1,
             "#c51b7d"
            ],
            [
             0.2,
             "#de77ae"
            ],
            [
             0.3,
             "#f1b6da"
            ],
            [
             0.4,
             "#fde0ef"
            ],
            [
             0.5,
             "#f7f7f7"
            ],
            [
             0.6,
             "#e6f5d0"
            ],
            [
             0.7,
             "#b8e186"
            ],
            [
             0.8,
             "#7fbc41"
            ],
            [
             0.9,
             "#4d9221"
            ],
            [
             1,
             "#276419"
            ]
           ],
           "sequential": [
            [
             0,
             "#0d0887"
            ],
            [
             0.1111111111111111,
             "#46039f"
            ],
            [
             0.2222222222222222,
             "#7201a8"
            ],
            [
             0.3333333333333333,
             "#9c179e"
            ],
            [
             0.4444444444444444,
             "#bd3786"
            ],
            [
             0.5555555555555556,
             "#d8576b"
            ],
            [
             0.6666666666666666,
             "#ed7953"
            ],
            [
             0.7777777777777778,
             "#fb9f3a"
            ],
            [
             0.8888888888888888,
             "#fdca26"
            ],
            [
             1,
             "#f0f921"
            ]
           ],
           "sequentialminus": [
            [
             0,
             "#0d0887"
            ],
            [
             0.1111111111111111,
             "#46039f"
            ],
            [
             0.2222222222222222,
             "#7201a8"
            ],
            [
             0.3333333333333333,
             "#9c179e"
            ],
            [
             0.4444444444444444,
             "#bd3786"
            ],
            [
             0.5555555555555556,
             "#d8576b"
            ],
            [
             0.6666666666666666,
             "#ed7953"
            ],
            [
             0.7777777777777778,
             "#fb9f3a"
            ],
            [
             0.8888888888888888,
             "#fdca26"
            ],
            [
             1,
             "#f0f921"
            ]
           ]
          },
          "colorway": [
           "#636efa",
           "#EF553B",
           "#00cc96",
           "#ab63fa",
           "#FFA15A",
           "#19d3f3",
           "#FF6692",
           "#B6E880",
           "#FF97FF",
           "#FECB52"
          ],
          "font": {
           "color": "#2a3f5f"
          },
          "geo": {
           "bgcolor": "white",
           "lakecolor": "white",
           "landcolor": "#E5ECF6",
           "showlakes": true,
           "showland": true,
           "subunitcolor": "white"
          },
          "hoverlabel": {
           "align": "left"
          },
          "hovermode": "closest",
          "mapbox": {
           "style": "light"
          },
          "paper_bgcolor": "white",
          "plot_bgcolor": "#E5ECF6",
          "polar": {
           "angularaxis": {
            "gridcolor": "white",
            "linecolor": "white",
            "ticks": ""
           },
           "bgcolor": "#E5ECF6",
           "radialaxis": {
            "gridcolor": "white",
            "linecolor": "white",
            "ticks": ""
           }
          },
          "scene": {
           "xaxis": {
            "backgroundcolor": "#E5ECF6",
            "gridcolor": "white",
            "gridwidth": 2,
            "linecolor": "white",
            "showbackground": true,
            "ticks": "",
            "zerolinecolor": "white"
           },
           "yaxis": {
            "backgroundcolor": "#E5ECF6",
            "gridcolor": "white",
            "gridwidth": 2,
            "linecolor": "white",
            "showbackground": true,
            "ticks": "",
            "zerolinecolor": "white"
           },
           "zaxis": {
            "backgroundcolor": "#E5ECF6",
            "gridcolor": "white",
            "gridwidth": 2,
            "linecolor": "white",
            "showbackground": true,
            "ticks": "",
            "zerolinecolor": "white"
           }
          },
          "shapedefaults": {
           "line": {
            "color": "#2a3f5f"
           }
          },
          "ternary": {
           "aaxis": {
            "gridcolor": "white",
            "linecolor": "white",
            "ticks": ""
           },
           "baxis": {
            "gridcolor": "white",
            "linecolor": "white",
            "ticks": ""
           },
           "bgcolor": "#E5ECF6",
           "caxis": {
            "gridcolor": "white",
            "linecolor": "white",
            "ticks": ""
           }
          },
          "title": {
           "x": 0.05
          },
          "xaxis": {
           "automargin": true,
           "gridcolor": "white",
           "linecolor": "white",
           "ticks": "",
           "title": {
            "standoff": 15
           },
           "zerolinecolor": "white",
           "zerolinewidth": 2
          },
          "yaxis": {
           "automargin": true,
           "gridcolor": "white",
           "linecolor": "white",
           "ticks": "",
           "title": {
            "standoff": 15
           },
           "zerolinecolor": "white",
           "zerolinewidth": 2
          }
         }
        },
        "title": {
         "text": "P-Value Heatmap for Label Pairs",
         "x": 0.3
        },
        "width": 800,
        "xaxis": {
         "anchor": "y",
         "domain": [
          0,
          1
         ],
         "title": {
          "text": "Label 2"
         }
        },
        "yaxis": {
         "anchor": "x",
         "autorange": "reversed",
         "domain": [
          0,
          1
         ],
         "title": {
          "text": "Label 1"
         }
        }
       }
      }
     },
     "metadata": {},
     "output_type": "display_data"
    }
   ],
   "source": [
    "(\n",
    "    px.imshow(\n",
    "        results_df.pivot(index=\"Label 1\", columns=\"Label 2\", values=\"P-Value\").round(3),\n",
    "        text_auto=True,\n",
    "        aspect='auto',\n",
    "        color_continuous_scale='Viridis',\n",
    "        width=800,\n",
    "        height=900\n",
    "    )\n",
    "    .update_layout(\n",
    "        title='P-Value Heatmap for Label Pairs',\n",
    "        xaxis_title='Label 2',\n",
    "        yaxis_title='Label 1',\n",
    "        title_x=0.3,\n",
    "    )\n",
    ")\n"
   ]
  },
  {
   "cell_type": "code",
   "execution_count": null,
   "metadata": {},
   "outputs": [],
   "source": []
  }
 ],
 "metadata": {
  "kernelspec": {
   "display_name": ".venv",
   "language": "python",
   "name": "python3"
  },
  "language_info": {
   "codemirror_mode": {
    "name": "ipython",
    "version": 3
   },
   "file_extension": ".py",
   "mimetype": "text/x-python",
   "name": "python",
   "nbconvert_exporter": "python",
   "pygments_lexer": "ipython3",
   "version": "3.10.0"
  }
 },
 "nbformat": 4,
 "nbformat_minor": 2
}
