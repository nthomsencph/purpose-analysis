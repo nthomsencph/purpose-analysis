{
 "cells": [
  {
   "cell_type": "code",
   "execution_count": 2,
   "metadata": {},
   "outputs": [],
   "source": [
    "import os\n",
    "import json\n",
    "from tqdm import tqdm\n",
    "from decouple import config\n",
    "import pandas as pd\n",
    "import re\n",
    "from pathlib import Path\n",
    "\n",
    "# genai\n",
    "from langchain.chat_models import AzureChatOpenAI\n",
    "from langchain import LLMChain\n",
    "from langchain.prompts.chat import (\n",
    "    ChatPromptTemplate,\n",
    "    SystemMessagePromptTemplate,\n",
    "    HumanMessagePromptTemplate,\n",
    ")"
   ]
  },
  {
   "cell_type": "code",
   "execution_count": 291,
   "metadata": {},
   "outputs": [],
   "source": [
    "# Settings\n",
    "tqdm.pandas()\n",
    "pd.options.plotting.backend = \"plotly\""
   ]
  },
  {
   "cell_type": "markdown",
   "metadata": {},
   "source": [
    "### GenAI - Classification"
   ]
  },
  {
   "cell_type": "code",
   "execution_count": 293,
   "metadata": {},
   "outputs": [],
   "source": [
    "os.environ[\"OPENAI_API_TYPE\"] = config(\"OPENAI_API_TYPE\")\n",
    "os.environ[\"OPENAI_API_VERSION\"] = config(\"OPENAI_API_VERSION\")\n",
    "os.environ[\"OPENAI_API_BASE\"] = config(\"OPENAI_API_BASE\")\n",
    "os.environ[\"OPENAI_API_KEY\"] = config(\"OPENAI_API_KEY\")"
   ]
  },
  {
   "cell_type": "code",
   "execution_count": 3,
   "metadata": {},
   "outputs": [
    {
     "name": "stderr",
     "output_type": "stream",
     "text": [
      "/Users/nicolai/Desktop/repos/purpose/.venv/lib/python3.10/site-packages/langchain/chat_models/azure_openai.py:156: UserWarning: As of openai>=1.0.0, Azure endpoints should be specified via the `azure_endpoint` param not `openai_api_base` (or alias `base_url`). Updating `openai_api_base` from https://azure-nttdata-llm.openai.azure.com/ to https://azure-nttdata-llm.openai.azure.com/openai.\n",
      "  warnings.warn(\n",
      "/Users/nicolai/Desktop/repos/purpose/.venv/lib/python3.10/site-packages/langchain/chat_models/azure_openai.py:163: UserWarning: As of openai>=1.0.0, if `deployment_name` (or alias `azure_deployment`) is specified then `openai_api_base` (or alias `base_url`) should not be. Instead use `deployment_name` (or alias `azure_deployment`) and `azure_endpoint`.\n",
      "  warnings.warn(\n",
      "/Users/nicolai/Desktop/repos/purpose/.venv/lib/python3.10/site-packages/langchain/chat_models/azure_openai.py:171: UserWarning: As of openai>=1.0.0, if `openai_api_base` (or alias `base_url`) is specified it is expected to be of the form https://example-resource.azure.openai.com/openai/deployments/example-deployment. Updating https://azure-nttdata-llm.openai.azure.com/ to https://azure-nttdata-llm.openai.azure.com/openai.\n",
      "  warnings.warn(\n"
     ]
    }
   ],
   "source": [
    "llm = AzureChatOpenAI(\n",
    "    deployment_name=\"bv-llm\",\n",
    "    model_name=\"gpt-35-turbo-16k\",\n",
    ")"
   ]
  },
  {
   "cell_type": "code",
   "execution_count": 4,
   "metadata": {},
   "outputs": [],
   "source": [
    "\n",
    "system_message = \"\"\"Your job is to identify abstract purpose categories from the vision and mission statement of a company. Based on a text, identify the underlaying focuses of the company: What do they believe in? List only the general categories in and nothing else.\n",
    "\n",
    "Examples ofpurpose categories could be\n",
    "* Customer centrism\n",
    "* Affordability\n",
    "* Stakeholder value\n",
    "* Sustainability\n",
    "* Innovation\n",
    "\"\"\"\n",
    "system_message_prompt = SystemMessagePromptTemplate.from_template(system_message)"
   ]
  },
  {
   "cell_type": "code",
   "execution_count": 5,
   "metadata": {},
   "outputs": [],
   "source": [
    "\n",
    "human_template=\"\"\"Text: \n",
    "'{text}'\n",
    "\n",
    "What are the corporate purpose categories of the text above? Answer with a comma-separated list of up to five general purpose categories.\n",
    "\"\"\"\n",
    "human_message_prompt = HumanMessagePromptTemplate.from_template(human_template)"
   ]
  },
  {
   "cell_type": "code",
   "execution_count": 6,
   "metadata": {},
   "outputs": [],
   "source": [
    "chat_prompt = ChatPromptTemplate.from_messages(\n",
    "    [\n",
    "        system_message_prompt,\n",
    "        human_message_prompt\n",
    "    ]\n",
    ")"
   ]
  },
  {
   "cell_type": "code",
   "execution_count": 7,
   "metadata": {},
   "outputs": [],
   "source": [
    "chain = LLMChain(llm=llm, prompt=chat_prompt)"
   ]
  },
  {
   "cell_type": "code",
   "execution_count": null,
   "metadata": {},
   "outputs": [],
   "source": [
    "def run_llm(text):\n",
    "    result = chain.run(text)\n",
    "    return result.split(\", \")"
   ]
  },
  {
   "cell_type": "markdown",
   "metadata": {},
   "source": [
    "### Load data"
   ]
  },
  {
   "cell_type": "code",
   "execution_count": 135,
   "metadata": {},
   "outputs": [],
   "source": [
    "dataf = pd.read_excel(\n",
    "    \"data/purpose.xlsx\",\n",
    "    # read only specific columns\n",
    "    usecols=[\"Purpose Text\", \"Company name\"],\n",
    ")"
   ]
  },
  {
   "cell_type": "markdown",
   "metadata": {},
   "source": [
    "### Classification"
   ]
  },
  {
   "cell_type": "code",
   "execution_count": 22,
   "metadata": {},
   "outputs": [
    {
     "name": "stderr",
     "output_type": "stream",
     "text": [
      "100%|██████████| 437/437 [02:41<00:00,  2.70it/s]\n"
     ]
    }
   ],
   "source": [
    "dataf[\"Purpose Categories\"] = dataf[\"Purpose Text\"].progress_apply(run_llm)"
   ]
  },
  {
   "cell_type": "markdown",
   "metadata": {},
   "source": [
    "### Save results"
   ]
  },
  {
   "cell_type": "code",
   "execution_count": 23,
   "metadata": {},
   "outputs": [],
   "source": [
    "# split comma separated values into columns\n",
    "dataf.to_csv(\"data/classified-raw.csv\", index=False)"
   ]
  },
  {
   "cell_type": "markdown",
   "metadata": {},
   "source": [
    "### Load results"
   ]
  },
  {
   "cell_type": "code",
   "execution_count": 7,
   "metadata": {},
   "outputs": [],
   "source": [
    "dataf = pd.read_csv(\"data/classified-raw.csv\")"
   ]
  },
  {
   "cell_type": "code",
   "execution_count": 9,
   "metadata": {},
   "outputs": [],
   "source": [
    "def handle_bugs(categories):\n",
    "    cats = eval(categories)\n",
    "    if \"1.\" in cats[0]:\n",
    "        cats = re.sub(r\"\\d\\.\", \"\", cats[0])\n",
    "        return [s.strip() for s in cats.split(\"\\n\")]\n",
    "\n",
    "    elif \"\\n- \" in cats[0]:\n",
    "        return [s.strip(\":\").strip() for s in cats[0].split(\"\\n- \")]\n",
    "\n",
    "    return cats\n",
    "\n",
    "dataf[\"Purpose Categories\"] = dataf[\"Purpose Categories\"].apply(handle_bugs)"
   ]
  },
  {
   "cell_type": "markdown",
   "metadata": {},
   "source": [
    "### Load mapping"
   ]
  },
  {
   "cell_type": "markdown",
   "metadata": {},
   "source": [
    "AI-generated mapping of high-variability labels to general labels."
   ]
  },
  {
   "cell_type": "code",
   "execution_count": 12,
   "metadata": {},
   "outputs": [],
   "source": [
    "with Path(\"mapping.json\").open(\"r\") as f:\n",
    "    category_mapping = json.load(f)"
   ]
  },
  {
   "cell_type": "code",
   "execution_count": 13,
   "metadata": {},
   "outputs": [],
   "source": [
    "dataf[\"Purpose Categories\"] = (\n",
    "    dataf[\"Purpose Categories\"]\n",
    "    .apply(lambda x: list(set([category_mapping.get(i.strip(), i.strip()) for i in x])))\n",
    "    .apply(lambda x: [i for i in x if i])\n",
    ")"
   ]
  },
  {
   "cell_type": "code",
   "execution_count": 15,
   "metadata": {},
   "outputs": [],
   "source": [
    "dataf.to_csv(\"data/classified-mapped.csv\", index=False)"
   ]
  }
 ],
 "metadata": {
  "kernelspec": {
   "display_name": ".venv",
   "language": "python",
   "name": "python3"
  },
  "language_info": {
   "codemirror_mode": {
    "name": "ipython",
    "version": 3
   },
   "file_extension": ".py",
   "mimetype": "text/x-python",
   "name": "python",
   "nbconvert_exporter": "python",
   "pygments_lexer": "ipython3",
   "version": "3.10.0"
  }
 },
 "nbformat": 4,
 "nbformat_minor": 2
}
